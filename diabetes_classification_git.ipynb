{
 "cells": [
  {
   "cell_type": "markdown",
   "id": "5b8ab2a1",
   "metadata": {},
   "source": [
    "# DIABETES Diagnostics\n",
    "\n",
    "\n",
    "\n",
    "This dataset is a part of original larger dataset from the National Institute of Diabetes and Digestive and Kidney Diseases. \n",
    "Here the objective is to predict whether a patient has diabetes based on diagnostic measurements\n",
    "\n",
    "Several constraints were placed on the selection of these instances from a larger database. In particular, all patients here are females at least 21 years old of Pima Indian heritage.\n",
    "\n",
    "    Pregnancies: Number of times pregnant\n",
    "    Glucose: Plasma glucose concentration a 2 hours in an oral glucose tolerance test\n",
    "    BloodPressure: Diastolic blood pressure (mm Hg)\n",
    "    SkinThickness: Triceps skin fold thickness (mm)\n",
    "    Insulin: 2-Hour serum insulin (mu U/ml)\n",
    "    BMI: Body mass index (weight in kg/(height in m)^2)\n",
    "    DiabetesPedigreeFunction: Diabetes pedigree function\n",
    "    Age: Age (years)\n",
    "    Outcome: Class variable (0 or 1)\n",
    "\n",
    "\n",
    "Number of Instances: 768\n",
    "Number of Attributes: 8 plus class\n",
    "For Each Attribute: (all numeric-valued)\n"
   ]
  },
  {
   "cell_type": "markdown",
   "id": "de91d88d",
   "metadata": {},
   "source": [
    "## Import libraries"
   ]
  },
  {
   "cell_type": "code",
   "execution_count": 12,
   "id": "b33993d1",
   "metadata": {
    "ExecuteTime": {
     "end_time": "2021-12-30T18:15:35.160442Z",
     "start_time": "2021-12-30T18:15:35.156120Z"
    }
   },
   "outputs": [],
   "source": [
    "import pandas as pd\n",
    "import numpy as np\n",
    "import matplotlib.pyplot as plt\n",
    "import seaborn as sns\n",
    "import missingno as msno\n",
    "\n",
    "\n",
    "# import models\n",
    "from sklearn.model_selection import train_test_split,GridSearchCV,cross_val_score\n",
    "from sklearn.metrics import confusion_matrix, accuracy_score, classification_report\n",
    "\n",
    "from sklearn.linear_model import LogisticRegression\n",
    "from sklearn.neighbors import KNeighborsClassifier\n",
    "from sklearn.svm import SVC\n",
    "from sklearn.tree import DecisionTreeClassifier\n",
    "from sklearn.ensemble import RandomForestClassifier\n",
    "from sklearn.ensemble import GradientBoostingClassifier\n",
    "from lightgbm import LGBMClassifier\n",
    "from sklearn.model_selection import KFold\n",
    "from sklearn.neural_network import MLPClassifier"
   ]
  },
  {
   "cell_type": "markdown",
   "id": "22144f39",
   "metadata": {},
   "source": [
    "## Explorative data analysis"
   ]
  },
  {
   "cell_type": "code",
   "execution_count": 119,
   "id": "055a620a",
   "metadata": {
    "ExecuteTime": {
     "end_time": "2021-12-30T23:53:06.680482Z",
     "start_time": "2021-12-30T23:53:06.664887Z"
    }
   },
   "outputs": [
    {
     "data": {
      "text/html": [
       "<div>\n",
       "<style scoped>\n",
       "    .dataframe tbody tr th:only-of-type {\n",
       "        vertical-align: middle;\n",
       "    }\n",
       "\n",
       "    .dataframe tbody tr th {\n",
       "        vertical-align: top;\n",
       "    }\n",
       "\n",
       "    .dataframe thead th {\n",
       "        text-align: right;\n",
       "    }\n",
       "</style>\n",
       "<table border=\"1\" class=\"dataframe\">\n",
       "  <thead>\n",
       "    <tr style=\"text-align: right;\">\n",
       "      <th></th>\n",
       "      <th>Pregnancies</th>\n",
       "      <th>Glucose</th>\n",
       "      <th>BloodPressure</th>\n",
       "      <th>SkinThickness</th>\n",
       "      <th>Insulin</th>\n",
       "      <th>BMI</th>\n",
       "      <th>DiabetesPedigreeFunction</th>\n",
       "      <th>Age</th>\n",
       "      <th>Outcome</th>\n",
       "    </tr>\n",
       "  </thead>\n",
       "  <tbody>\n",
       "    <tr>\n",
       "      <th>0</th>\n",
       "      <td>6</td>\n",
       "      <td>148</td>\n",
       "      <td>72</td>\n",
       "      <td>35</td>\n",
       "      <td>0</td>\n",
       "      <td>33.6</td>\n",
       "      <td>0.627</td>\n",
       "      <td>50</td>\n",
       "      <td>1</td>\n",
       "    </tr>\n",
       "    <tr>\n",
       "      <th>1</th>\n",
       "      <td>1</td>\n",
       "      <td>85</td>\n",
       "      <td>66</td>\n",
       "      <td>29</td>\n",
       "      <td>0</td>\n",
       "      <td>26.6</td>\n",
       "      <td>0.351</td>\n",
       "      <td>31</td>\n",
       "      <td>0</td>\n",
       "    </tr>\n",
       "    <tr>\n",
       "      <th>2</th>\n",
       "      <td>8</td>\n",
       "      <td>183</td>\n",
       "      <td>64</td>\n",
       "      <td>0</td>\n",
       "      <td>0</td>\n",
       "      <td>23.3</td>\n",
       "      <td>0.672</td>\n",
       "      <td>32</td>\n",
       "      <td>1</td>\n",
       "    </tr>\n",
       "    <tr>\n",
       "      <th>3</th>\n",
       "      <td>1</td>\n",
       "      <td>89</td>\n",
       "      <td>66</td>\n",
       "      <td>23</td>\n",
       "      <td>94</td>\n",
       "      <td>28.1</td>\n",
       "      <td>0.167</td>\n",
       "      <td>21</td>\n",
       "      <td>0</td>\n",
       "    </tr>\n",
       "    <tr>\n",
       "      <th>4</th>\n",
       "      <td>0</td>\n",
       "      <td>137</td>\n",
       "      <td>40</td>\n",
       "      <td>35</td>\n",
       "      <td>168</td>\n",
       "      <td>43.1</td>\n",
       "      <td>2.288</td>\n",
       "      <td>33</td>\n",
       "      <td>1</td>\n",
       "    </tr>\n",
       "    <tr>\n",
       "      <th>...</th>\n",
       "      <td>...</td>\n",
       "      <td>...</td>\n",
       "      <td>...</td>\n",
       "      <td>...</td>\n",
       "      <td>...</td>\n",
       "      <td>...</td>\n",
       "      <td>...</td>\n",
       "      <td>...</td>\n",
       "      <td>...</td>\n",
       "    </tr>\n",
       "    <tr>\n",
       "      <th>763</th>\n",
       "      <td>10</td>\n",
       "      <td>101</td>\n",
       "      <td>76</td>\n",
       "      <td>48</td>\n",
       "      <td>180</td>\n",
       "      <td>32.9</td>\n",
       "      <td>0.171</td>\n",
       "      <td>63</td>\n",
       "      <td>0</td>\n",
       "    </tr>\n",
       "    <tr>\n",
       "      <th>764</th>\n",
       "      <td>2</td>\n",
       "      <td>122</td>\n",
       "      <td>70</td>\n",
       "      <td>27</td>\n",
       "      <td>0</td>\n",
       "      <td>36.8</td>\n",
       "      <td>0.340</td>\n",
       "      <td>27</td>\n",
       "      <td>0</td>\n",
       "    </tr>\n",
       "    <tr>\n",
       "      <th>765</th>\n",
       "      <td>5</td>\n",
       "      <td>121</td>\n",
       "      <td>72</td>\n",
       "      <td>23</td>\n",
       "      <td>112</td>\n",
       "      <td>26.2</td>\n",
       "      <td>0.245</td>\n",
       "      <td>30</td>\n",
       "      <td>0</td>\n",
       "    </tr>\n",
       "    <tr>\n",
       "      <th>766</th>\n",
       "      <td>1</td>\n",
       "      <td>126</td>\n",
       "      <td>60</td>\n",
       "      <td>0</td>\n",
       "      <td>0</td>\n",
       "      <td>30.1</td>\n",
       "      <td>0.349</td>\n",
       "      <td>47</td>\n",
       "      <td>1</td>\n",
       "    </tr>\n",
       "    <tr>\n",
       "      <th>767</th>\n",
       "      <td>1</td>\n",
       "      <td>93</td>\n",
       "      <td>70</td>\n",
       "      <td>31</td>\n",
       "      <td>0</td>\n",
       "      <td>30.4</td>\n",
       "      <td>0.315</td>\n",
       "      <td>23</td>\n",
       "      <td>0</td>\n",
       "    </tr>\n",
       "  </tbody>\n",
       "</table>\n",
       "<p>768 rows × 9 columns</p>\n",
       "</div>"
      ],
      "text/plain": [
       "     Pregnancies  Glucose  BloodPressure  SkinThickness  Insulin   BMI  \\\n",
       "0              6      148             72             35        0  33.6   \n",
       "1              1       85             66             29        0  26.6   \n",
       "2              8      183             64              0        0  23.3   \n",
       "3              1       89             66             23       94  28.1   \n",
       "4              0      137             40             35      168  43.1   \n",
       "..           ...      ...            ...            ...      ...   ...   \n",
       "763           10      101             76             48      180  32.9   \n",
       "764            2      122             70             27        0  36.8   \n",
       "765            5      121             72             23      112  26.2   \n",
       "766            1      126             60              0        0  30.1   \n",
       "767            1       93             70             31        0  30.4   \n",
       "\n",
       "     DiabetesPedigreeFunction  Age  Outcome  \n",
       "0                       0.627   50        1  \n",
       "1                       0.351   31        0  \n",
       "2                       0.672   32        1  \n",
       "3                       0.167   21        0  \n",
       "4                       2.288   33        1  \n",
       "..                        ...  ...      ...  \n",
       "763                     0.171   63        0  \n",
       "764                     0.340   27        0  \n",
       "765                     0.245   30        0  \n",
       "766                     0.349   47        1  \n",
       "767                     0.315   23        0  \n",
       "\n",
       "[768 rows x 9 columns]"
      ]
     },
     "execution_count": 119,
     "metadata": {},
     "output_type": "execute_result"
    }
   ],
   "source": [
    "data_path = \"diabetes.csv\"\n",
    "data = pd.read_csv(data_path)\n",
    "data"
   ]
  },
  {
   "cell_type": "code",
   "execution_count": 120,
   "id": "dd30f626",
   "metadata": {
    "ExecuteTime": {
     "end_time": "2021-12-30T23:53:12.908827Z",
     "start_time": "2021-12-30T23:53:12.875743Z"
    }
   },
   "outputs": [
    {
     "name": "stdout",
     "output_type": "stream",
     "text": [
      "info:--------\n",
      "<class 'pandas.core.frame.DataFrame'>\n",
      "RangeIndex: 768 entries, 0 to 767\n",
      "Data columns (total 9 columns):\n",
      " #   Column                    Non-Null Count  Dtype  \n",
      "---  ------                    --------------  -----  \n",
      " 0   Pregnancies               768 non-null    int64  \n",
      " 1   Glucose                   768 non-null    int64  \n",
      " 2   BloodPressure             768 non-null    int64  \n",
      " 3   SkinThickness             768 non-null    int64  \n",
      " 4   Insulin                   768 non-null    int64  \n",
      " 5   BMI                       768 non-null    float64\n",
      " 6   DiabetesPedigreeFunction  768 non-null    float64\n",
      " 7   Age                       768 non-null    int64  \n",
      " 8   Outcome                   768 non-null    int64  \n",
      "dtypes: float64(2), int64(7)\n",
      "memory usage: 54.1 KB\n",
      "None\n",
      "describe: \n",
      "\n",
      "       Pregnancies     Glucose  BloodPressure  SkinThickness     Insulin  \\\n",
      "count   768.000000  768.000000     768.000000     768.000000  768.000000   \n",
      "mean      3.845052  120.894531      69.105469      20.536458   79.799479   \n",
      "std       3.369578   31.972618      19.355807      15.952218  115.244002   \n",
      "min       0.000000    0.000000       0.000000       0.000000    0.000000   \n",
      "25%       1.000000   99.000000      62.000000       0.000000    0.000000   \n",
      "50%       3.000000  117.000000      72.000000      23.000000   30.500000   \n",
      "75%       6.000000  140.250000      80.000000      32.000000  127.250000   \n",
      "max      17.000000  199.000000     122.000000      99.000000  846.000000   \n",
      "\n",
      "              BMI  DiabetesPedigreeFunction         Age     Outcome  \n",
      "count  768.000000                768.000000  768.000000  768.000000  \n",
      "mean    31.992578                  0.471876   33.240885    0.348958  \n",
      "std      7.884160                  0.331329   11.760232    0.476951  \n",
      "min      0.000000                  0.078000   21.000000    0.000000  \n",
      "25%     27.300000                  0.243750   24.000000    0.000000  \n",
      "50%     32.000000                  0.372500   29.000000    0.000000  \n",
      "75%     36.600000                  0.626250   41.000000    1.000000  \n",
      "max     67.100000                  2.420000   81.000000    1.000000  \n",
      "NAN \n",
      " Pregnancies                 0\n",
      "Glucose                     0\n",
      "BloodPressure               0\n",
      "SkinThickness               0\n",
      "Insulin                     0\n",
      "BMI                         0\n",
      "DiabetesPedigreeFunction    0\n",
      "Age                         0\n",
      "Outcome                     0\n",
      "dtype: int64\n"
     ]
    }
   ],
   "source": [
    "print(\"info:--------\")\n",
    "print(data.info())\n",
    "print(\"describe: \\n\")\n",
    "print(data.describe())\n",
    "print('NAN \\n',data.isna().sum())"
   ]
  },
  {
   "cell_type": "code",
   "execution_count": 121,
   "id": "a0825e3e",
   "metadata": {
    "ExecuteTime": {
     "end_time": "2021-12-30T23:53:19.175685Z",
     "start_time": "2021-12-30T23:53:17.606633Z"
    }
   },
   "outputs": [
    {
     "data": {
      "text/plain": [
       "array([[<AxesSubplot:title={'center':'Pregnancies'}>,\n",
       "        <AxesSubplot:title={'center':'Glucose'}>,\n",
       "        <AxesSubplot:title={'center':'BloodPressure'}>],\n",
       "       [<AxesSubplot:title={'center':'SkinThickness'}>,\n",
       "        <AxesSubplot:title={'center':'Insulin'}>,\n",
       "        <AxesSubplot:title={'center':'BMI'}>],\n",
       "       [<AxesSubplot:title={'center':'DiabetesPedigreeFunction'}>,\n",
       "        <AxesSubplot:title={'center':'Age'}>,\n",
       "        <AxesSubplot:title={'center':'Outcome'}>]], dtype=object)"
      ]
     },
     "execution_count": 121,
     "metadata": {},
     "output_type": "execute_result"
    },
    {
     "data": {
      "image/png": "[encoded data removed]",
      "text/plain": [
       "<Figure size 2160x2160 with 9 Axes>"
      ]
     },
     "metadata": {
      "needs_background": "light"
     },
     "output_type": "display_data"
    }
   ],
   "source": [
    "data.hist(bins=30,figsize=[30,30])"
   ]
  },
  {
   "cell_type": "markdown",
   "id": "57dbd7cb",
   "metadata": {},
   "source": [
    "1. through there is no NA values, there are 0 values form glucose,blood pressure, insulin, BMI,skinthickness. Hence replace them with NA as it is impossible for these values to be zero.\n",
    "\n",
    "\n",
    "2. replace these missing values with median values of these columns for both the outcomes.\n"
   ]
  },
  {
   "cell_type": "code",
   "execution_count": 122,
   "id": "563c4352",
   "metadata": {
    "ExecuteTime": {
     "end_time": "2021-12-30T23:53:23.157967Z",
     "start_time": "2021-12-30T23:53:23.144237Z"
    }
   },
   "outputs": [
    {
     "name": "stdout",
     "output_type": "stream",
     "text": [
      "<class 'pandas.core.frame.DataFrame'>\n",
      "RangeIndex: 768 entries, 0 to 767\n",
      "Data columns (total 9 columns):\n",
      " #   Column                    Non-Null Count  Dtype  \n",
      "---  ------                    --------------  -----  \n",
      " 0   Pregnancies               768 non-null    int64  \n",
      " 1   Glucose                   763 non-null    float64\n",
      " 2   BloodPressure             733 non-null    float64\n",
      " 3   SkinThickness             541 non-null    float64\n",
      " 4   Insulin                   394 non-null    float64\n",
      " 5   BMI                       757 non-null    float64\n",
      " 6   DiabetesPedigreeFunction  768 non-null    float64\n",
      " 7   Age                       768 non-null    int64  \n",
      " 8   Outcome                   768 non-null    int64  \n",
      "dtypes: float64(6), int64(3)\n",
      "memory usage: 54.1 KB\n"
     ]
    }
   ],
   "source": [
    "data1 = data.copy()\n",
    "data1[['Glucose','BloodPressure','SkinThickness','Insulin','BMI']] = data1[['Glucose','BloodPressure','SkinThickness','Insulin','BMI']].replace(0,np.nan)\n",
    "data1.info()"
   ]
  },
  {
   "cell_type": "code",
   "execution_count": 123,
   "id": "eba12714",
   "metadata": {
    "ExecuteTime": {
     "end_time": "2021-12-30T23:53:28.515141Z",
     "start_time": "2021-12-30T23:53:28.282521Z"
    }
   },
   "outputs": [
    {
     "data": {
      "text/plain": [
       "<AxesSubplot:>"
      ]
     },
     "execution_count": 123,
     "metadata": {},
     "output_type": "execute_result"
    },
    {
     "data": {
      "image/png": "[encoded data removed]",
      "text/plain": [
       "<Figure size 864x432 with 2 Axes>"
      ]
     },
     "metadata": {
      "needs_background": "light"
     },
     "output_type": "display_data"
    }
   ],
   "source": [
    "figure = plt.figure(figsize=(12,6))\n",
    "sns.heatmap(data1.isnull(),yticklabels=False)"
   ]
  },
  {
   "cell_type": "code",
   "execution_count": 124,
   "id": "d3c18fb2",
   "metadata": {
    "ExecuteTime": {
     "end_time": "2021-12-30T23:53:55.811160Z",
     "start_time": "2021-12-30T23:53:55.807848Z"
    }
   },
   "outputs": [],
   "source": [
    "def col_median_values(col):\n",
    "    col_data = data1[data1[col].notnull()]\n",
    "    median_value = col_data[[col,'Outcome']].groupby('Outcome').median().reset_index()\n",
    "    return median_value.to_dict()"
   ]
  },
  {
   "cell_type": "code",
   "execution_count": 125,
   "id": "23d88621",
   "metadata": {
    "ExecuteTime": {
     "end_time": "2021-12-30T23:53:56.495693Z",
     "start_time": "2021-12-30T23:53:56.486700Z"
    }
   },
   "outputs": [
    {
     "data": {
      "text/plain": [
       "{'Outcome': {0: 0, 1: 1}, 'BloodPressure': {0: 70.0, 1: 74.5}}"
      ]
     },
     "execution_count": 125,
     "metadata": {},
     "output_type": "execute_result"
    }
   ],
   "source": [
    "col_median_values('BloodPressure')"
   ]
  },
  {
   "cell_type": "code",
   "execution_count": 126,
   "id": "16ae9e3c",
   "metadata": {
    "ExecuteTime": {
     "end_time": "2021-12-30T23:53:57.696029Z",
     "start_time": "2021-12-30T23:53:57.663277Z"
    }
   },
   "outputs": [
    {
     "name": "stdout",
     "output_type": "stream",
     "text": [
      "Glucose\n",
      "median_values_col {0: 107.0, 1: 140.0}\n",
      "BloodPressure\n",
      "median_values_col {0: 70.0, 1: 74.5}\n",
      "SkinThickness\n",
      "median_values_col {0: 27.0, 1: 32.0}\n",
      "Insulin\n",
      "median_values_col {0: 102.5, 1: 169.5}\n",
      "BMI\n",
      "median_values_col {0: 30.1, 1: 34.3}\n"
     ]
    }
   ],
   "source": [
    "col_list = ['Glucose','BloodPressure','SkinThickness','Insulin','BMI']\n",
    "for i in col_list:\n",
    "    print(i)\n",
    "    median_values_col = col_median_values(i)[i]\n",
    "    print('median_values_col',median_values_col)\n",
    "    data1.loc[(data1[i].isnull()) & (data1['Outcome']==0),i] = median_values_col[0]\n",
    "    data1.loc[(data1[i].isnull()) & (data1['Outcome']==1),i] = median_values_col[1]"
   ]
  },
  {
   "cell_type": "code",
   "execution_count": 127,
   "id": "b49aa47b",
   "metadata": {
    "ExecuteTime": {
     "end_time": "2021-12-30T23:54:00.211347Z",
     "start_time": "2021-12-30T23:54:00.199828Z"
    }
   },
   "outputs": [
    {
     "data": {
      "text/html": [
       "<div>\n",
       "<style scoped>\n",
       "    .dataframe tbody tr th:only-of-type {\n",
       "        vertical-align: middle;\n",
       "    }\n",
       "\n",
       "    .dataframe tbody tr th {\n",
       "        vertical-align: top;\n",
       "    }\n",
       "\n",
       "    .dataframe thead th {\n",
       "        text-align: right;\n",
       "    }\n",
       "</style>\n",
       "<table border=\"1\" class=\"dataframe\">\n",
       "  <thead>\n",
       "    <tr style=\"text-align: right;\">\n",
       "      <th></th>\n",
       "      <th>Pregnancies</th>\n",
       "      <th>Glucose</th>\n",
       "      <th>BloodPressure</th>\n",
       "      <th>SkinThickness</th>\n",
       "      <th>Insulin</th>\n",
       "      <th>BMI</th>\n",
       "      <th>DiabetesPedigreeFunction</th>\n",
       "      <th>Age</th>\n",
       "      <th>Outcome</th>\n",
       "    </tr>\n",
       "  </thead>\n",
       "  <tbody>\n",
       "    <tr>\n",
       "      <th>0</th>\n",
       "      <td>6</td>\n",
       "      <td>148.0</td>\n",
       "      <td>72.0</td>\n",
       "      <td>35.0</td>\n",
       "      <td>169.5</td>\n",
       "      <td>33.6</td>\n",
       "      <td>0.627</td>\n",
       "      <td>50</td>\n",
       "      <td>1</td>\n",
       "    </tr>\n",
       "    <tr>\n",
       "      <th>1</th>\n",
       "      <td>1</td>\n",
       "      <td>85.0</td>\n",
       "      <td>66.0</td>\n",
       "      <td>29.0</td>\n",
       "      <td>102.5</td>\n",
       "      <td>26.6</td>\n",
       "      <td>0.351</td>\n",
       "      <td>31</td>\n",
       "      <td>0</td>\n",
       "    </tr>\n",
       "    <tr>\n",
       "      <th>2</th>\n",
       "      <td>8</td>\n",
       "      <td>183.0</td>\n",
       "      <td>64.0</td>\n",
       "      <td>32.0</td>\n",
       "      <td>169.5</td>\n",
       "      <td>23.3</td>\n",
       "      <td>0.672</td>\n",
       "      <td>32</td>\n",
       "      <td>1</td>\n",
       "    </tr>\n",
       "    <tr>\n",
       "      <th>3</th>\n",
       "      <td>1</td>\n",
       "      <td>89.0</td>\n",
       "      <td>66.0</td>\n",
       "      <td>23.0</td>\n",
       "      <td>94.0</td>\n",
       "      <td>28.1</td>\n",
       "      <td>0.167</td>\n",
       "      <td>21</td>\n",
       "      <td>0</td>\n",
       "    </tr>\n",
       "    <tr>\n",
       "      <th>4</th>\n",
       "      <td>0</td>\n",
       "      <td>137.0</td>\n",
       "      <td>40.0</td>\n",
       "      <td>35.0</td>\n",
       "      <td>168.0</td>\n",
       "      <td>43.1</td>\n",
       "      <td>2.288</td>\n",
       "      <td>33</td>\n",
       "      <td>1</td>\n",
       "    </tr>\n",
       "  </tbody>\n",
       "</table>\n",
       "</div>"
      ],
      "text/plain": [
       "   Pregnancies  Glucose  BloodPressure  SkinThickness  Insulin   BMI  \\\n",
       "0            6    148.0           72.0           35.0    169.5  33.6   \n",
       "1            1     85.0           66.0           29.0    102.5  26.6   \n",
       "2            8    183.0           64.0           32.0    169.5  23.3   \n",
       "3            1     89.0           66.0           23.0     94.0  28.1   \n",
       "4            0    137.0           40.0           35.0    168.0  43.1   \n",
       "\n",
       "   DiabetesPedigreeFunction  Age  Outcome  \n",
       "0                     0.627   50        1  \n",
       "1                     0.351   31        0  \n",
       "2                     0.672   32        1  \n",
       "3                     0.167   21        0  \n",
       "4                     2.288   33        1  "
      ]
     },
     "execution_count": 127,
     "metadata": {},
     "output_type": "execute_result"
    }
   ],
   "source": [
    "data1.head()"
   ]
  },
  {
   "cell_type": "code",
   "execution_count": 128,
   "id": "c39db65d",
   "metadata": {
    "ExecuteTime": {
     "end_time": "2021-12-30T23:54:01.826829Z",
     "start_time": "2021-12-30T23:54:01.608762Z"
    }
   },
   "outputs": [
    {
     "data": {
      "text/plain": [
       "<AxesSubplot:>"
      ]
     },
     "execution_count": 128,
     "metadata": {},
     "output_type": "execute_result"
    },
    {
     "data": {
      "image/png": "[encoded data removed]",
      "text/plain": [
       "<Figure size 864x432 with 2 Axes>"
      ]
     },
     "metadata": {
      "needs_background": "light"
     },
     "output_type": "display_data"
    }
   ],
   "source": [
    "figure = plt.figure(figsize=(12,6))\n",
    "sns.heatmap(data1.isnull(),yticklabels=False)"
   ]
  },
  {
   "cell_type": "markdown",
   "id": "a267f9b2",
   "metadata": {},
   "source": [
    "# Creating additional features\n",
    "## Insulin\n",
    "#### Insulin level:\n",
    "https://www.medicinenet.com/what_is_a_high_insulin_level/article.htm#what_are_normal_insulin_levels  \n",
    "\n",
    "    normal value is 16-166 mIU/L"
   ]
  },
  {
   "cell_type": "code",
   "execution_count": 129,
   "id": "b01bde3c",
   "metadata": {
    "ExecuteTime": {
     "end_time": "2021-12-30T23:54:04.062777Z",
     "start_time": "2021-12-30T23:54:04.041445Z"
    }
   },
   "outputs": [
    {
     "data": {
      "text/html": [
       "<div>\n",
       "<style scoped>\n",
       "    .dataframe tbody tr th:only-of-type {\n",
       "        vertical-align: middle;\n",
       "    }\n",
       "\n",
       "    .dataframe tbody tr th {\n",
       "        vertical-align: top;\n",
       "    }\n",
       "\n",
       "    .dataframe thead th {\n",
       "        text-align: right;\n",
       "    }\n",
       "</style>\n",
       "<table border=\"1\" class=\"dataframe\">\n",
       "  <thead>\n",
       "    <tr style=\"text-align: right;\">\n",
       "      <th></th>\n",
       "      <th>Pregnancies</th>\n",
       "      <th>Glucose</th>\n",
       "      <th>BloodPressure</th>\n",
       "      <th>SkinThickness</th>\n",
       "      <th>Insulin</th>\n",
       "      <th>BMI</th>\n",
       "      <th>DiabetesPedigreeFunction</th>\n",
       "      <th>Age</th>\n",
       "      <th>Outcome</th>\n",
       "      <th>Insulin_class</th>\n",
       "    </tr>\n",
       "  </thead>\n",
       "  <tbody>\n",
       "    <tr>\n",
       "      <th>0</th>\n",
       "      <td>6</td>\n",
       "      <td>148.0</td>\n",
       "      <td>72.0</td>\n",
       "      <td>35.0</td>\n",
       "      <td>169.5</td>\n",
       "      <td>33.6</td>\n",
       "      <td>0.627</td>\n",
       "      <td>50</td>\n",
       "      <td>1</td>\n",
       "      <td>High</td>\n",
       "    </tr>\n",
       "    <tr>\n",
       "      <th>1</th>\n",
       "      <td>1</td>\n",
       "      <td>85.0</td>\n",
       "      <td>66.0</td>\n",
       "      <td>29.0</td>\n",
       "      <td>102.5</td>\n",
       "      <td>26.6</td>\n",
       "      <td>0.351</td>\n",
       "      <td>31</td>\n",
       "      <td>0</td>\n",
       "      <td>Normal</td>\n",
       "    </tr>\n",
       "    <tr>\n",
       "      <th>2</th>\n",
       "      <td>8</td>\n",
       "      <td>183.0</td>\n",
       "      <td>64.0</td>\n",
       "      <td>32.0</td>\n",
       "      <td>169.5</td>\n",
       "      <td>23.3</td>\n",
       "      <td>0.672</td>\n",
       "      <td>32</td>\n",
       "      <td>1</td>\n",
       "      <td>High</td>\n",
       "    </tr>\n",
       "    <tr>\n",
       "      <th>3</th>\n",
       "      <td>1</td>\n",
       "      <td>89.0</td>\n",
       "      <td>66.0</td>\n",
       "      <td>23.0</td>\n",
       "      <td>94.0</td>\n",
       "      <td>28.1</td>\n",
       "      <td>0.167</td>\n",
       "      <td>21</td>\n",
       "      <td>0</td>\n",
       "      <td>Normal</td>\n",
       "    </tr>\n",
       "    <tr>\n",
       "      <th>4</th>\n",
       "      <td>0</td>\n",
       "      <td>137.0</td>\n",
       "      <td>40.0</td>\n",
       "      <td>35.0</td>\n",
       "      <td>168.0</td>\n",
       "      <td>43.1</td>\n",
       "      <td>2.288</td>\n",
       "      <td>33</td>\n",
       "      <td>1</td>\n",
       "      <td>High</td>\n",
       "    </tr>\n",
       "    <tr>\n",
       "      <th>...</th>\n",
       "      <td>...</td>\n",
       "      <td>...</td>\n",
       "      <td>...</td>\n",
       "      <td>...</td>\n",
       "      <td>...</td>\n",
       "      <td>...</td>\n",
       "      <td>...</td>\n",
       "      <td>...</td>\n",
       "      <td>...</td>\n",
       "      <td>...</td>\n",
       "    </tr>\n",
       "    <tr>\n",
       "      <th>763</th>\n",
       "      <td>10</td>\n",
       "      <td>101.0</td>\n",
       "      <td>76.0</td>\n",
       "      <td>48.0</td>\n",
       "      <td>180.0</td>\n",
       "      <td>32.9</td>\n",
       "      <td>0.171</td>\n",
       "      <td>63</td>\n",
       "      <td>0</td>\n",
       "      <td>High</td>\n",
       "    </tr>\n",
       "    <tr>\n",
       "      <th>764</th>\n",
       "      <td>2</td>\n",
       "      <td>122.0</td>\n",
       "      <td>70.0</td>\n",
       "      <td>27.0</td>\n",
       "      <td>102.5</td>\n",
       "      <td>36.8</td>\n",
       "      <td>0.340</td>\n",
       "      <td>27</td>\n",
       "      <td>0</td>\n",
       "      <td>Normal</td>\n",
       "    </tr>\n",
       "    <tr>\n",
       "      <th>765</th>\n",
       "      <td>5</td>\n",
       "      <td>121.0</td>\n",
       "      <td>72.0</td>\n",
       "      <td>23.0</td>\n",
       "      <td>112.0</td>\n",
       "      <td>26.2</td>\n",
       "      <td>0.245</td>\n",
       "      <td>30</td>\n",
       "      <td>0</td>\n",
       "      <td>Normal</td>\n",
       "    </tr>\n",
       "    <tr>\n",
       "      <th>766</th>\n",
       "      <td>1</td>\n",
       "      <td>126.0</td>\n",
       "      <td>60.0</td>\n",
       "      <td>32.0</td>\n",
       "      <td>169.5</td>\n",
       "      <td>30.1</td>\n",
       "      <td>0.349</td>\n",
       "      <td>47</td>\n",
       "      <td>1</td>\n",
       "      <td>High</td>\n",
       "    </tr>\n",
       "    <tr>\n",
       "      <th>767</th>\n",
       "      <td>1</td>\n",
       "      <td>93.0</td>\n",
       "      <td>70.0</td>\n",
       "      <td>31.0</td>\n",
       "      <td>102.5</td>\n",
       "      <td>30.4</td>\n",
       "      <td>0.315</td>\n",
       "      <td>23</td>\n",
       "      <td>0</td>\n",
       "      <td>Normal</td>\n",
       "    </tr>\n",
       "  </tbody>\n",
       "</table>\n",
       "<p>768 rows × 10 columns</p>\n",
       "</div>"
      ],
      "text/plain": [
       "     Pregnancies  Glucose  BloodPressure  SkinThickness  Insulin   BMI  \\\n",
       "0              6    148.0           72.0           35.0    169.5  33.6   \n",
       "1              1     85.0           66.0           29.0    102.5  26.6   \n",
       "2              8    183.0           64.0           32.0    169.5  23.3   \n",
       "3              1     89.0           66.0           23.0     94.0  28.1   \n",
       "4              0    137.0           40.0           35.0    168.0  43.1   \n",
       "..           ...      ...            ...            ...      ...   ...   \n",
       "763           10    101.0           76.0           48.0    180.0  32.9   \n",
       "764            2    122.0           70.0           27.0    102.5  36.8   \n",
       "765            5    121.0           72.0           23.0    112.0  26.2   \n",
       "766            1    126.0           60.0           32.0    169.5  30.1   \n",
       "767            1     93.0           70.0           31.0    102.5  30.4   \n",
       "\n",
       "     DiabetesPedigreeFunction  Age  Outcome Insulin_class  \n",
       "0                       0.627   50        1          High  \n",
       "1                       0.351   31        0        Normal  \n",
       "2                       0.672   32        1          High  \n",
       "3                       0.167   21        0        Normal  \n",
       "4                       2.288   33        1          High  \n",
       "..                        ...  ...      ...           ...  \n",
       "763                     0.171   63        0          High  \n",
       "764                     0.340   27        0        Normal  \n",
       "765                     0.245   30        0        Normal  \n",
       "766                     0.349   47        1          High  \n",
       "767                     0.315   23        0        Normal  \n",
       "\n",
       "[768 rows x 10 columns]"
      ]
     },
     "execution_count": 129,
     "metadata": {},
     "output_type": "execute_result"
    }
   ],
   "source": [
    "insulin_class = ['Low','Normal','High']\n",
    "data1.loc[data1['Insulin']<16,'Insulin_class']=insulin_class[0]\n",
    "data1.loc[(data1['Insulin']>=16)& (data1['Insulin']<=166),'Insulin_class']=insulin_class[1]\n",
    "data1.loc[data1['Insulin']>166,'Insulin_class']=insulin_class[2]\n",
    "data1"
   ]
  },
  {
   "cell_type": "markdown",
   "id": "4d8adf65",
   "metadata": {},
   "source": [
    "## Encoding"
   ]
  },
  {
   "cell_type": "code",
   "execution_count": 130,
   "id": "9a867bd8",
   "metadata": {
    "ExecuteTime": {
     "end_time": "2021-12-30T23:54:06.733671Z",
     "start_time": "2021-12-30T23:54:06.709915Z"
    }
   },
   "outputs": [
    {
     "data": {
      "text/html": [
       "<div>\n",
       "<style scoped>\n",
       "    .dataframe tbody tr th:only-of-type {\n",
       "        vertical-align: middle;\n",
       "    }\n",
       "\n",
       "    .dataframe tbody tr th {\n",
       "        vertical-align: top;\n",
       "    }\n",
       "\n",
       "    .dataframe thead th {\n",
       "        text-align: right;\n",
       "    }\n",
       "</style>\n",
       "<table border=\"1\" class=\"dataframe\">\n",
       "  <thead>\n",
       "    <tr style=\"text-align: right;\">\n",
       "      <th></th>\n",
       "      <th>Pregnancies</th>\n",
       "      <th>Glucose</th>\n",
       "      <th>BloodPressure</th>\n",
       "      <th>SkinThickness</th>\n",
       "      <th>Insulin</th>\n",
       "      <th>BMI</th>\n",
       "      <th>DiabetesPedigreeFunction</th>\n",
       "      <th>Age</th>\n",
       "      <th>Outcome</th>\n",
       "      <th>Insulin_class_High</th>\n",
       "      <th>Insulin_class_Low</th>\n",
       "      <th>Insulin_class_Normal</th>\n",
       "    </tr>\n",
       "  </thead>\n",
       "  <tbody>\n",
       "    <tr>\n",
       "      <th>0</th>\n",
       "      <td>6</td>\n",
       "      <td>148.0</td>\n",
       "      <td>72.0</td>\n",
       "      <td>35.0</td>\n",
       "      <td>169.5</td>\n",
       "      <td>33.6</td>\n",
       "      <td>0.627</td>\n",
       "      <td>50</td>\n",
       "      <td>1</td>\n",
       "      <td>1</td>\n",
       "      <td>0</td>\n",
       "      <td>0</td>\n",
       "    </tr>\n",
       "    <tr>\n",
       "      <th>1</th>\n",
       "      <td>1</td>\n",
       "      <td>85.0</td>\n",
       "      <td>66.0</td>\n",
       "      <td>29.0</td>\n",
       "      <td>102.5</td>\n",
       "      <td>26.6</td>\n",
       "      <td>0.351</td>\n",
       "      <td>31</td>\n",
       "      <td>0</td>\n",
       "      <td>0</td>\n",
       "      <td>0</td>\n",
       "      <td>1</td>\n",
       "    </tr>\n",
       "    <tr>\n",
       "      <th>2</th>\n",
       "      <td>8</td>\n",
       "      <td>183.0</td>\n",
       "      <td>64.0</td>\n",
       "      <td>32.0</td>\n",
       "      <td>169.5</td>\n",
       "      <td>23.3</td>\n",
       "      <td>0.672</td>\n",
       "      <td>32</td>\n",
       "      <td>1</td>\n",
       "      <td>1</td>\n",
       "      <td>0</td>\n",
       "      <td>0</td>\n",
       "    </tr>\n",
       "    <tr>\n",
       "      <th>3</th>\n",
       "      <td>1</td>\n",
       "      <td>89.0</td>\n",
       "      <td>66.0</td>\n",
       "      <td>23.0</td>\n",
       "      <td>94.0</td>\n",
       "      <td>28.1</td>\n",
       "      <td>0.167</td>\n",
       "      <td>21</td>\n",
       "      <td>0</td>\n",
       "      <td>0</td>\n",
       "      <td>0</td>\n",
       "      <td>1</td>\n",
       "    </tr>\n",
       "    <tr>\n",
       "      <th>4</th>\n",
       "      <td>0</td>\n",
       "      <td>137.0</td>\n",
       "      <td>40.0</td>\n",
       "      <td>35.0</td>\n",
       "      <td>168.0</td>\n",
       "      <td>43.1</td>\n",
       "      <td>2.288</td>\n",
       "      <td>33</td>\n",
       "      <td>1</td>\n",
       "      <td>1</td>\n",
       "      <td>0</td>\n",
       "      <td>0</td>\n",
       "    </tr>\n",
       "    <tr>\n",
       "      <th>...</th>\n",
       "      <td>...</td>\n",
       "      <td>...</td>\n",
       "      <td>...</td>\n",
       "      <td>...</td>\n",
       "      <td>...</td>\n",
       "      <td>...</td>\n",
       "      <td>...</td>\n",
       "      <td>...</td>\n",
       "      <td>...</td>\n",
       "      <td>...</td>\n",
       "      <td>...</td>\n",
       "      <td>...</td>\n",
       "    </tr>\n",
       "    <tr>\n",
       "      <th>763</th>\n",
       "      <td>10</td>\n",
       "      <td>101.0</td>\n",
       "      <td>76.0</td>\n",
       "      <td>48.0</td>\n",
       "      <td>180.0</td>\n",
       "      <td>32.9</td>\n",
       "      <td>0.171</td>\n",
       "      <td>63</td>\n",
       "      <td>0</td>\n",
       "      <td>1</td>\n",
       "      <td>0</td>\n",
       "      <td>0</td>\n",
       "    </tr>\n",
       "    <tr>\n",
       "      <th>764</th>\n",
       "      <td>2</td>\n",
       "      <td>122.0</td>\n",
       "      <td>70.0</td>\n",
       "      <td>27.0</td>\n",
       "      <td>102.5</td>\n",
       "      <td>36.8</td>\n",
       "      <td>0.340</td>\n",
       "      <td>27</td>\n",
       "      <td>0</td>\n",
       "      <td>0</td>\n",
       "      <td>0</td>\n",
       "      <td>1</td>\n",
       "    </tr>\n",
       "    <tr>\n",
       "      <th>765</th>\n",
       "      <td>5</td>\n",
       "      <td>121.0</td>\n",
       "      <td>72.0</td>\n",
       "      <td>23.0</td>\n",
       "      <td>112.0</td>\n",
       "      <td>26.2</td>\n",
       "      <td>0.245</td>\n",
       "      <td>30</td>\n",
       "      <td>0</td>\n",
       "      <td>0</td>\n",
       "      <td>0</td>\n",
       "      <td>1</td>\n",
       "    </tr>\n",
       "    <tr>\n",
       "      <th>766</th>\n",
       "      <td>1</td>\n",
       "      <td>126.0</td>\n",
       "      <td>60.0</td>\n",
       "      <td>32.0</td>\n",
       "      <td>169.5</td>\n",
       "      <td>30.1</td>\n",
       "      <td>0.349</td>\n",
       "      <td>47</td>\n",
       "      <td>1</td>\n",
       "      <td>1</td>\n",
       "      <td>0</td>\n",
       "      <td>0</td>\n",
       "    </tr>\n",
       "    <tr>\n",
       "      <th>767</th>\n",
       "      <td>1</td>\n",
       "      <td>93.0</td>\n",
       "      <td>70.0</td>\n",
       "      <td>31.0</td>\n",
       "      <td>102.5</td>\n",
       "      <td>30.4</td>\n",
       "      <td>0.315</td>\n",
       "      <td>23</td>\n",
       "      <td>0</td>\n",
       "      <td>0</td>\n",
       "      <td>0</td>\n",
       "      <td>1</td>\n",
       "    </tr>\n",
       "  </tbody>\n",
       "</table>\n",
       "<p>768 rows × 12 columns</p>\n",
       "</div>"
      ],
      "text/plain": [
       "     Pregnancies  Glucose  BloodPressure  SkinThickness  Insulin   BMI  \\\n",
       "0              6    148.0           72.0           35.0    169.5  33.6   \n",
       "1              1     85.0           66.0           29.0    102.5  26.6   \n",
       "2              8    183.0           64.0           32.0    169.5  23.3   \n",
       "3              1     89.0           66.0           23.0     94.0  28.1   \n",
       "4              0    137.0           40.0           35.0    168.0  43.1   \n",
       "..           ...      ...            ...            ...      ...   ...   \n",
       "763           10    101.0           76.0           48.0    180.0  32.9   \n",
       "764            2    122.0           70.0           27.0    102.5  36.8   \n",
       "765            5    121.0           72.0           23.0    112.0  26.2   \n",
       "766            1    126.0           60.0           32.0    169.5  30.1   \n",
       "767            1     93.0           70.0           31.0    102.5  30.4   \n",
       "\n",
       "     DiabetesPedigreeFunction  Age  Outcome  Insulin_class_High  \\\n",
       "0                       0.627   50        1                   1   \n",
       "1                       0.351   31        0                   0   \n",
       "2                       0.672   32        1                   1   \n",
       "3                       0.167   21        0                   0   \n",
       "4                       2.288   33        1                   1   \n",
       "..                        ...  ...      ...                 ...   \n",
       "763                     0.171   63        0                   1   \n",
       "764                     0.340   27        0                   0   \n",
       "765                     0.245   30        0                   0   \n",
       "766                     0.349   47        1                   1   \n",
       "767                     0.315   23        0                   0   \n",
       "\n",
       "     Insulin_class_Low  Insulin_class_Normal  \n",
       "0                    0                     0  \n",
       "1                    0                     1  \n",
       "2                    0                     0  \n",
       "3                    0                     1  \n",
       "4                    0                     0  \n",
       "..                 ...                   ...  \n",
       "763                  0                     0  \n",
       "764                  0                     1  \n",
       "765                  0                     1  \n",
       "766                  0                     0  \n",
       "767                  0                     1  \n",
       "\n",
       "[768 rows x 12 columns]"
      ]
     },
     "execution_count": 130,
     "metadata": {},
     "output_type": "execute_result"
    }
   ],
   "source": [
    "cols = ['Insulin_class']\n",
    "dummies = pd.get_dummies(data1[cols])\n",
    "data1 = pd.concat([data1,dummies],axis=1)\n",
    "data1.drop(cols,axis=1,inplace=True)\n",
    "data1"
   ]
  },
  {
   "cell_type": "code",
   "execution_count": 131,
   "id": "e64e1b5b",
   "metadata": {
    "ExecuteTime": {
     "end_time": "2021-12-30T23:54:16.167756Z",
     "start_time": "2021-12-30T23:54:16.158339Z"
    }
   },
   "outputs": [
    {
     "name": "stdout",
     "output_type": "stream",
     "text": [
      "   Pregnancies  Glucose  BloodPressure  SkinThickness  Insulin   BMI  \\\n",
      "0            6    148.0           72.0           35.0    169.5  33.6   \n",
      "1            1     85.0           66.0           29.0    102.5  26.6   \n",
      "2            8    183.0           64.0           32.0    169.5  23.3   \n",
      "3            1     89.0           66.0           23.0     94.0  28.1   \n",
      "4            0    137.0           40.0           35.0    168.0  43.1   \n",
      "\n",
      "   DiabetesPedigreeFunction  Age  Insulin_class_High  Insulin_class_Low  \\\n",
      "0                     0.627   50                   1                  0   \n",
      "1                     0.351   31                   0                  0   \n",
      "2                     0.672   32                   1                  0   \n",
      "3                     0.167   21                   0                  0   \n",
      "4                     2.288   33                   1                  0   \n",
      "\n",
      "   Insulin_class_Normal  \n",
      "0                     0  \n",
      "1                     1  \n",
      "2                     0  \n",
      "3                     1  \n",
      "4                     0   \n",
      "\n",
      "\n",
      "0    1\n",
      "1    0\n",
      "2    1\n",
      "3    0\n",
      "4    1\n",
      "Name: Outcome, dtype: int64\n"
     ]
    }
   ],
   "source": [
    "x = data1.drop(['Outcome'],axis=1)\n",
    "y = data['Outcome']\n",
    "print(x.head(5),\"\\n\\n\")\n",
    "print(y.head(5))"
   ]
  },
  {
   "cell_type": "code",
   "execution_count": 132,
   "id": "6746ef55",
   "metadata": {
    "ExecuteTime": {
     "end_time": "2021-12-30T23:54:24.030664Z",
     "start_time": "2021-12-30T23:54:24.025806Z"
    }
   },
   "outputs": [],
   "source": [
    "x_train,x_test,y_train,y_test = train_test_split(x,y,test_size=0.2,random_state=1234)"
   ]
  },
  {
   "cell_type": "markdown",
   "id": "30efff48",
   "metadata": {},
   "source": [
    "# Models"
   ]
  },
  {
   "cell_type": "code",
   "execution_count": 133,
   "id": "1517201f",
   "metadata": {
    "ExecuteTime": {
     "end_time": "2021-12-30T23:54:26.360218Z",
     "start_time": "2021-12-30T23:54:26.351694Z"
    }
   },
   "outputs": [
    {
     "data": {
      "text/plain": [
       "[('LR',\n",
       "  LogisticRegression(max_iter=1000, random_state=1234, solver='liblinear')),\n",
       " ('KNN', KNeighborsClassifier()),\n",
       " ('CART', DecisionTreeClassifier(random_state=1234)),\n",
       " ('RF', RandomForestClassifier(random_state=1234)),\n",
       " ('SVM', SVC(gamma='auto', random_state=1234)),\n",
       " ('XGB', GradientBoostingClassifier(random_state=1234)),\n",
       " ('LightGBM', LGBMClassifier(random_state=1234))]"
      ]
     },
     "execution_count": 133,
     "metadata": {},
     "output_type": "execute_result"
    }
   ],
   "source": [
    "models = []\n",
    "random_state = 1234\n",
    "models.append(('LR', LogisticRegression(random_state = random_state,solver='liblinear',max_iter=1000)))\n",
    "models.append(('KNN', KNeighborsClassifier()))\n",
    "models.append(('CART', DecisionTreeClassifier(random_state = random_state)))\n",
    "models.append(('RF', RandomForestClassifier(random_state = random_state)))\n",
    "models.append(('SVM', SVC(gamma='auto', random_state = random_state)))\n",
    "models.append(('XGB', GradientBoostingClassifier(random_state = random_state)))\n",
    "models.append((\"LightGBM\", LGBMClassifier(random_state = random_state)))\n",
    "\n",
    "models"
   ]
  },
  {
   "cell_type": "code",
   "execution_count": 134,
   "id": "0c3b6309",
   "metadata": {
    "ExecuteTime": {
     "end_time": "2021-12-30T23:54:33.938642Z",
     "start_time": "2021-12-30T23:54:29.447990Z"
    },
    "scrolled": false
   },
   "outputs": [
    {
     "name": "stdout",
     "output_type": "stream",
     "text": [
      "name : LR\n",
      "model : LogisticRegression(max_iter=1000, random_state=1234, solver='liblinear')\n",
      "[0.8961039  0.84415584 0.83116883 0.8961039  0.87012987 0.90909091\n",
      " 0.83116883 0.88311688 0.77631579 0.80263158] \n",
      "\n",
      "LR: 0.853999 (0.041835)\n",
      "name : KNN\n",
      "model : KNeighborsClassifier()\n",
      "[0.85714286 0.88311688 0.84415584 0.83116883 0.83116883 0.88311688\n",
      " 0.81818182 0.88311688 0.85526316 0.82894737] \n",
      "\n",
      "KNN: 0.851538 (0.023546)\n",
      "name : CART\n",
      "model : DecisionTreeClassifier(random_state=1234)\n",
      "[0.85714286 0.84415584 0.84415584 0.83116883 0.81818182 0.77922078\n",
      " 0.85714286 0.85714286 0.82894737 0.90789474] \n",
      "\n",
      "CART: 0.842515 (0.031357)\n",
      "name : RF\n",
      "model : RandomForestClassifier(random_state=1234)\n",
      "[0.92207792 0.88311688 0.83116883 0.85714286 0.84415584 0.92207792\n",
      " 0.88311688 0.93506494 0.89473684 0.90789474] \n",
      "\n",
      "RF: 0.888055 (0.033363)\n",
      "name : SVM\n",
      "model : SVC(gamma='auto', random_state=1234)\n",
      "[0.64935065 0.64935065 0.64935065 0.64935065 0.64935065 0.64935065\n",
      " 0.64935065 0.64935065 0.65789474 0.65789474] \n",
      "\n",
      "SVM: 0.651059 (0.003418)\n",
      "name : XGB\n",
      "model : GradientBoostingClassifier(random_state=1234)\n",
      "[0.8961039  0.84415584 0.85714286 0.84415584 0.83116883 0.88311688\n",
      " 0.88311688 0.90909091 0.92105263 0.92105263] \n",
      "\n",
      "XGB: 0.879016 (0.031563)\n",
      "name : LightGBM\n",
      "model : LGBMClassifier(random_state=1234)\n",
      "[0.88311688 0.8961039  0.83116883 0.88311688 0.83116883 0.8961039\n",
      " 0.8961039  0.92207792 0.93421053 0.90789474] \n",
      "\n",
      "LightGBM: 0.888107 (0.032244)\n"
     ]
    }
   ],
   "source": [
    "results_i = []        # initial results before tuning\n",
    "names_i   = []\n",
    "\n",
    "for name, model in models:\n",
    "    print(\"name :\",name)\n",
    "    print(\"model :\",model)\n",
    "    \n",
    "#     kfold = KFold(n_splits = 10)\n",
    "        \n",
    "    cv_results = cross_val_score(model, x, y, cv = 10, scoring= \"accuracy\")\n",
    "    print(cv_results,\"\\n\")\n",
    "    results_i.append(cv_results)\n",
    "    names_i.append(name)\n",
    "    msg = \"%s: %f (%f)\" % (name, cv_results.mean(), cv_results.std())\n",
    "    print(msg)"
   ]
  },
  {
   "cell_type": "code",
   "execution_count": 135,
   "id": "af388c07",
   "metadata": {
    "ExecuteTime": {
     "end_time": "2021-12-30T23:54:39.946058Z",
     "start_time": "2021-12-30T23:54:39.744013Z"
    },
    "scrolled": true
   },
   "outputs": [
    {
     "data": {
      "text/plain": [
       "<AxesSubplot:>"
      ]
     },
     "execution_count": 135,
     "metadata": {},
     "output_type": "execute_result"
    },
    {
     "data": {
      "image/png": "[encoded data removed]",
      "text/plain": [
       "<Figure size 864x576 with 1 Axes>"
      ]
     },
     "metadata": {
      "needs_background": "light"
     },
     "output_type": "display_data"
    }
   ],
   "source": [
    "results_df_i = pd.DataFrame(np.array(results_i).transpose(),columns=names_i)\n",
    "plt.figure(figsize=[12,8])\n",
    "sns.boxplot(data=results_df_i)"
   ]
  },
  {
   "cell_type": "markdown",
   "id": "e4916254",
   "metadata": {},
   "source": [
    "randomforest, xgb and lightgbm giving better result. lets tune them."
   ]
  },
  {
   "cell_type": "markdown",
   "id": "771e3065",
   "metadata": {},
   "source": [
    "# model_tuning"
   ]
  },
  {
   "cell_type": "code",
   "execution_count": 137,
   "id": "c48eeefa",
   "metadata": {
    "ExecuteTime": {
     "end_time": "2021-12-30T23:55:12.674248Z",
     "start_time": "2021-12-30T23:55:12.670276Z"
    }
   },
   "outputs": [
    {
     "data": {
      "text/plain": [
       "Index(['Pregnancies', 'Glucose', 'BloodPressure', 'SkinThickness', 'Insulin',\n",
       "       'BMI', 'DiabetesPedigreeFunction', 'Age', 'Insulin_class_High',\n",
       "       'Insulin_class_Low', 'Insulin_class_Normal'],\n",
       "      dtype='object')"
      ]
     },
     "execution_count": 137,
     "metadata": {},
     "output_type": "execute_result"
    }
   ],
   "source": [
    "x.columns"
   ]
  },
  {
   "cell_type": "code",
   "execution_count": 138,
   "id": "fe44f4ea",
   "metadata": {
    "ExecuteTime": {
     "end_time": "2021-12-30T23:55:14.537262Z",
     "start_time": "2021-12-30T23:55:14.533541Z"
    }
   },
   "outputs": [
    {
     "data": {
      "text/plain": [
       "11"
      ]
     },
     "execution_count": 138,
     "metadata": {},
     "output_type": "execute_result"
    }
   ],
   "source": [
    "len(x.columns)"
   ]
  },
  {
   "cell_type": "markdown",
   "id": "93eb7efb",
   "metadata": {},
   "source": [
    "## random forest"
   ]
  },
  {
   "cell_type": "code",
   "execution_count": 139,
   "id": "437390c9",
   "metadata": {
    "ExecuteTime": {
     "end_time": "2021-12-30T23:55:18.790537Z",
     "start_time": "2021-12-30T23:55:18.786999Z"
    }
   },
   "outputs": [],
   "source": [
    "rf_params = {\"max_depth\": [2, 5, 8, 10],\n",
    "          \"max_features\": [5, 8,len(x.columns)],\n",
    "          \"n_estimators\": [100, 500, 1000,1500],\n",
    "          \"min_samples_split\": [2, 5, 10,20]}\n",
    "\n",
    "rf_model = RandomForestClassifier(random_state = 12345)\n"
   ]
  },
  {
   "cell_type": "code",
   "execution_count": 140,
   "id": "f4cb8904",
   "metadata": {
    "ExecuteTime": {
     "end_time": "2021-12-31T00:02:19.832938Z",
     "start_time": "2021-12-30T23:55:19.653942Z"
    }
   },
   "outputs": [
    {
     "name": "stdout",
     "output_type": "stream",
     "text": [
      "Fitting 5 folds for each of 192 candidates, totalling 960 fits\n"
     ]
    }
   ],
   "source": [
    "gs_cv = GridSearchCV(rf_model, \n",
    "                    rf_params,\n",
    "                    cv = 5,\n",
    "                    n_jobs = -1,\n",
    "                    verbose = 2).fit(x_train, y_train)"
   ]
  },
  {
   "cell_type": "code",
   "execution_count": 141,
   "id": "1033367b",
   "metadata": {
    "ExecuteTime": {
     "end_time": "2021-12-31T17:24:00.506745Z",
     "start_time": "2021-12-31T17:24:00.502561Z"
    }
   },
   "outputs": [
    {
     "name": "stdout",
     "output_type": "stream",
     "text": [
      "{'max_depth': 8, 'max_features': 11, 'min_samples_split': 10, 'n_estimators': 1500}\n",
      "0.8892443022790882\n"
     ]
    }
   ],
   "source": [
    "print(gs_cv.best_params_)\n",
    "print(gs_cv.best_score_)"
   ]
  },
  {
   "cell_type": "code",
   "execution_count": 142,
   "id": "4abe68d6",
   "metadata": {
    "ExecuteTime": {
     "end_time": "2021-12-31T17:24:38.529996Z",
     "start_time": "2021-12-31T17:24:04.287240Z"
    }
   },
   "outputs": [
    {
     "name": "stdout",
     "output_type": "stream",
     "text": [
      "[0.88709677 0.93548387 0.9516129  0.74193548 0.86885246 0.8852459\n",
      " 0.93442623 0.93442623 0.86885246 0.83606557] 0.8843997884717082 0.05937691371819521\n"
     ]
    }
   ],
   "source": [
    "rf_tuned = RandomForestClassifier(**gs_cv.best_params_,random_state=1234)\n",
    "rf_tuned = rf_tuned.fit(x_train,y_train)\n",
    "\n",
    "results = cross_val_score(rf_tuned, x_train, y_train, cv = 10)\n",
    "print(results,results.mean(),results.std())\n",
    "\n"
   ]
  },
  {
   "cell_type": "code",
   "execution_count": 143,
   "id": "658deb78",
   "metadata": {
    "ExecuteTime": {
     "end_time": "2021-12-31T17:24:50.132224Z",
     "start_time": "2021-12-31T17:24:49.773261Z"
    }
   },
   "outputs": [
    {
     "data": {
      "text/plain": [
       "<AxesSubplot:xlabel='importance', ylabel='features'>"
      ]
     },
     "execution_count": 143,
     "metadata": {},
     "output_type": "execute_result"
    },
    {
     "data": {
      "image/png": "[encoded data removed]",
      "text/plain": [
       "<Figure size 432x288 with 1 Axes>"
      ]
     },
     "metadata": {
      "needs_background": "light"
     },
     "output_type": "display_data"
    }
   ],
   "source": [
    "feature_importance_df = pd.DataFrame()\n",
    "feature_importance_df['features']=x_train.columns\n",
    "feature_importance_df['importance']=rf_tuned.feature_importances_\n",
    "feature_importance_df.sort_values('importance',ascending=False,inplace=True)\n",
    "sns.barplot(x='importance',y='features',data = feature_importance_df)"
   ]
  },
  {
   "cell_type": "markdown",
   "id": "9936f18a",
   "metadata": {},
   "source": [
    "## xgb tuning"
   ]
  },
  {
   "cell_type": "code",
   "execution_count": 144,
   "id": "2cf5ec23",
   "metadata": {
    "ExecuteTime": {
     "end_time": "2021-12-31T17:24:53.907391Z",
     "start_time": "2021-12-31T17:24:53.903721Z"
    }
   },
   "outputs": [],
   "source": [
    "xgb_params = {\n",
    "    \"learning_rate\": [0.01, 0.1, 1],\n",
    "    \"min_samples_split\": np.linspace(0.1, 0.5, 5),\n",
    "    \"max_depth\":[3,5,8],\n",
    "    \"subsample\":[0.5, 0.9, 1.0],\n",
    "    \"n_estimators\": [100,1000,1500]}"
   ]
  },
  {
   "cell_type": "code",
   "execution_count": 145,
   "id": "65d0fd94",
   "metadata": {
    "ExecuteTime": {
     "end_time": "2021-12-31T17:32:16.774388Z",
     "start_time": "2021-12-31T17:24:57.144750Z"
    }
   },
   "outputs": [
    {
     "name": "stdout",
     "output_type": "stream",
     "text": [
      "Fitting 5 folds for each of 405 candidates, totalling 2025 fits\n",
      "[CV] END learning_rate=0.01, max_depth=3, min_samples_split=0.1, n_estimators=100, subsample=0.5; total time=   0.2s\n",
      "[CV] END learning_rate=0.01, max_depth=3, min_samples_split=0.1, n_estimators=100, subsample=1.0; total time=   0.2s\n",
      "[CV] END learning_rate=0.01, max_depth=3, min_samples_split=0.1, n_estimators=1000, subsample=0.5; total time=   2.1s\n",
      "[CV] END learning_rate=0.01, max_depth=3, min_samples_split=0.1, n_estimators=1000, subsample=0.9; total time=   2.7s\n",
      "[CV] END learning_rate=0.01, max_depth=3, min_samples_split=0.1, n_estimators=1500, subsample=0.9; total time=   3.3s\n",
      "[CV] END learning_rate=0.01, max_depth=3, min_samples_split=0.1, n_estimators=1500, subsample=1.0; total time=   3.3s\n",
      "[CV] END learning_rate=0.01, max_depth=3, min_samples_split=0.2, n_estimators=1000, subsample=0.9; total time=   2.4s\n",
      "[CV] END learning_rate=0.01, max_depth=3, min_samples_split=0.2, n_estimators=1000, subsample=1.0; total time=   2.2s\n",
      "[CV] END learning_rate=0.01, max_depth=3, min_samples_split=0.2, n_estimators=1500, subsample=0.9; total time=   3.1s\n",
      "[CV] END learning_rate=0.01, max_depth=3, min_samples_split=0.30000000000000004, n_estimators=100, subsample=0.5; total time=   0.1s\n",
      "[CV] END learning_rate=0.01, max_depth=3, min_samples_split=0.30000000000000004, n_estimators=100, subsample=0.5; total time=   0.1s\n",
      "[CV] END learning_rate=0.01, max_depth=3, min_samples_split=0.30000000000000004, n_estimators=100, subsample=0.5; total time=   0.1s\n",
      "[CV] END learning_rate=0.01, max_depth=3, min_samples_split=0.30000000000000004, n_estimators=100, subsample=0.5; total time=   0.1s\n",
      "[CV] END learning_rate=0.01, max_depth=3, min_samples_split=0.30000000000000004, n_estimators=100, subsample=0.5; total time=   0.1s\n",
      "[CV] END learning_rate=0.01, max_depth=3, min_samples_split=0.30000000000000004, n_estimators=100, subsample=0.9; total time=   0.2s\n",
      "[CV] END learning_rate=0.01, max_depth=3, min_samples_split=0.30000000000000004, n_estimators=100, subsample=0.9; total time=   0.2s\n",
      "[CV] END learning_rate=0.01, max_depth=3, min_samples_split=0.30000000000000004, n_estimators=100, subsample=0.9; total time=   0.2s\n",
      "[CV] END learning_rate=0.01, max_depth=3, min_samples_split=0.30000000000000004, n_estimators=1000, subsample=0.5; total time=   1.7s\n",
      "[CV] END learning_rate=0.01, max_depth=3, min_samples_split=0.30000000000000004, n_estimators=1000, subsample=0.9; total time=   2.3s\n",
      "[CV] END learning_rate=0.01, max_depth=3, min_samples_split=0.30000000000000004, n_estimators=1500, subsample=0.5; total time=   2.5s\n",
      "[CV] END learning_rate=0.01, max_depth=3, min_samples_split=0.30000000000000004, n_estimators=1500, subsample=1.0; total time=   2.8s\n",
      "[CV] END learning_rate=0.01, max_depth=3, min_samples_split=0.4, n_estimators=100, subsample=1.0; total time=   0.2s\n",
      "[CV] END learning_rate=0.01, max_depth=3, min_samples_split=0.4, n_estimators=1000, subsample=0.5; total time=   1.4s\n",
      "[CV] END learning_rate=0.01, max_depth=3, min_samples_split=0.4, n_estimators=1000, subsample=1.0; total time=   2.1s\n",
      "[CV] END learning_rate=0.01, max_depth=3, min_samples_split=0.4, n_estimators=1500, subsample=0.5; total time=   2.5s\n",
      "[CV] END learning_rate=0.01, max_depth=3, min_samples_split=0.4, n_estimators=1500, subsample=0.9; total time=   2.8s\n",
      "[CV] END learning_rate=0.01, max_depth=3, min_samples_split=0.5, n_estimators=100, subsample=1.0; total time=   0.2s\n",
      "[CV] END learning_rate=0.01, max_depth=3, min_samples_split=0.5, n_estimators=1000, subsample=0.5; total time=   1.2s\n",
      "[CV] END learning_rate=0.01, max_depth=3, min_samples_split=0.5, n_estimators=1000, subsample=1.0; total time=   1.7s\n",
      "[CV] END learning_rate=0.01, max_depth=3, min_samples_split=0.5, n_estimators=1500, subsample=0.9; total time=   3.1s\n",
      "[CV] END learning_rate=0.01, max_depth=3, min_samples_split=0.5, n_estimators=1500, subsample=1.0; total time=   2.8s\n",
      "[CV] END learning_rate=0.01, max_depth=5, min_samples_split=0.1, n_estimators=1000, subsample=0.9; total time=   3.0s\n",
      "[CV] END learning_rate=0.01, max_depth=5, min_samples_split=0.1, n_estimators=1000, subsample=1.0; total time=   3.6s\n",
      "[CV] END learning_rate=0.01, max_depth=5, min_samples_split=0.1, n_estimators=1500, subsample=0.9; total time=   5.1s\n",
      "[CV] END learning_rate=0.01, max_depth=5, min_samples_split=0.2, n_estimators=100, subsample=0.5; total time=   0.2s\n",
      "[CV] END learning_rate=0.01, max_depth=5, min_samples_split=0.2, n_estimators=100, subsample=0.5; total time=   0.2s\n",
      "[CV] END learning_rate=0.01, max_depth=5, min_samples_split=0.2, n_estimators=100, subsample=0.5; total time=   0.2s\n",
      "[CV] END learning_rate=0.01, max_depth=5, min_samples_split=0.2, n_estimators=100, subsample=0.5; total time=   0.2s\n",
      "[CV] END learning_rate=0.01, max_depth=5, min_samples_split=0.2, n_estimators=100, subsample=0.5; total time=   0.2s\n",
      "[CV] END learning_rate=0.01, max_depth=5, min_samples_split=0.2, n_estimators=100, subsample=0.9; total time=   0.2s\n",
      "[CV] END learning_rate=0.01, max_depth=5, min_samples_split=0.2, n_estimators=100, subsample=0.9; total time=   0.3s\n",
      "[CV] END learning_rate=0.01, max_depth=5, min_samples_split=0.2, n_estimators=100, subsample=0.9; total time=   0.2s\n",
      "[CV] END learning_rate=0.01, max_depth=5, min_samples_split=0.2, n_estimators=100, subsample=1.0; total time=   0.2s\n",
      "[CV] END learning_rate=0.01, max_depth=5, min_samples_split=0.2, n_estimators=1000, subsample=0.5; total time=   2.1s\n",
      "[CV] END learning_rate=0.01, max_depth=5, min_samples_split=0.2, n_estimators=1000, subsample=1.0; total time=   3.1s\n",
      "[CV] END learning_rate=0.01, max_depth=5, min_samples_split=0.2, n_estimators=1500, subsample=0.5; total time=   2.9s\n",
      "[CV] END learning_rate=0.01, max_depth=5, min_samples_split=0.2, n_estimators=1500, subsample=1.0; total time=   4.1s\n",
      "[CV] END learning_rate=0.01, max_depth=5, min_samples_split=0.30000000000000004, n_estimators=100, subsample=1.0; total time=   0.3s\n",
      "[CV] END learning_rate=0.01, max_depth=5, min_samples_split=0.30000000000000004, n_estimators=1000, subsample=0.5; total time=   1.9s\n",
      "[CV] END learning_rate=0.01, max_depth=5, min_samples_split=0.30000000000000004, n_estimators=1000, subsample=0.9; total time=   2.6s\n",
      "[CV] END learning_rate=0.01, max_depth=5, min_samples_split=0.30000000000000004, n_estimators=1500, subsample=0.5; total time=   2.5s\n",
      "[CV] END learning_rate=0.01, max_depth=5, min_samples_split=0.30000000000000004, n_estimators=1500, subsample=1.0; total time=   3.8s\n",
      "[CV] END learning_rate=0.01, max_depth=5, min_samples_split=0.4, n_estimators=100, subsample=0.9; total time=   0.3s\n",
      "[CV] END learning_rate=0.01, max_depth=5, min_samples_split=0.4, n_estimators=100, subsample=1.0; total time=   0.2s\n",
      "[CV] END learning_rate=0.01, max_depth=5, min_samples_split=0.4, n_estimators=1000, subsample=0.5; total time=   1.7s\n",
      "[CV] END learning_rate=0.01, max_depth=5, min_samples_split=0.4, n_estimators=1000, subsample=1.0; total time=   2.2s\n",
      "[CV] END learning_rate=0.01, max_depth=5, min_samples_split=0.4, n_estimators=1500, subsample=0.5; total time=   2.1s\n",
      "[CV] END learning_rate=0.01, max_depth=5, min_samples_split=0.4, n_estimators=1500, subsample=1.0; total time=   3.4s\n",
      "[CV] END learning_rate=0.01, max_depth=5, min_samples_split=0.5, n_estimators=100, subsample=0.9; total time=   0.2s\n",
      "[CV] END learning_rate=0.01, max_depth=5, min_samples_split=0.5, n_estimators=100, subsample=1.0; total time=   0.2s\n",
      "[CV] END learning_rate=0.01, max_depth=5, min_samples_split=0.5, n_estimators=1000, subsample=0.5; total time=   1.1s\n",
      "[CV] END learning_rate=0.01, max_depth=5, min_samples_split=0.5, n_estimators=1000, subsample=0.9; total time=   2.0s\n",
      "[CV] END learning_rate=0.01, max_depth=5, min_samples_split=0.5, n_estimators=1500, subsample=0.5; total time=   1.4s\n",
      "[CV] END learning_rate=0.01, max_depth=5, min_samples_split=0.5, n_estimators=1500, subsample=0.9; total time=   2.9s\n",
      "[CV] END learning_rate=0.01, max_depth=8, min_samples_split=0.1, n_estimators=100, subsample=0.5; total time=   0.3s\n",
      "[CV] END learning_rate=0.01, max_depth=8, min_samples_split=0.1, n_estimators=100, subsample=0.5; total time=   0.3s\n",
      "[CV] END learning_rate=0.01, max_depth=8, min_samples_split=0.1, n_estimators=100, subsample=0.9; total time=   0.4s\n",
      "[CV] END learning_rate=0.01, max_depth=8, min_samples_split=0.1, n_estimators=100, subsample=1.0; total time=   0.5s\n",
      "[CV] END learning_rate=0.01, max_depth=8, min_samples_split=0.1, n_estimators=1000, subsample=0.5; total time=   3.2s\n",
      "[CV] END learning_rate=0.01, max_depth=8, min_samples_split=0.1, n_estimators=1000, subsample=1.0; total time=   4.0s\n",
      "[CV] END learning_rate=0.01, max_depth=8, min_samples_split=0.1, n_estimators=1500, subsample=0.9; total time=   6.4s\n",
      "[CV] END learning_rate=0.01, max_depth=8, min_samples_split=0.1, n_estimators=1500, subsample=1.0; total time=   6.2s\n",
      "[CV] END learning_rate=0.01, max_depth=8, min_samples_split=0.2, n_estimators=1000, subsample=0.9; total time=   3.8s\n",
      "[CV] END learning_rate=0.01, max_depth=8, min_samples_split=0.2, n_estimators=1500, subsample=0.5; total time=   3.3s\n",
      "[CV] END learning_rate=0.01, max_depth=8, min_samples_split=0.2, n_estimators=1500, subsample=1.0; total time=   5.2s\n",
      "[CV] END learning_rate=0.01, max_depth=8, min_samples_split=0.30000000000000004, n_estimators=100, subsample=0.5; total time=   0.2s\n",
      "[CV] END learning_rate=0.01, max_depth=8, min_samples_split=0.30000000000000004, n_estimators=100, subsample=0.9; total time=   0.3s\n",
      "[CV] END learning_rate=0.01, max_depth=8, min_samples_split=0.30000000000000004, n_estimators=100, subsample=1.0; total time=   0.3s\n",
      "[CV] END learning_rate=0.01, max_depth=8, min_samples_split=0.30000000000000004, n_estimators=1000, subsample=0.5; total time=   1.8s\n",
      "[CV] END learning_rate=0.01, max_depth=8, min_samples_split=0.30000000000000004, n_estimators=1000, subsample=0.9; total time=   2.8s\n",
      "[CV] END learning_rate=0.01, max_depth=8, min_samples_split=0.30000000000000004, n_estimators=1500, subsample=0.5; total time=   2.4s\n",
      "[CV] END learning_rate=0.01, max_depth=8, min_samples_split=0.30000000000000004, n_estimators=1500, subsample=0.9; total time=   4.9s\n",
      "[CV] END learning_rate=0.01, max_depth=8, min_samples_split=0.4, n_estimators=100, subsample=0.5; total time=   0.1s\n",
      "[CV] END learning_rate=0.01, max_depth=8, min_samples_split=0.4, n_estimators=100, subsample=0.9; total time=   0.2s\n",
      "[CV] END learning_rate=0.01, max_depth=8, min_samples_split=0.4, n_estimators=100, subsample=1.0; total time=   0.2s\n",
      "[CV] END learning_rate=0.01, max_depth=8, min_samples_split=0.4, n_estimators=1000, subsample=0.5; total time=   1.4s\n",
      "[CV] END learning_rate=0.01, max_depth=8, min_samples_split=0.4, n_estimators=1000, subsample=0.9; total time=   2.4s\n",
      "[CV] END learning_rate=0.01, max_depth=8, min_samples_split=0.4, n_estimators=1500, subsample=0.5; total time=   2.2s\n",
      "[CV] END learning_rate=0.01, max_depth=8, min_samples_split=0.4, n_estimators=1500, subsample=0.9; total time=   4.1s\n",
      "[CV] END learning_rate=0.01, max_depth=8, min_samples_split=0.5, n_estimators=100, subsample=0.5; total time=   0.1s\n",
      "[CV] END learning_rate=0.01, max_depth=8, min_samples_split=0.5, n_estimators=100, subsample=0.5; total time=   0.1s\n",
      "[CV] END learning_rate=0.01, max_depth=8, min_samples_split=0.5, n_estimators=100, subsample=0.9; total time=   0.2s\n",
      "[CV] END learning_rate=0.01, max_depth=8, min_samples_split=0.5, n_estimators=100, subsample=1.0; total time=   0.2s\n",
      "[CV] END learning_rate=0.01, max_depth=8, min_samples_split=0.5, n_estimators=1000, subsample=0.5; total time=   0.9s\n",
      "[CV] END learning_rate=0.01, max_depth=8, min_samples_split=0.5, n_estimators=1000, subsample=0.9; total time=   2.0s\n",
      "[CV] END learning_rate=0.01, max_depth=8, min_samples_split=0.5, n_estimators=1000, subsample=1.0; total time=   2.1s\n",
      "[CV] END learning_rate=0.01, max_depth=8, min_samples_split=0.5, n_estimators=1500, subsample=1.0; total time=   3.8s\n",
      "[CV] END learning_rate=0.1, max_depth=3, min_samples_split=0.1, n_estimators=100, subsample=0.9; total time=   0.2s\n",
      "[CV] END learning_rate=0.1, max_depth=3, min_samples_split=0.1, n_estimators=100, subsample=1.0; total time=   0.2s\n",
      "[CV] END learning_rate=0.1, max_depth=3, min_samples_split=0.1, n_estimators=1000, subsample=0.5; total time=   1.6s\n",
      "[CV] END learning_rate=0.1, max_depth=3, min_samples_split=0.1, n_estimators=1000, subsample=0.9; total time=   2.0s\n",
      "[CV] END learning_rate=0.1, max_depth=3, min_samples_split=0.1, n_estimators=1500, subsample=0.5; total time=   2.6s\n",
      "[CV] END learning_rate=0.1, max_depth=3, min_samples_split=0.1, n_estimators=1500, subsample=0.9; total time=   3.6s\n",
      "[CV] END learning_rate=0.1, max_depth=3, min_samples_split=0.2, n_estimators=100, subsample=0.9; total time=   0.2s\n",
      "[CV] END learning_rate=0.1, max_depth=3, min_samples_split=0.2, n_estimators=100, subsample=1.0; total time=   0.2s\n",
      "[CV] END learning_rate=0.1, max_depth=3, min_samples_split=0.2, n_estimators=1000, subsample=0.5; total time=   1.6s\n",
      "[CV] END learning_rate=0.1, max_depth=3, min_samples_split=0.2, n_estimators=1000, subsample=1.0; total time=   1.9s\n",
      "[CV] END learning_rate=0.1, max_depth=3, min_samples_split=0.2, n_estimators=1500, subsample=0.5; total time=   2.4s\n",
      "[CV] END learning_rate=0.1, max_depth=3, min_samples_split=0.2, n_estimators=1500, subsample=0.9; total time=   3.5s\n",
      "[CV] END learning_rate=0.1, max_depth=3, min_samples_split=0.30000000000000004, n_estimators=100, subsample=1.0; total time=   0.2s\n",
      "[CV] END learning_rate=0.1, max_depth=3, min_samples_split=0.30000000000000004, n_estimators=1000, subsample=0.9; total time=   2.0s\n",
      "[CV] END learning_rate=0.1, max_depth=3, min_samples_split=0.30000000000000004, n_estimators=1000, subsample=1.0; total time=   1.8s\n",
      "[CV] END learning_rate=0.1, max_depth=3, min_samples_split=0.30000000000000004, n_estimators=1500, subsample=0.9; total time=   2.9s\n",
      "[CV] END learning_rate=0.1, max_depth=3, min_samples_split=0.30000000000000004, n_estimators=1500, subsample=1.0; total time=   3.2s\n",
      "[CV] END learning_rate=0.1, max_depth=3, min_samples_split=0.4, n_estimators=1000, subsample=0.9; total time=   2.0s\n",
      "[CV] END learning_rate=0.1, max_depth=3, min_samples_split=0.4, n_estimators=1500, subsample=0.5; total time=   2.0s\n",
      "[CV] END learning_rate=0.1, max_depth=3, min_samples_split=0.4, n_estimators=1500, subsample=0.9; total time=   2.8s\n",
      "[CV] END learning_rate=0.1, max_depth=3, min_samples_split=0.5, n_estimators=100, subsample=0.9; total time=   0.2s\n",
      "[CV] END learning_rate=0.1, max_depth=3, min_samples_split=0.5, n_estimators=100, subsample=0.9; total time=   0.2s\n",
      "[CV] END learning_rate=0.1, max_depth=3, min_samples_split=0.5, n_estimators=100, subsample=1.0; total time=   0.2s\n",
      "[CV] END learning_rate=0.1, max_depth=3, min_samples_split=0.5, n_estimators=1000, subsample=0.9; total time=   2.2s\n",
      "[CV] END learning_rate=0.1, max_depth=3, min_samples_split=0.5, n_estimators=1000, subsample=1.0; total time=   2.0s\n",
      "[CV] END learning_rate=0.1, max_depth=3, min_samples_split=0.5, n_estimators=1500, subsample=0.9; total time=   2.7s\n",
      "[CV] END learning_rate=0.1, max_depth=3, min_samples_split=0.5, n_estimators=1500, subsample=1.0; total time=   2.6s\n",
      "[CV] END learning_rate=0.1, max_depth=5, min_samples_split=0.1, n_estimators=1000, subsample=0.9; total time=   3.4s\n",
      "[CV] END learning_rate=0.1, max_depth=5, min_samples_split=0.1, n_estimators=1500, subsample=0.5; total time=   3.3s\n",
      "[CV] END learning_rate=0.1, max_depth=5, min_samples_split=0.1, n_estimators=1500, subsample=0.9; total time=   3.7s\n",
      "[CV] END learning_rate=0.1, max_depth=5, min_samples_split=0.2, n_estimators=100, subsample=0.9; total time=   0.3s\n",
      "[CV] END learning_rate=0.1, max_depth=5, min_samples_split=0.2, n_estimators=100, subsample=0.9; total time=   0.3s\n",
      "[CV] END learning_rate=0.1, max_depth=5, min_samples_split=0.2, n_estimators=100, subsample=0.9; total time=   0.3s\n",
      "[CV] END learning_rate=0.1, max_depth=5, min_samples_split=0.2, n_estimators=1000, subsample=0.5; total time=   2.3s\n",
      "[CV] END learning_rate=0.1, max_depth=5, min_samples_split=0.2, n_estimators=1000, subsample=0.9; total time=   2.7s\n",
      "[CV] END learning_rate=0.1, max_depth=5, min_samples_split=0.2, n_estimators=1500, subsample=0.5; total time=   2.8s\n",
      "[CV] END learning_rate=0.1, max_depth=5, min_samples_split=0.2, n_estimators=1500, subsample=1.0; total time=   3.9s\n",
      "[CV] END learning_rate=0.1, max_depth=5, min_samples_split=0.30000000000000004, n_estimators=100, subsample=1.0; total time=   0.3s\n"
     ]
    },
    {
     "name": "stdout",
     "output_type": "stream",
     "text": [
      "[CV] END learning_rate=0.01, max_depth=3, min_samples_split=0.1, n_estimators=100, subsample=0.9; total time=   0.2s\n",
      "[CV] END learning_rate=0.01, max_depth=3, min_samples_split=0.1, n_estimators=100, subsample=1.0; total time=   0.2s\n",
      "[CV] END learning_rate=0.01, max_depth=3, min_samples_split=0.1, n_estimators=1000, subsample=0.9; total time=   2.7s\n",
      "[CV] END learning_rate=0.01, max_depth=3, min_samples_split=0.1, n_estimators=1000, subsample=1.0; total time=   2.5s\n",
      "[CV] END learning_rate=0.01, max_depth=3, min_samples_split=0.1, n_estimators=1500, subsample=0.9; total time=   3.2s\n",
      "[CV] END learning_rate=0.01, max_depth=3, min_samples_split=0.2, n_estimators=100, subsample=0.5; total time=   0.2s\n",
      "[CV] END learning_rate=0.01, max_depth=3, min_samples_split=0.2, n_estimators=100, subsample=0.5; total time=   0.2s\n",
      "[CV] END learning_rate=0.01, max_depth=3, min_samples_split=0.2, n_estimators=100, subsample=0.5; total time=   0.2s\n",
      "[CV] END learning_rate=0.01, max_depth=3, min_samples_split=0.2, n_estimators=100, subsample=0.5; total time=   0.2s\n",
      "[CV] END learning_rate=0.01, max_depth=3, min_samples_split=0.2, n_estimators=100, subsample=0.9; total time=   0.2s\n",
      "[CV] END learning_rate=0.01, max_depth=3, min_samples_split=0.2, n_estimators=100, subsample=0.9; total time=   0.2s\n",
      "[CV] END learning_rate=0.01, max_depth=3, min_samples_split=0.2, n_estimators=100, subsample=0.9; total time=   0.2s\n",
      "[CV] END learning_rate=0.01, max_depth=3, min_samples_split=0.2, n_estimators=100, subsample=1.0; total time=   0.2s\n",
      "[CV] END learning_rate=0.01, max_depth=3, min_samples_split=0.2, n_estimators=100, subsample=1.0; total time=   0.2s\n",
      "[CV] END learning_rate=0.01, max_depth=3, min_samples_split=0.2, n_estimators=1000, subsample=0.5; total time=   1.9s\n",
      "[CV] END learning_rate=0.01, max_depth=3, min_samples_split=0.2, n_estimators=1000, subsample=0.9; total time=   2.4s\n",
      "[CV] END learning_rate=0.01, max_depth=3, min_samples_split=0.2, n_estimators=1500, subsample=0.5; total time=   2.6s\n",
      "[CV] END learning_rate=0.01, max_depth=3, min_samples_split=0.2, n_estimators=1500, subsample=0.9; total time=   3.1s\n",
      "[CV] END learning_rate=0.01, max_depth=3, min_samples_split=0.30000000000000004, n_estimators=100, subsample=1.0; total time=   0.2s\n",
      "[CV] END learning_rate=0.01, max_depth=3, min_samples_split=0.30000000000000004, n_estimators=1000, subsample=0.5; total time=   1.7s\n",
      "[CV] END learning_rate=0.01, max_depth=3, min_samples_split=0.30000000000000004, n_estimators=1000, subsample=1.0; total time=   2.2s\n",
      "[CV] END learning_rate=0.01, max_depth=3, min_samples_split=0.30000000000000004, n_estimators=1500, subsample=0.5; total time=   2.6s\n",
      "[CV] END learning_rate=0.01, max_depth=3, min_samples_split=0.30000000000000004, n_estimators=1500, subsample=0.9; total time=   3.0s\n",
      "[CV] END learning_rate=0.01, max_depth=3, min_samples_split=0.4, n_estimators=1000, subsample=0.5; total time=   1.4s\n",
      "[CV] END learning_rate=0.01, max_depth=3, min_samples_split=0.4, n_estimators=1000, subsample=0.9; total time=   2.2s\n",
      "[CV] END learning_rate=0.01, max_depth=3, min_samples_split=0.4, n_estimators=1500, subsample=0.5; total time=   2.6s\n",
      "[CV] END learning_rate=0.01, max_depth=3, min_samples_split=0.4, n_estimators=1500, subsample=1.0; total time=   2.6s\n",
      "[CV] END learning_rate=0.01, max_depth=3, min_samples_split=0.5, n_estimators=100, subsample=1.0; total time=   0.2s\n",
      "[CV] END learning_rate=0.01, max_depth=3, min_samples_split=0.5, n_estimators=1000, subsample=0.5; total time=   0.9s\n",
      "[CV] END learning_rate=0.01, max_depth=3, min_samples_split=0.5, n_estimators=1000, subsample=1.0; total time=   1.7s\n",
      "[CV] END learning_rate=0.01, max_depth=3, min_samples_split=0.5, n_estimators=1500, subsample=0.5; total time=   1.6s\n",
      "[CV] END learning_rate=0.01, max_depth=3, min_samples_split=0.5, n_estimators=1500, subsample=0.9; total time=   3.2s\n",
      "[CV] END learning_rate=0.01, max_depth=5, min_samples_split=0.1, n_estimators=100, subsample=0.5; total time=   0.2s\n",
      "[CV] END learning_rate=0.01, max_depth=5, min_samples_split=0.1, n_estimators=100, subsample=0.9; total time=   0.3s\n",
      "[CV] END learning_rate=0.01, max_depth=5, min_samples_split=0.1, n_estimators=100, subsample=1.0; total time=   0.3s\n",
      "[CV] END learning_rate=0.01, max_depth=5, min_samples_split=0.1, n_estimators=1000, subsample=0.5; total time=   2.2s\n",
      "[CV] END learning_rate=0.01, max_depth=5, min_samples_split=0.1, n_estimators=1000, subsample=1.0; total time=   3.3s\n",
      "[CV] END learning_rate=0.01, max_depth=5, min_samples_split=0.1, n_estimators=1500, subsample=0.9; total time=   5.5s\n",
      "[CV] END learning_rate=0.01, max_depth=5, min_samples_split=0.1, n_estimators=1500, subsample=1.0; total time=   4.5s\n",
      "[CV] END learning_rate=0.01, max_depth=5, min_samples_split=0.2, n_estimators=1000, subsample=0.9; total time=   3.1s\n",
      "[CV] END learning_rate=0.01, max_depth=5, min_samples_split=0.2, n_estimators=1000, subsample=1.0; total time=   2.7s\n",
      "[CV] END learning_rate=0.01, max_depth=5, min_samples_split=0.2, n_estimators=1500, subsample=0.9; total time=   4.0s\n",
      "[CV] END learning_rate=0.01, max_depth=5, min_samples_split=0.30000000000000004, n_estimators=100, subsample=0.5; total time=   0.1s\n",
      "[CV] END learning_rate=0.01, max_depth=5, min_samples_split=0.30000000000000004, n_estimators=100, subsample=0.5; total time=   0.1s\n",
      "[CV] END learning_rate=0.01, max_depth=5, min_samples_split=0.30000000000000004, n_estimators=100, subsample=0.5; total time=   0.2s\n",
      "[CV] END learning_rate=0.01, max_depth=5, min_samples_split=0.30000000000000004, n_estimators=100, subsample=0.5; total time=   0.2s\n",
      "[CV] END learning_rate=0.01, max_depth=5, min_samples_split=0.30000000000000004, n_estimators=100, subsample=0.5; total time=   0.2s\n",
      "[CV] END learning_rate=0.01, max_depth=5, min_samples_split=0.30000000000000004, n_estimators=100, subsample=0.9; total time=   0.3s\n",
      "[CV] END learning_rate=0.01, max_depth=5, min_samples_split=0.30000000000000004, n_estimators=100, subsample=1.0; total time=   0.3s\n",
      "[CV] END learning_rate=0.01, max_depth=5, min_samples_split=0.30000000000000004, n_estimators=1000, subsample=0.5; total time=   1.9s\n",
      "[CV] END learning_rate=0.01, max_depth=5, min_samples_split=0.30000000000000004, n_estimators=1000, subsample=0.9; total time=   2.6s\n",
      "[CV] END learning_rate=0.01, max_depth=5, min_samples_split=0.30000000000000004, n_estimators=1500, subsample=0.5; total time=   2.4s\n",
      "[CV] END learning_rate=0.01, max_depth=5, min_samples_split=0.30000000000000004, n_estimators=1500, subsample=1.0; total time=   3.8s\n",
      "[CV] END learning_rate=0.01, max_depth=5, min_samples_split=0.4, n_estimators=100, subsample=0.5; total time=   0.2s\n",
      "[CV] END learning_rate=0.01, max_depth=5, min_samples_split=0.4, n_estimators=100, subsample=1.0; total time=   0.2s\n",
      "[CV] END learning_rate=0.01, max_depth=5, min_samples_split=0.4, n_estimators=1000, subsample=0.5; total time=   1.7s\n",
      "[CV] END learning_rate=0.01, max_depth=5, min_samples_split=0.4, n_estimators=1000, subsample=0.9; total time=   2.2s\n",
      "[CV] END learning_rate=0.01, max_depth=5, min_samples_split=0.4, n_estimators=1500, subsample=0.5; total time=   2.1s\n",
      "[CV] END learning_rate=0.01, max_depth=5, min_samples_split=0.4, n_estimators=1500, subsample=0.9; total time=   3.4s\n",
      "[CV] END learning_rate=0.01, max_depth=5, min_samples_split=0.5, n_estimators=100, subsample=0.5; total time=   0.1s\n",
      "[CV] END learning_rate=0.01, max_depth=5, min_samples_split=0.5, n_estimators=100, subsample=0.9; total time=   0.2s\n",
      "[CV] END learning_rate=0.01, max_depth=5, min_samples_split=0.5, n_estimators=1000, subsample=0.5; total time=   1.1s\n",
      "[CV] END learning_rate=0.01, max_depth=5, min_samples_split=0.5, n_estimators=1000, subsample=0.9; total time=   2.1s\n",
      "[CV] END learning_rate=0.01, max_depth=5, min_samples_split=0.5, n_estimators=1000, subsample=1.0; total time=   2.0s\n",
      "[CV] END learning_rate=0.01, max_depth=5, min_samples_split=0.5, n_estimators=1500, subsample=1.0; total time=   2.9s\n",
      "[CV] END learning_rate=0.01, max_depth=8, min_samples_split=0.1, n_estimators=100, subsample=0.9; total time=   0.4s\n",
      "[CV] END learning_rate=0.01, max_depth=8, min_samples_split=0.1, n_estimators=100, subsample=1.0; total time=   0.5s\n",
      "[CV] END learning_rate=0.01, max_depth=8, min_samples_split=0.1, n_estimators=1000, subsample=0.9; total time=   4.5s\n",
      "[CV] END learning_rate=0.01, max_depth=8, min_samples_split=0.1, n_estimators=1000, subsample=1.0; total time=   4.1s\n",
      "[CV] END learning_rate=0.01, max_depth=8, min_samples_split=0.1, n_estimators=1500, subsample=0.9; total time=   6.4s\n",
      "[CV] END learning_rate=0.01, max_depth=8, min_samples_split=0.1, n_estimators=1500, subsample=1.0; total time=   6.3s\n",
      "[CV] END learning_rate=0.01, max_depth=8, min_samples_split=0.2, n_estimators=1000, subsample=1.0; total time=   3.7s\n",
      "[CV] END learning_rate=0.01, max_depth=8, min_samples_split=0.2, n_estimators=1500, subsample=0.9; total time=   5.1s\n",
      "[CV] END learning_rate=0.01, max_depth=8, min_samples_split=0.2, n_estimators=1500, subsample=1.0; total time=   5.4s\n",
      "[CV] END learning_rate=0.01, max_depth=8, min_samples_split=0.30000000000000004, n_estimators=1000, subsample=1.0; total time=   3.0s\n",
      "[CV] END learning_rate=0.01, max_depth=8, min_samples_split=0.30000000000000004, n_estimators=1500, subsample=0.9; total time=   4.6s\n",
      "[CV] END learning_rate=0.01, max_depth=8, min_samples_split=0.30000000000000004, n_estimators=1500, subsample=1.0; total time=   4.5s\n",
      "[CV] END learning_rate=0.01, max_depth=8, min_samples_split=0.4, n_estimators=1000, subsample=1.0; total time=   2.4s\n",
      "[CV] END learning_rate=0.01, max_depth=8, min_samples_split=0.4, n_estimators=1500, subsample=0.5; total time=   2.4s\n",
      "[CV] END learning_rate=0.01, max_depth=8, min_samples_split=0.4, n_estimators=1500, subsample=1.0; total time=   4.2s\n",
      "[CV] END learning_rate=0.01, max_depth=8, min_samples_split=0.5, n_estimators=1000, subsample=0.9; total time=   2.0s\n",
      "[CV] END learning_rate=0.01, max_depth=8, min_samples_split=0.5, n_estimators=1000, subsample=1.0; total time=   2.1s\n",
      "[CV] END learning_rate=0.01, max_depth=8, min_samples_split=0.5, n_estimators=1500, subsample=0.9; total time=   3.8s\n",
      "[CV] END learning_rate=0.1, max_depth=3, min_samples_split=0.1, n_estimators=100, subsample=0.5; total time=   0.2s\n",
      "[CV] END learning_rate=0.1, max_depth=3, min_samples_split=0.1, n_estimators=100, subsample=0.9; total time=   0.3s\n",
      "[CV] END learning_rate=0.1, max_depth=3, min_samples_split=0.1, n_estimators=100, subsample=1.0; total time=   0.2s\n",
      "[CV] END learning_rate=0.1, max_depth=3, min_samples_split=0.1, n_estimators=1000, subsample=0.5; total time=   1.7s\n",
      "[CV] END learning_rate=0.1, max_depth=3, min_samples_split=0.1, n_estimators=1000, subsample=0.9; total time=   2.1s\n",
      "[CV] END learning_rate=0.1, max_depth=3, min_samples_split=0.1, n_estimators=1000, subsample=1.0; total time=   2.0s\n",
      "[CV] END learning_rate=0.1, max_depth=3, min_samples_split=0.1, n_estimators=1500, subsample=0.9; total time=   3.6s\n",
      "[CV] END learning_rate=0.1, max_depth=3, min_samples_split=0.2, n_estimators=100, subsample=0.5; total time=   0.2s\n",
      "[CV] END learning_rate=0.1, max_depth=3, min_samples_split=0.2, n_estimators=100, subsample=0.5; total time=   0.2s\n",
      "[CV] END learning_rate=0.1, max_depth=3, min_samples_split=0.2, n_estimators=100, subsample=0.5; total time=   0.2s\n",
      "[CV] END learning_rate=0.1, max_depth=3, min_samples_split=0.2, n_estimators=100, subsample=0.5; total time=   0.2s\n",
      "[CV] END learning_rate=0.1, max_depth=3, min_samples_split=0.2, n_estimators=100, subsample=0.9; total time=   0.2s\n",
      "[CV] END learning_rate=0.1, max_depth=3, min_samples_split=0.2, n_estimators=1000, subsample=0.5; total time=   1.6s\n",
      "[CV] END learning_rate=0.1, max_depth=3, min_samples_split=0.2, n_estimators=1000, subsample=0.9; total time=   2.0s\n",
      "[CV] END learning_rate=0.1, max_depth=3, min_samples_split=0.2, n_estimators=1500, subsample=0.9; total time=   3.1s\n",
      "[CV] END learning_rate=0.1, max_depth=3, min_samples_split=0.2, n_estimators=1500, subsample=1.0; total time=   3.3s\n",
      "[CV] END learning_rate=0.1, max_depth=3, min_samples_split=0.30000000000000004, n_estimators=1000, subsample=0.9; total time=   2.0s\n",
      "[CV] END learning_rate=0.1, max_depth=3, min_samples_split=0.30000000000000004, n_estimators=1000, subsample=1.0; total time=   1.9s\n",
      "[CV] END learning_rate=0.1, max_depth=3, min_samples_split=0.30000000000000004, n_estimators=1500, subsample=0.9; total time=   3.0s\n",
      "[CV] END learning_rate=0.1, max_depth=3, min_samples_split=0.4, n_estimators=100, subsample=0.5; total time=   0.2s\n",
      "[CV] END learning_rate=0.1, max_depth=3, min_samples_split=0.4, n_estimators=100, subsample=0.5; total time=   0.2s\n",
      "[CV] END learning_rate=0.1, max_depth=3, min_samples_split=0.4, n_estimators=100, subsample=0.5; total time=   0.2s\n",
      "[CV] END learning_rate=0.1, max_depth=3, min_samples_split=0.4, n_estimators=100, subsample=0.5; total time=   0.2s\n",
      "[CV] END learning_rate=0.1, max_depth=3, min_samples_split=0.4, n_estimators=100, subsample=0.5; total time=   0.2s\n",
      "[CV] END learning_rate=0.1, max_depth=3, min_samples_split=0.4, n_estimators=100, subsample=0.9; total time=   0.2s\n",
      "[CV] END learning_rate=0.1, max_depth=3, min_samples_split=0.4, n_estimators=100, subsample=0.9; total time=   0.2s\n",
      "[CV] END learning_rate=0.1, max_depth=3, min_samples_split=0.4, n_estimators=100, subsample=0.9; total time=   0.2s\n",
      "[CV] END learning_rate=0.1, max_depth=3, min_samples_split=0.4, n_estimators=100, subsample=1.0; total time=   0.2s\n",
      "[CV] END learning_rate=0.1, max_depth=3, min_samples_split=0.4, n_estimators=1000, subsample=0.5; total time=   1.6s\n",
      "[CV] END learning_rate=0.1, max_depth=3, min_samples_split=0.4, n_estimators=1000, subsample=1.0; total time=   1.8s\n",
      "[CV] END learning_rate=0.1, max_depth=3, min_samples_split=0.4, n_estimators=1500, subsample=0.5; total time=   2.0s\n",
      "[CV] END learning_rate=0.1, max_depth=3, min_samples_split=0.4, n_estimators=1500, subsample=1.0; total time=   2.7s\n",
      "[CV] END learning_rate=0.1, max_depth=3, min_samples_split=0.5, n_estimators=100, subsample=0.9; total time=   0.2s\n",
      "[CV] END learning_rate=0.1, max_depth=3, min_samples_split=0.5, n_estimators=1000, subsample=0.5; total time=   1.2s\n",
      "[CV] END learning_rate=0.1, max_depth=3, min_samples_split=0.5, n_estimators=1000, subsample=0.9; total time=   2.3s\n",
      "[CV] END learning_rate=0.1, max_depth=3, min_samples_split=0.5, n_estimators=1500, subsample=0.5; total time=   1.5s\n",
      "[CV] END learning_rate=0.1, max_depth=3, min_samples_split=0.5, n_estimators=1500, subsample=0.9; total time=   2.8s\n",
      "[CV] END learning_rate=0.1, max_depth=5, min_samples_split=0.1, n_estimators=100, subsample=0.5; total time=   0.2s\n",
      "[CV] END learning_rate=0.1, max_depth=5, min_samples_split=0.1, n_estimators=100, subsample=0.9; total time=   0.3s\n",
      "[CV] END learning_rate=0.1, max_depth=5, min_samples_split=0.1, n_estimators=100, subsample=1.0; total time=   0.4s\n",
      "[CV] END learning_rate=0.1, max_depth=5, min_samples_split=0.1, n_estimators=1000, subsample=0.5; total time=   2.3s\n",
      "[CV] END learning_rate=0.1, max_depth=5, min_samples_split=0.1, n_estimators=1000, subsample=1.0; total time=   3.4s\n",
      "[CV] END learning_rate=0.1, max_depth=5, min_samples_split=0.1, n_estimators=1500, subsample=0.5; total time=   3.2s\n",
      "[CV] END learning_rate=0.1, max_depth=5, min_samples_split=0.1, n_estimators=1500, subsample=1.0; total time=   3.4s\n",
      "[CV] END learning_rate=0.1, max_depth=5, min_samples_split=0.2, n_estimators=100, subsample=1.0; total time=   0.3s\n",
      "[CV] END learning_rate=0.1, max_depth=5, min_samples_split=0.2, n_estimators=1000, subsample=0.5; total time=   2.3s\n",
      "[CV] END learning_rate=0.1, max_depth=5, min_samples_split=0.2, n_estimators=1000, subsample=1.0; total time=   2.7s\n",
      "[CV] END learning_rate=0.1, max_depth=5, min_samples_split=0.2, n_estimators=1500, subsample=0.5; total time=   2.9s\n",
      "[CV] END learning_rate=0.1, max_depth=5, min_samples_split=0.2, n_estimators=1500, subsample=0.9; total time=   4.3s\n",
      "[CV] END learning_rate=0.1, max_depth=5, min_samples_split=0.30000000000000004, n_estimators=1000, subsample=0.5; total time=   1.8s\n",
      "[CV] END learning_rate=0.1, max_depth=5, min_samples_split=0.30000000000000004, n_estimators=1000, subsample=0.9; total time=   2.3s\n",
      "[CV] END learning_rate=0.1, max_depth=5, min_samples_split=0.30000000000000004, n_estimators=1500, subsample=0.5; total time=   2.5s\n"
     ]
    },
    {
     "name": "stdout",
     "output_type": "stream",
     "text": [
      "[CV] END learning_rate=0.01, max_depth=3, min_samples_split=0.1, n_estimators=100, subsample=0.9; total time=   0.2s\n",
      "[CV] END learning_rate=0.01, max_depth=3, min_samples_split=0.1, n_estimators=1000, subsample=0.5; total time=   2.1s\n",
      "[CV] END learning_rate=0.01, max_depth=3, min_samples_split=0.1, n_estimators=1000, subsample=0.9; total time=   2.7s\n",
      "[CV] END learning_rate=0.01, max_depth=3, min_samples_split=0.1, n_estimators=1500, subsample=0.5; total time=   2.7s\n",
      "[CV] END learning_rate=0.01, max_depth=3, min_samples_split=0.1, n_estimators=1500, subsample=0.9; total time=   3.3s\n",
      "[CV] END learning_rate=0.01, max_depth=3, min_samples_split=0.2, n_estimators=1000, subsample=0.5; total time=   2.0s\n",
      "[CV] END learning_rate=0.01, max_depth=3, min_samples_split=0.2, n_estimators=1000, subsample=1.0; total time=   2.3s\n",
      "[CV] END learning_rate=0.01, max_depth=3, min_samples_split=0.2, n_estimators=1500, subsample=0.5; total time=   2.6s\n",
      "[CV] END learning_rate=0.01, max_depth=3, min_samples_split=0.2, n_estimators=1500, subsample=1.0; total time=   2.9s\n",
      "[CV] END learning_rate=0.01, max_depth=3, min_samples_split=0.30000000000000004, n_estimators=100, subsample=1.0; total time=   0.2s\n",
      "[CV] END learning_rate=0.01, max_depth=3, min_samples_split=0.30000000000000004, n_estimators=1000, subsample=0.9; total time=   2.3s\n",
      "[CV] END learning_rate=0.01, max_depth=3, min_samples_split=0.30000000000000004, n_estimators=1000, subsample=1.0; total time=   2.2s\n",
      "[CV] END learning_rate=0.01, max_depth=3, min_samples_split=0.30000000000000004, n_estimators=1500, subsample=0.9; total time=   3.1s\n",
      "[CV] END learning_rate=0.01, max_depth=3, min_samples_split=0.30000000000000004, n_estimators=1500, subsample=1.0; total time=   2.8s\n",
      "[CV] END learning_rate=0.01, max_depth=3, min_samples_split=0.4, n_estimators=1000, subsample=0.9; total time=   2.2s\n",
      "[CV] END learning_rate=0.01, max_depth=3, min_samples_split=0.4, n_estimators=1500, subsample=0.5; total time=   2.6s\n",
      "[CV] END learning_rate=0.01, max_depth=3, min_samples_split=0.4, n_estimators=1500, subsample=0.9; total time=   2.9s\n",
      "[CV] END learning_rate=0.01, max_depth=3, min_samples_split=0.5, n_estimators=100, subsample=0.9; total time=   0.2s\n",
      "[CV] END learning_rate=0.01, max_depth=3, min_samples_split=0.5, n_estimators=100, subsample=1.0; total time=   0.2s\n",
      "[CV] END learning_rate=0.01, max_depth=3, min_samples_split=0.5, n_estimators=1000, subsample=0.5; total time=   0.9s\n",
      "[CV] END learning_rate=0.01, max_depth=3, min_samples_split=0.5, n_estimators=1000, subsample=0.9; total time=   1.8s\n",
      "[CV] END learning_rate=0.01, max_depth=3, min_samples_split=0.5, n_estimators=1500, subsample=0.5; total time=   1.6s\n",
      "[CV] END learning_rate=0.01, max_depth=3, min_samples_split=0.5, n_estimators=1500, subsample=1.0; total time=   3.0s\n",
      "[CV] END learning_rate=0.01, max_depth=5, min_samples_split=0.1, n_estimators=100, subsample=0.5; total time=   0.3s\n",
      "[CV] END learning_rate=0.01, max_depth=5, min_samples_split=0.1, n_estimators=100, subsample=0.9; total time=   0.3s\n",
      "[CV] END learning_rate=0.01, max_depth=5, min_samples_split=0.1, n_estimators=100, subsample=1.0; total time=   0.3s\n",
      "[CV] END learning_rate=0.01, max_depth=5, min_samples_split=0.1, n_estimators=1000, subsample=0.5; total time=   2.2s\n",
      "[CV] END learning_rate=0.01, max_depth=5, min_samples_split=0.1, n_estimators=1000, subsample=1.0; total time=   3.3s\n",
      "[CV] END learning_rate=0.01, max_depth=5, min_samples_split=0.1, n_estimators=1500, subsample=0.5; total time=   4.2s\n",
      "[CV] END learning_rate=0.01, max_depth=5, min_samples_split=0.1, n_estimators=1500, subsample=1.0; total time=   4.5s\n",
      "[CV] END learning_rate=0.01, max_depth=5, min_samples_split=0.2, n_estimators=1000, subsample=0.5; total time=   2.0s\n",
      "[CV] END learning_rate=0.01, max_depth=5, min_samples_split=0.2, n_estimators=1000, subsample=0.9; total time=   3.1s\n",
      "[CV] END learning_rate=0.01, max_depth=5, min_samples_split=0.2, n_estimators=1500, subsample=0.5; total time=   2.9s\n",
      "[CV] END learning_rate=0.01, max_depth=5, min_samples_split=0.2, n_estimators=1500, subsample=0.9; total time=   4.1s\n",
      "[CV] END learning_rate=0.01, max_depth=5, min_samples_split=0.30000000000000004, n_estimators=100, subsample=0.9; total time=   0.3s\n",
      "[CV] END learning_rate=0.01, max_depth=5, min_samples_split=0.30000000000000004, n_estimators=100, subsample=1.0; total time=   0.3s\n",
      "[CV] END learning_rate=0.01, max_depth=5, min_samples_split=0.30000000000000004, n_estimators=1000, subsample=0.9; total time=   2.8s\n",
      "[CV] END learning_rate=0.01, max_depth=5, min_samples_split=0.30000000000000004, n_estimators=1000, subsample=1.0; total time=   2.4s\n",
      "[CV] END learning_rate=0.01, max_depth=5, min_samples_split=0.30000000000000004, n_estimators=1500, subsample=0.9; total time=   3.6s\n",
      "[CV] END learning_rate=0.01, max_depth=5, min_samples_split=0.30000000000000004, n_estimators=1500, subsample=1.0; total time=   4.2s\n",
      "[CV] END learning_rate=0.01, max_depth=5, min_samples_split=0.4, n_estimators=1000, subsample=1.0; total time=   2.2s\n",
      "[CV] END learning_rate=0.01, max_depth=5, min_samples_split=0.4, n_estimators=1500, subsample=0.9; total time=   3.3s\n",
      "[CV] END learning_rate=0.01, max_depth=5, min_samples_split=0.4, n_estimators=1500, subsample=1.0; total time=   3.8s\n",
      "[CV] END learning_rate=0.01, max_depth=5, min_samples_split=0.5, n_estimators=1000, subsample=1.0; total time=   2.1s\n",
      "[CV] END learning_rate=0.01, max_depth=5, min_samples_split=0.5, n_estimators=1500, subsample=0.5; total time=   1.8s\n",
      "[CV] END learning_rate=0.01, max_depth=5, min_samples_split=0.5, n_estimators=1500, subsample=1.0; total time=   3.0s\n",
      "[CV] END learning_rate=0.01, max_depth=8, min_samples_split=0.1, n_estimators=100, subsample=1.0; total time=   0.5s\n",
      "[CV] END learning_rate=0.01, max_depth=8, min_samples_split=0.1, n_estimators=1000, subsample=0.5; total time=   3.1s\n",
      "[CV] END learning_rate=0.01, max_depth=8, min_samples_split=0.1, n_estimators=1000, subsample=1.0; total time=   4.2s\n",
      "[CV] END learning_rate=0.01, max_depth=8, min_samples_split=0.1, n_estimators=1500, subsample=0.5; total time=   4.3s\n",
      "[CV] END learning_rate=0.01, max_depth=8, min_samples_split=0.1, n_estimators=1500, subsample=1.0; total time=   6.3s\n",
      "[CV] END learning_rate=0.01, max_depth=8, min_samples_split=0.2, n_estimators=1000, subsample=0.5; total time=   2.0s\n",
      "[CV] END learning_rate=0.01, max_depth=8, min_samples_split=0.2, n_estimators=1000, subsample=0.9; total time=   3.7s\n",
      "[CV] END learning_rate=0.01, max_depth=8, min_samples_split=0.2, n_estimators=1500, subsample=0.5; total time=   3.3s\n",
      "[CV] END learning_rate=0.01, max_depth=8, min_samples_split=0.2, n_estimators=1500, subsample=0.9; total time=   5.3s\n",
      "[CV] END learning_rate=0.01, max_depth=8, min_samples_split=0.30000000000000004, n_estimators=100, subsample=0.5; total time=   0.2s\n",
      "[CV] END learning_rate=0.01, max_depth=8, min_samples_split=0.30000000000000004, n_estimators=100, subsample=0.9; total time=   0.3s\n",
      "[CV] END learning_rate=0.01, max_depth=8, min_samples_split=0.30000000000000004, n_estimators=100, subsample=1.0; total time=   0.3s\n",
      "[CV] END learning_rate=0.01, max_depth=8, min_samples_split=0.30000000000000004, n_estimators=1000, subsample=0.5; total time=   1.8s\n",
      "[CV] END learning_rate=0.01, max_depth=8, min_samples_split=0.30000000000000004, n_estimators=1000, subsample=1.0; total time=   2.9s\n",
      "[CV] END learning_rate=0.01, max_depth=8, min_samples_split=0.30000000000000004, n_estimators=1500, subsample=0.5; total time=   2.4s\n",
      "[CV] END learning_rate=0.01, max_depth=8, min_samples_split=0.30000000000000004, n_estimators=1500, subsample=1.0; total time=   4.9s\n",
      "[CV] END learning_rate=0.01, max_depth=8, min_samples_split=0.4, n_estimators=100, subsample=0.5; total time=   0.1s\n",
      "[CV] END learning_rate=0.01, max_depth=8, min_samples_split=0.4, n_estimators=100, subsample=0.9; total time=   0.2s\n",
      "[CV] END learning_rate=0.01, max_depth=8, min_samples_split=0.4, n_estimators=100, subsample=1.0; total time=   0.2s\n",
      "[CV] END learning_rate=0.01, max_depth=8, min_samples_split=0.4, n_estimators=1000, subsample=0.5; total time=   1.4s\n",
      "[CV] END learning_rate=0.01, max_depth=8, min_samples_split=0.4, n_estimators=1000, subsample=0.9; total time=   2.3s\n",
      "[CV] END learning_rate=0.01, max_depth=8, min_samples_split=0.4, n_estimators=1500, subsample=0.5; total time=   2.3s\n",
      "[CV] END learning_rate=0.01, max_depth=8, min_samples_split=0.4, n_estimators=1500, subsample=0.9; total time=   4.2s\n",
      "[CV] END learning_rate=0.01, max_depth=8, min_samples_split=0.5, n_estimators=100, subsample=0.5; total time=   0.1s\n",
      "[CV] END learning_rate=0.01, max_depth=8, min_samples_split=0.5, n_estimators=100, subsample=0.9; total time=   0.2s\n",
      "[CV] END learning_rate=0.01, max_depth=8, min_samples_split=0.5, n_estimators=100, subsample=0.9; total time=   0.2s\n",
      "[CV] END learning_rate=0.01, max_depth=8, min_samples_split=0.5, n_estimators=100, subsample=1.0; total time=   0.2s\n",
      "[CV] END learning_rate=0.01, max_depth=8, min_samples_split=0.5, n_estimators=1000, subsample=0.5; total time=   1.2s\n",
      "[CV] END learning_rate=0.01, max_depth=8, min_samples_split=0.5, n_estimators=1000, subsample=1.0; total time=   2.1s\n",
      "[CV] END learning_rate=0.01, max_depth=8, min_samples_split=0.5, n_estimators=1500, subsample=0.5; total time=   1.3s\n",
      "[CV] END learning_rate=0.01, max_depth=8, min_samples_split=0.5, n_estimators=1500, subsample=0.9; total time=   3.5s\n",
      "[CV] END learning_rate=0.1, max_depth=3, min_samples_split=0.1, n_estimators=100, subsample=0.5; total time=   0.2s\n",
      "[CV] END learning_rate=0.1, max_depth=3, min_samples_split=0.1, n_estimators=100, subsample=0.5; total time=   0.2s\n",
      "[CV] END learning_rate=0.1, max_depth=3, min_samples_split=0.1, n_estimators=100, subsample=0.9; total time=   0.3s\n",
      "[CV] END learning_rate=0.1, max_depth=3, min_samples_split=0.1, n_estimators=100, subsample=1.0; total time=   0.2s\n",
      "[CV] END learning_rate=0.1, max_depth=3, min_samples_split=0.1, n_estimators=1000, subsample=0.5; total time=   1.7s\n",
      "[CV] END learning_rate=0.1, max_depth=3, min_samples_split=0.1, n_estimators=1000, subsample=0.9; total time=   2.1s\n",
      "[CV] END learning_rate=0.1, max_depth=3, min_samples_split=0.1, n_estimators=1500, subsample=0.5; total time=   2.6s\n",
      "[CV] END learning_rate=0.1, max_depth=3, min_samples_split=0.1, n_estimators=1500, subsample=0.9; total time=   3.6s\n",
      "[CV] END learning_rate=0.1, max_depth=3, min_samples_split=0.2, n_estimators=100, subsample=0.9; total time=   0.2s\n",
      "[CV] END learning_rate=0.1, max_depth=3, min_samples_split=0.2, n_estimators=100, subsample=1.0; total time=   0.2s\n",
      "[CV] END learning_rate=0.1, max_depth=3, min_samples_split=0.2, n_estimators=1000, subsample=0.5; total time=   1.6s\n",
      "[CV] END learning_rate=0.1, max_depth=3, min_samples_split=0.2, n_estimators=1000, subsample=1.0; total time=   1.9s\n",
      "[CV] END learning_rate=0.1, max_depth=3, min_samples_split=0.2, n_estimators=1500, subsample=0.5; total time=   2.4s\n",
      "[CV] END learning_rate=0.1, max_depth=3, min_samples_split=0.2, n_estimators=1500, subsample=1.0; total time=   3.4s\n",
      "[CV] END learning_rate=0.1, max_depth=3, min_samples_split=0.30000000000000004, n_estimators=100, subsample=0.9; total time=   0.2s\n",
      "[CV] END learning_rate=0.1, max_depth=3, min_samples_split=0.30000000000000004, n_estimators=1000, subsample=0.5; total time=   1.6s\n",
      "[CV] END learning_rate=0.1, max_depth=3, min_samples_split=0.30000000000000004, n_estimators=1000, subsample=0.9; total time=   1.9s\n",
      "[CV] END learning_rate=0.1, max_depth=3, min_samples_split=0.30000000000000004, n_estimators=1500, subsample=0.9; total time=   2.9s\n",
      "[CV] END learning_rate=0.1, max_depth=3, min_samples_split=0.30000000000000004, n_estimators=1500, subsample=1.0; total time=   3.2s\n",
      "[CV] END learning_rate=0.1, max_depth=3, min_samples_split=0.4, n_estimators=1000, subsample=0.9; total time=   2.1s\n",
      "[CV] END learning_rate=0.1, max_depth=3, min_samples_split=0.4, n_estimators=1000, subsample=1.0; total time=   1.7s\n",
      "[CV] END learning_rate=0.1, max_depth=3, min_samples_split=0.4, n_estimators=1500, subsample=0.9; total time=   2.8s\n",
      "[CV] END learning_rate=0.1, max_depth=3, min_samples_split=0.5, n_estimators=100, subsample=0.5; total time=   0.1s\n",
      "[CV] END learning_rate=0.1, max_depth=3, min_samples_split=0.5, n_estimators=100, subsample=0.5; total time=   0.1s\n",
      "[CV] END learning_rate=0.1, max_depth=3, min_samples_split=0.5, n_estimators=100, subsample=0.5; total time=   0.1s\n",
      "[CV] END learning_rate=0.1, max_depth=3, min_samples_split=0.5, n_estimators=100, subsample=0.5; total time=   0.1s\n",
      "[CV] END learning_rate=0.1, max_depth=3, min_samples_split=0.5, n_estimators=100, subsample=0.5; total time=   0.1s\n",
      "[CV] END learning_rate=0.1, max_depth=3, min_samples_split=0.5, n_estimators=100, subsample=0.9; total time=   0.2s\n",
      "[CV] END learning_rate=0.1, max_depth=3, min_samples_split=0.5, n_estimators=100, subsample=0.9; total time=   0.2s\n",
      "[CV] END learning_rate=0.1, max_depth=3, min_samples_split=0.5, n_estimators=100, subsample=1.0; total time=   0.2s\n",
      "[CV] END learning_rate=0.1, max_depth=3, min_samples_split=0.5, n_estimators=1000, subsample=0.5; total time=   1.1s\n",
      "[CV] END learning_rate=0.1, max_depth=3, min_samples_split=0.5, n_estimators=1000, subsample=0.9; total time=   2.3s\n",
      "[CV] END learning_rate=0.1, max_depth=3, min_samples_split=0.5, n_estimators=1500, subsample=0.5; total time=   1.5s\n",
      "[CV] END learning_rate=0.1, max_depth=3, min_samples_split=0.5, n_estimators=1500, subsample=1.0; total time=   2.6s\n",
      "[CV] END learning_rate=0.1, max_depth=5, min_samples_split=0.1, n_estimators=100, subsample=0.5; total time=   0.2s\n",
      "[CV] END learning_rate=0.1, max_depth=5, min_samples_split=0.1, n_estimators=100, subsample=0.9; total time=   0.3s\n",
      "[CV] END learning_rate=0.1, max_depth=5, min_samples_split=0.1, n_estimators=100, subsample=1.0; total time=   0.4s\n",
      "[CV] END learning_rate=0.1, max_depth=5, min_samples_split=0.1, n_estimators=1000, subsample=0.5; total time=   2.3s\n",
      "[CV] END learning_rate=0.1, max_depth=5, min_samples_split=0.1, n_estimators=1000, subsample=0.9; total time=   3.4s\n",
      "[CV] END learning_rate=0.1, max_depth=5, min_samples_split=0.1, n_estimators=1500, subsample=0.5; total time=   3.1s\n",
      "[CV] END learning_rate=0.1, max_depth=5, min_samples_split=0.1, n_estimators=1500, subsample=0.9; total time=   3.7s\n",
      "[CV] END learning_rate=0.1, max_depth=5, min_samples_split=0.2, n_estimators=100, subsample=1.0; total time=   0.3s\n",
      "[CV] END learning_rate=0.1, max_depth=5, min_samples_split=0.2, n_estimators=1000, subsample=0.5; total time=   2.3s\n",
      "[CV] END learning_rate=0.1, max_depth=5, min_samples_split=0.2, n_estimators=1000, subsample=1.0; total time=   2.6s\n",
      "[CV] END learning_rate=0.1, max_depth=5, min_samples_split=0.2, n_estimators=1500, subsample=0.9; total time=   3.9s\n",
      "[CV] END learning_rate=0.1, max_depth=5, min_samples_split=0.2, n_estimators=1500, subsample=1.0; total time=   4.5s\n",
      "[CV] END learning_rate=0.1, max_depth=5, min_samples_split=0.30000000000000004, n_estimators=1000, subsample=0.9; total time=   2.4s\n",
      "[CV] END learning_rate=0.1, max_depth=5, min_samples_split=0.30000000000000004, n_estimators=1000, subsample=1.0; total time=   2.5s\n",
      "[CV] END learning_rate=0.1, max_depth=5, min_samples_split=0.30000000000000004, n_estimators=1500, subsample=0.9; total time=   4.3s\n",
      "[CV] END learning_rate=0.1, max_depth=5, min_samples_split=0.4, n_estimators=100, subsample=0.5; total time=   0.2s\n",
      "[CV] END learning_rate=0.1, max_depth=5, min_samples_split=0.4, n_estimators=100, subsample=0.5; total time=   0.2s\n",
      "[CV] END learning_rate=0.1, max_depth=5, min_samples_split=0.4, n_estimators=100, subsample=0.5; total time=   0.2s\n",
      "[CV] END learning_rate=0.1, max_depth=5, min_samples_split=0.4, n_estimators=100, subsample=0.9; total time=   0.3s\n",
      "[CV] END learning_rate=0.1, max_depth=5, min_samples_split=0.4, n_estimators=100, subsample=1.0; total time=   0.2s\n",
      "[CV] END learning_rate=0.1, max_depth=5, min_samples_split=0.4, n_estimators=1000, subsample=0.5; total time=   1.4s\n",
      "[CV] END learning_rate=0.1, max_depth=5, min_samples_split=0.4, n_estimators=1000, subsample=1.0; total time=   2.2s\n",
      "[CV] END learning_rate=0.1, max_depth=5, min_samples_split=0.4, n_estimators=1500, subsample=0.5; total time=   2.1s\n",
      "[CV] END learning_rate=0.1, max_depth=5, min_samples_split=0.4, n_estimators=1500, subsample=1.0; total time=   3.9s\n",
      "[CV] END learning_rate=0.1, max_depth=5, min_samples_split=0.5, n_estimators=100, subsample=0.9; total time=   0.2s\n"
     ]
    },
    {
     "name": "stdout",
     "output_type": "stream",
     "text": [
      "[CV] END learning_rate=0.01, max_depth=3, min_samples_split=0.1, n_estimators=100, subsample=0.5; total time=   0.2s\n",
      "[CV] END learning_rate=0.01, max_depth=3, min_samples_split=0.1, n_estimators=100, subsample=0.9; total time=   0.2s\n",
      "[CV] END learning_rate=0.01, max_depth=3, min_samples_split=0.1, n_estimators=1000, subsample=0.5; total time=   2.1s\n",
      "[CV] END learning_rate=0.01, max_depth=3, min_samples_split=0.1, n_estimators=1000, subsample=1.0; total time=   2.6s\n",
      "[CV] END learning_rate=0.01, max_depth=3, min_samples_split=0.1, n_estimators=1500, subsample=0.5; total time=   2.6s\n",
      "[CV] END learning_rate=0.01, max_depth=3, min_samples_split=0.1, n_estimators=1500, subsample=1.0; total time=   3.1s\n",
      "[CV] END learning_rate=0.01, max_depth=3, min_samples_split=0.2, n_estimators=1000, subsample=0.5; total time=   2.0s\n",
      "[CV] END learning_rate=0.01, max_depth=3, min_samples_split=0.2, n_estimators=1000, subsample=1.0; total time=   2.3s\n",
      "[CV] END learning_rate=0.01, max_depth=3, min_samples_split=0.2, n_estimators=1500, subsample=0.5; total time=   2.6s\n",
      "[CV] END learning_rate=0.01, max_depth=3, min_samples_split=0.2, n_estimators=1500, subsample=1.0; total time=   3.0s\n",
      "[CV] END learning_rate=0.01, max_depth=3, min_samples_split=0.30000000000000004, n_estimators=100, subsample=1.0; total time=   0.2s\n",
      "[CV] END learning_rate=0.01, max_depth=3, min_samples_split=0.30000000000000004, n_estimators=1000, subsample=0.5; total time=   1.8s\n",
      "[CV] END learning_rate=0.01, max_depth=3, min_samples_split=0.30000000000000004, n_estimators=1000, subsample=1.0; total time=   2.2s\n",
      "[CV] END learning_rate=0.01, max_depth=3, min_samples_split=0.30000000000000004, n_estimators=1500, subsample=0.5; total time=   2.5s\n",
      "[CV] END learning_rate=0.01, max_depth=3, min_samples_split=0.30000000000000004, n_estimators=1500, subsample=1.0; total time=   2.8s\n",
      "[CV] END learning_rate=0.01, max_depth=3, min_samples_split=0.4, n_estimators=100, subsample=1.0; total time=   0.2s\n",
      "[CV] END learning_rate=0.01, max_depth=3, min_samples_split=0.4, n_estimators=1000, subsample=0.5; total time=   1.4s\n",
      "[CV] END learning_rate=0.01, max_depth=3, min_samples_split=0.4, n_estimators=1000, subsample=1.0; total time=   2.1s\n",
      "[CV] END learning_rate=0.01, max_depth=3, min_samples_split=0.4, n_estimators=1500, subsample=0.5; total time=   2.6s\n",
      "[CV] END learning_rate=0.01, max_depth=3, min_samples_split=0.4, n_estimators=1500, subsample=1.0; total time=   2.7s\n",
      "[CV] END learning_rate=0.01, max_depth=3, min_samples_split=0.5, n_estimators=100, subsample=0.9; total time=   0.2s\n",
      "[CV] END learning_rate=0.01, max_depth=3, min_samples_split=0.5, n_estimators=1000, subsample=0.5; total time=   0.9s\n",
      "[CV] END learning_rate=0.01, max_depth=3, min_samples_split=0.5, n_estimators=1000, subsample=0.9; total time=   1.8s\n",
      "[CV] END learning_rate=0.01, max_depth=3, min_samples_split=0.5, n_estimators=1500, subsample=0.5; total time=   1.6s\n",
      "[CV] END learning_rate=0.01, max_depth=3, min_samples_split=0.5, n_estimators=1500, subsample=0.9; total time=   3.2s\n",
      "[CV] END learning_rate=0.01, max_depth=5, min_samples_split=0.1, n_estimators=100, subsample=0.5; total time=   0.2s\n",
      "[CV] END learning_rate=0.01, max_depth=5, min_samples_split=0.1, n_estimators=100, subsample=0.9; total time=   0.3s\n",
      "[CV] END learning_rate=0.01, max_depth=5, min_samples_split=0.1, n_estimators=1000, subsample=0.5; total time=   2.2s\n",
      "[CV] END learning_rate=0.01, max_depth=5, min_samples_split=0.1, n_estimators=1000, subsample=0.9; total time=   3.3s\n",
      "[CV] END learning_rate=0.01, max_depth=5, min_samples_split=0.1, n_estimators=1500, subsample=0.5; total time=   4.3s\n",
      "[CV] END learning_rate=0.01, max_depth=5, min_samples_split=0.1, n_estimators=1500, subsample=0.9; total time=   4.5s\n",
      "[CV] END learning_rate=0.01, max_depth=5, min_samples_split=0.2, n_estimators=100, subsample=1.0; total time=   0.2s\n",
      "[CV] END learning_rate=0.01, max_depth=5, min_samples_split=0.2, n_estimators=1000, subsample=0.5; total time=   2.0s\n",
      "[CV] END learning_rate=0.01, max_depth=5, min_samples_split=0.2, n_estimators=1000, subsample=0.9; total time=   3.1s\n",
      "[CV] END learning_rate=0.01, max_depth=5, min_samples_split=0.2, n_estimators=1500, subsample=0.5; total time=   2.9s\n",
      "[CV] END learning_rate=0.01, max_depth=5, min_samples_split=0.2, n_estimators=1500, subsample=0.9; total time=   4.0s\n",
      "[CV] END learning_rate=0.01, max_depth=5, min_samples_split=0.30000000000000004, n_estimators=100, subsample=0.9; total time=   0.3s\n",
      "[CV] END learning_rate=0.01, max_depth=5, min_samples_split=0.30000000000000004, n_estimators=100, subsample=1.0; total time=   0.3s\n",
      "[CV] END learning_rate=0.01, max_depth=5, min_samples_split=0.30000000000000004, n_estimators=1000, subsample=0.5; total time=   1.9s\n",
      "[CV] END learning_rate=0.01, max_depth=5, min_samples_split=0.30000000000000004, n_estimators=1000, subsample=1.0; total time=   2.6s\n",
      "[CV] END learning_rate=0.01, max_depth=5, min_samples_split=0.30000000000000004, n_estimators=1500, subsample=0.5; total time=   2.4s\n",
      "[CV] END learning_rate=0.01, max_depth=5, min_samples_split=0.30000000000000004, n_estimators=1500, subsample=1.0; total time=   3.9s\n",
      "[CV] END learning_rate=0.01, max_depth=5, min_samples_split=0.4, n_estimators=100, subsample=0.9; total time=   0.3s\n",
      "[CV] END learning_rate=0.01, max_depth=5, min_samples_split=0.4, n_estimators=1000, subsample=0.5; total time=   1.7s\n",
      "[CV] END learning_rate=0.01, max_depth=5, min_samples_split=0.4, n_estimators=1000, subsample=0.9; total time=   2.3s\n",
      "[CV] END learning_rate=0.01, max_depth=5, min_samples_split=0.4, n_estimators=1500, subsample=0.5; total time=   2.1s\n",
      "[CV] END learning_rate=0.01, max_depth=5, min_samples_split=0.4, n_estimators=1500, subsample=0.9; total time=   3.4s\n",
      "[CV] END learning_rate=0.01, max_depth=5, min_samples_split=0.5, n_estimators=100, subsample=0.9; total time=   0.2s\n",
      "[CV] END learning_rate=0.01, max_depth=5, min_samples_split=0.5, n_estimators=100, subsample=1.0; total time=   0.2s\n",
      "[CV] END learning_rate=0.01, max_depth=5, min_samples_split=0.5, n_estimators=1000, subsample=0.5; total time=   1.1s\n",
      "[CV] END learning_rate=0.01, max_depth=5, min_samples_split=0.5, n_estimators=1000, subsample=0.9; total time=   2.2s\n",
      "[CV] END learning_rate=0.01, max_depth=5, min_samples_split=0.5, n_estimators=1500, subsample=0.5; total time=   1.4s\n",
      "[CV] END learning_rate=0.01, max_depth=5, min_samples_split=0.5, n_estimators=1500, subsample=0.9; total time=   2.9s\n",
      "[CV] END learning_rate=0.01, max_depth=8, min_samples_split=0.1, n_estimators=100, subsample=0.5; total time=   0.3s\n",
      "[CV] END learning_rate=0.01, max_depth=8, min_samples_split=0.1, n_estimators=100, subsample=0.9; total time=   0.4s\n",
      "[CV] END learning_rate=0.01, max_depth=8, min_samples_split=0.1, n_estimators=100, subsample=1.0; total time=   0.5s\n",
      "[CV] END learning_rate=0.01, max_depth=8, min_samples_split=0.1, n_estimators=1000, subsample=0.5; total time=   3.2s\n",
      "[CV] END learning_rate=0.01, max_depth=8, min_samples_split=0.1, n_estimators=1000, subsample=1.0; total time=   4.2s\n",
      "[CV] END learning_rate=0.01, max_depth=8, min_samples_split=0.1, n_estimators=1500, subsample=0.5; total time=   4.2s\n",
      "[CV] END learning_rate=0.01, max_depth=8, min_samples_split=0.1, n_estimators=1500, subsample=1.0; total time=   6.4s\n",
      "[CV] END learning_rate=0.01, max_depth=8, min_samples_split=0.2, n_estimators=1000, subsample=0.5; total time=   2.1s\n",
      "[CV] END learning_rate=0.01, max_depth=8, min_samples_split=0.2, n_estimators=1000, subsample=1.0; total time=   3.8s\n",
      "[CV] END learning_rate=0.01, max_depth=8, min_samples_split=0.2, n_estimators=1500, subsample=0.5; total time=   3.3s\n",
      "[CV] END learning_rate=0.01, max_depth=8, min_samples_split=0.2, n_estimators=1500, subsample=0.9; total time=   5.1s\n",
      "[CV] END learning_rate=0.01, max_depth=8, min_samples_split=0.30000000000000004, n_estimators=100, subsample=0.5; total time=   0.2s\n",
      "[CV] END learning_rate=0.01, max_depth=8, min_samples_split=0.30000000000000004, n_estimators=100, subsample=0.9; total time=   0.3s\n",
      "[CV] END learning_rate=0.01, max_depth=8, min_samples_split=0.30000000000000004, n_estimators=100, subsample=1.0; total time=   0.3s\n",
      "[CV] END learning_rate=0.01, max_depth=8, min_samples_split=0.30000000000000004, n_estimators=1000, subsample=0.5; total time=   1.8s\n",
      "[CV] END learning_rate=0.01, max_depth=8, min_samples_split=0.30000000000000004, n_estimators=1000, subsample=0.9; total time=   2.8s\n",
      "[CV] END learning_rate=0.01, max_depth=8, min_samples_split=0.30000000000000004, n_estimators=1000, subsample=1.0; total time=   2.7s\n",
      "[CV] END learning_rate=0.01, max_depth=8, min_samples_split=0.30000000000000004, n_estimators=1500, subsample=1.0; total time=   5.0s\n",
      "[CV] END learning_rate=0.01, max_depth=8, min_samples_split=0.4, n_estimators=100, subsample=0.9; total time=   0.2s\n",
      "[CV] END learning_rate=0.01, max_depth=8, min_samples_split=0.4, n_estimators=100, subsample=1.0; total time=   0.2s\n",
      "[CV] END learning_rate=0.01, max_depth=8, min_samples_split=0.4, n_estimators=1000, subsample=0.5; total time=   1.4s\n",
      "[CV] END learning_rate=0.01, max_depth=8, min_samples_split=0.4, n_estimators=1000, subsample=1.0; total time=   2.4s\n",
      "[CV] END learning_rate=0.01, max_depth=8, min_samples_split=0.4, n_estimators=1500, subsample=0.5; total time=   2.3s\n",
      "[CV] END learning_rate=0.01, max_depth=8, min_samples_split=0.4, n_estimators=1500, subsample=1.0; total time=   4.2s\n",
      "[CV] END learning_rate=0.01, max_depth=8, min_samples_split=0.5, n_estimators=100, subsample=1.0; total time=   0.2s\n",
      "[CV] END learning_rate=0.01, max_depth=8, min_samples_split=0.5, n_estimators=1000, subsample=0.5; total time=   0.9s\n",
      "[CV] END learning_rate=0.01, max_depth=8, min_samples_split=0.5, n_estimators=1000, subsample=0.9; total time=   2.1s\n",
      "[CV] END learning_rate=0.01, max_depth=8, min_samples_split=0.5, n_estimators=1500, subsample=0.5; total time=   1.3s\n",
      "[CV] END learning_rate=0.01, max_depth=8, min_samples_split=0.5, n_estimators=1500, subsample=0.9; total time=   3.6s\n",
      "[CV] END learning_rate=0.01, max_depth=8, min_samples_split=0.5, n_estimators=1500, subsample=1.0; total time=   3.5s\n",
      "[CV] END learning_rate=0.1, max_depth=3, min_samples_split=0.1, n_estimators=1000, subsample=1.0; total time=   2.0s\n",
      "[CV] END learning_rate=0.1, max_depth=3, min_samples_split=0.1, n_estimators=1500, subsample=0.9; total time=   3.4s\n",
      "[CV] END learning_rate=0.1, max_depth=3, min_samples_split=0.1, n_estimators=1500, subsample=1.0; total time=   3.3s\n",
      "[CV] END learning_rate=0.1, max_depth=3, min_samples_split=0.2, n_estimators=1000, subsample=0.9; total time=   2.0s\n",
      "[CV] END learning_rate=0.1, max_depth=3, min_samples_split=0.2, n_estimators=1000, subsample=1.0; total time=   1.9s\n",
      "[CV] END learning_rate=0.1, max_depth=3, min_samples_split=0.2, n_estimators=1500, subsample=0.9; total time=   3.2s\n",
      "[CV] END learning_rate=0.1, max_depth=3, min_samples_split=0.30000000000000004, n_estimators=100, subsample=0.5; total time=   0.2s\n",
      "[CV] END learning_rate=0.1, max_depth=3, min_samples_split=0.30000000000000004, n_estimators=100, subsample=0.5; total time=   0.2s\n",
      "[CV] END learning_rate=0.1, max_depth=3, min_samples_split=0.30000000000000004, n_estimators=100, subsample=0.5; total time=   0.2s\n",
      "[CV] END learning_rate=0.1, max_depth=3, min_samples_split=0.30000000000000004, n_estimators=100, subsample=0.5; total time=   0.2s\n",
      "[CV] END learning_rate=0.1, max_depth=3, min_samples_split=0.30000000000000004, n_estimators=100, subsample=0.5; total time=   0.2s\n",
      "[CV] END learning_rate=0.1, max_depth=3, min_samples_split=0.30000000000000004, n_estimators=100, subsample=0.9; total time=   0.2s\n",
      "[CV] END learning_rate=0.1, max_depth=3, min_samples_split=0.30000000000000004, n_estimators=100, subsample=0.9; total time=   0.2s\n",
      "[CV] END learning_rate=0.1, max_depth=3, min_samples_split=0.30000000000000004, n_estimators=100, subsample=0.9; total time=   0.2s\n",
      "[CV] END learning_rate=0.1, max_depth=3, min_samples_split=0.30000000000000004, n_estimators=100, subsample=1.0; total time=   0.2s\n",
      "[CV] END learning_rate=0.1, max_depth=3, min_samples_split=0.30000000000000004, n_estimators=1000, subsample=0.5; total time=   1.6s\n",
      "[CV] END learning_rate=0.1, max_depth=3, min_samples_split=0.30000000000000004, n_estimators=1000, subsample=0.9; total time=   1.9s\n",
      "[CV] END learning_rate=0.1, max_depth=3, min_samples_split=0.30000000000000004, n_estimators=1500, subsample=0.5; total time=   2.3s\n",
      "[CV] END learning_rate=0.1, max_depth=3, min_samples_split=0.30000000000000004, n_estimators=1500, subsample=1.0; total time=   3.1s\n",
      "[CV] END learning_rate=0.1, max_depth=3, min_samples_split=0.4, n_estimators=100, subsample=1.0; total time=   0.2s\n",
      "[CV] END learning_rate=0.1, max_depth=3, min_samples_split=0.4, n_estimators=1000, subsample=0.5; total time=   1.6s\n",
      "[CV] END learning_rate=0.1, max_depth=3, min_samples_split=0.4, n_estimators=1000, subsample=1.0; total time=   1.7s\n",
      "[CV] END learning_rate=0.1, max_depth=3, min_samples_split=0.4, n_estimators=1500, subsample=0.5; total time=   2.0s\n",
      "[CV] END learning_rate=0.1, max_depth=3, min_samples_split=0.4, n_estimators=1500, subsample=1.0; total time=   2.7s\n",
      "[CV] END learning_rate=0.1, max_depth=3, min_samples_split=0.5, n_estimators=100, subsample=1.0; total time=   0.2s\n",
      "[CV] END learning_rate=0.1, max_depth=3, min_samples_split=0.5, n_estimators=1000, subsample=0.5; total time=   1.2s\n",
      "[CV] END learning_rate=0.1, max_depth=3, min_samples_split=0.5, n_estimators=1000, subsample=1.0; total time=   2.1s\n",
      "[CV] END learning_rate=0.1, max_depth=3, min_samples_split=0.5, n_estimators=1500, subsample=0.5; total time=   1.5s\n",
      "[CV] END learning_rate=0.1, max_depth=3, min_samples_split=0.5, n_estimators=1500, subsample=0.9; total time=   2.7s\n",
      "[CV] END learning_rate=0.1, max_depth=5, min_samples_split=0.1, n_estimators=100, subsample=0.5; total time=   0.2s\n",
      "[CV] END learning_rate=0.1, max_depth=5, min_samples_split=0.1, n_estimators=100, subsample=0.5; total time=   0.2s\n",
      "[CV] END learning_rate=0.1, max_depth=5, min_samples_split=0.1, n_estimators=100, subsample=0.9; total time=   0.3s\n",
      "[CV] END learning_rate=0.1, max_depth=5, min_samples_split=0.1, n_estimators=1000, subsample=0.5; total time=   2.3s\n",
      "[CV] END learning_rate=0.1, max_depth=5, min_samples_split=0.1, n_estimators=1000, subsample=0.9; total time=   3.4s\n",
      "[CV] END learning_rate=0.1, max_depth=5, min_samples_split=0.1, n_estimators=1500, subsample=0.5; total time=   3.1s\n",
      "[CV] END learning_rate=0.1, max_depth=5, min_samples_split=0.1, n_estimators=1500, subsample=1.0; total time=   3.6s\n",
      "[CV] END learning_rate=0.1, max_depth=5, min_samples_split=0.2, n_estimators=100, subsample=1.0; total time=   0.3s\n",
      "[CV] END learning_rate=0.1, max_depth=5, min_samples_split=0.2, n_estimators=1000, subsample=0.5; total time=   2.3s\n",
      "[CV] END learning_rate=0.1, max_depth=5, min_samples_split=0.2, n_estimators=1000, subsample=1.0; total time=   2.7s\n",
      "[CV] END learning_rate=0.1, max_depth=5, min_samples_split=0.2, n_estimators=1500, subsample=0.5; total time=   2.9s\n",
      "[CV] END learning_rate=0.1, max_depth=5, min_samples_split=0.2, n_estimators=1500, subsample=1.0; total time=   4.3s\n",
      "[CV] END learning_rate=0.1, max_depth=5, min_samples_split=0.30000000000000004, n_estimators=1000, subsample=0.5; total time=   1.8s\n",
      "[CV] END learning_rate=0.1, max_depth=5, min_samples_split=0.30000000000000004, n_estimators=1000, subsample=0.9; total time=   2.4s\n",
      "[CV] END learning_rate=0.1, max_depth=5, min_samples_split=0.30000000000000004, n_estimators=1500, subsample=0.5; total time=   2.5s\n",
      "[CV] END learning_rate=0.1, max_depth=5, min_samples_split=0.30000000000000004, n_estimators=1500, subsample=1.0; total time=   4.4s\n",
      "[CV] END learning_rate=0.1, max_depth=5, min_samples_split=0.4, n_estimators=100, subsample=0.9; total time=   0.2s\n",
      "[CV] END learning_rate=0.1, max_depth=5, min_samples_split=0.4, n_estimators=100, subsample=1.0; total time=   0.2s\n",
      "[CV] END learning_rate=0.1, max_depth=5, min_samples_split=0.4, n_estimators=1000, subsample=0.9; total time=   2.2s\n",
      "[CV] END learning_rate=0.1, max_depth=5, min_samples_split=0.4, n_estimators=1000, subsample=1.0; total time=   2.2s\n",
      "[CV] END learning_rate=0.1, max_depth=5, min_samples_split=0.4, n_estimators=1500, subsample=0.9; total time=   3.6s\n",
      "[CV] END learning_rate=0.1, max_depth=5, min_samples_split=0.4, n_estimators=1500, subsample=1.0; total time=   3.5s\n"
     ]
    },
    {
     "name": "stdout",
     "output_type": "stream",
     "text": [
      "[CV] END learning_rate=0.01, max_depth=3, min_samples_split=0.1, n_estimators=100, subsample=0.5; total time=   0.2s\n",
      "[CV] END learning_rate=0.01, max_depth=3, min_samples_split=0.1, n_estimators=100, subsample=0.9; total time=   0.2s\n",
      "[CV] END learning_rate=0.01, max_depth=3, min_samples_split=0.1, n_estimators=1000, subsample=0.5; total time=   2.1s\n",
      "[CV] END learning_rate=0.01, max_depth=3, min_samples_split=0.1, n_estimators=1000, subsample=1.0; total time=   2.6s\n",
      "[CV] END learning_rate=0.01, max_depth=3, min_samples_split=0.1, n_estimators=1500, subsample=0.5; total time=   2.7s\n",
      "[CV] END learning_rate=0.01, max_depth=3, min_samples_split=0.1, n_estimators=1500, subsample=1.0; total time=   3.2s\n",
      "[CV] END learning_rate=0.01, max_depth=3, min_samples_split=0.2, n_estimators=1000, subsample=0.9; total time=   2.4s\n",
      "[CV] END learning_rate=0.01, max_depth=3, min_samples_split=0.2, n_estimators=1000, subsample=1.0; total time=   2.3s\n",
      "[CV] END learning_rate=0.01, max_depth=3, min_samples_split=0.2, n_estimators=1500, subsample=0.9; total time=   3.1s\n",
      "[CV] END learning_rate=0.01, max_depth=3, min_samples_split=0.2, n_estimators=1500, subsample=1.0; total time=   3.1s\n",
      "[CV] END learning_rate=0.01, max_depth=3, min_samples_split=0.30000000000000004, n_estimators=1000, subsample=0.9; total time=   2.4s\n",
      "[CV] END learning_rate=0.01, max_depth=3, min_samples_split=0.30000000000000004, n_estimators=1500, subsample=0.5; total time=   2.6s\n",
      "[CV] END learning_rate=0.01, max_depth=3, min_samples_split=0.30000000000000004, n_estimators=1500, subsample=0.9; total time=   3.0s\n",
      "[CV] END learning_rate=0.01, max_depth=3, min_samples_split=0.4, n_estimators=100, subsample=0.9; total time=   0.2s\n",
      "[CV] END learning_rate=0.01, max_depth=3, min_samples_split=0.4, n_estimators=100, subsample=0.9; total time=   0.2s\n",
      "[CV] END learning_rate=0.01, max_depth=3, min_samples_split=0.4, n_estimators=100, subsample=1.0; total time=   0.2s\n",
      "[CV] END learning_rate=0.01, max_depth=3, min_samples_split=0.4, n_estimators=1000, subsample=0.5; total time=   1.4s\n",
      "[CV] END learning_rate=0.01, max_depth=3, min_samples_split=0.4, n_estimators=1000, subsample=1.0; total time=   2.1s\n",
      "[CV] END learning_rate=0.01, max_depth=3, min_samples_split=0.4, n_estimators=1500, subsample=0.5; total time=   2.6s\n",
      "[CV] END learning_rate=0.01, max_depth=3, min_samples_split=0.4, n_estimators=1500, subsample=1.0; total time=   2.6s\n",
      "[CV] END learning_rate=0.01, max_depth=3, min_samples_split=0.5, n_estimators=100, subsample=0.9; total time=   0.2s\n",
      "[CV] END learning_rate=0.01, max_depth=3, min_samples_split=0.5, n_estimators=100, subsample=1.0; total time=   0.2s\n",
      "[CV] END learning_rate=0.01, max_depth=3, min_samples_split=0.5, n_estimators=1000, subsample=0.9; total time=   1.8s\n",
      "[CV] END learning_rate=0.01, max_depth=3, min_samples_split=0.5, n_estimators=1000, subsample=1.0; total time=   1.8s\n",
      "[CV] END learning_rate=0.01, max_depth=3, min_samples_split=0.5, n_estimators=1500, subsample=0.9; total time=   3.2s\n",
      "[CV] END learning_rate=0.01, max_depth=3, min_samples_split=0.5, n_estimators=1500, subsample=1.0; total time=   2.6s\n",
      "[CV] END learning_rate=0.01, max_depth=5, min_samples_split=0.1, n_estimators=1000, subsample=0.9; total time=   3.0s\n",
      "[CV] END learning_rate=0.01, max_depth=5, min_samples_split=0.1, n_estimators=1500, subsample=0.5; total time=   4.2s\n",
      "[CV] END learning_rate=0.01, max_depth=5, min_samples_split=0.1, n_estimators=1500, subsample=0.9; total time=   4.8s\n",
      "[CV] END learning_rate=0.01, max_depth=5, min_samples_split=0.2, n_estimators=100, subsample=0.9; total time=   0.3s\n",
      "[CV] END learning_rate=0.01, max_depth=5, min_samples_split=0.2, n_estimators=100, subsample=0.9; total time=   0.3s\n",
      "[CV] END learning_rate=0.01, max_depth=5, min_samples_split=0.2, n_estimators=100, subsample=1.0; total time=   0.2s\n",
      "[CV] END learning_rate=0.01, max_depth=5, min_samples_split=0.2, n_estimators=100, subsample=1.0; total time=   0.3s\n",
      "[CV] END learning_rate=0.01, max_depth=5, min_samples_split=0.2, n_estimators=1000, subsample=0.9; total time=   2.9s\n",
      "[CV] END learning_rate=0.01, max_depth=5, min_samples_split=0.2, n_estimators=1000, subsample=1.0; total time=   3.0s\n",
      "[CV] END learning_rate=0.01, max_depth=5, min_samples_split=0.2, n_estimators=1500, subsample=0.9; total time=   4.0s\n",
      "[CV] END learning_rate=0.01, max_depth=5, min_samples_split=0.2, n_estimators=1500, subsample=1.0; total time=   4.3s\n",
      "[CV] END learning_rate=0.01, max_depth=5, min_samples_split=0.30000000000000004, n_estimators=1000, subsample=0.9; total time=   2.7s\n",
      "[CV] END learning_rate=0.01, max_depth=5, min_samples_split=0.30000000000000004, n_estimators=1500, subsample=0.5; total time=   2.4s\n",
      "[CV] END learning_rate=0.01, max_depth=5, min_samples_split=0.30000000000000004, n_estimators=1500, subsample=0.9; total time=   3.8s\n",
      "[CV] END learning_rate=0.01, max_depth=5, min_samples_split=0.4, n_estimators=100, subsample=0.5; total time=   0.2s\n",
      "[CV] END learning_rate=0.01, max_depth=5, min_samples_split=0.4, n_estimators=100, subsample=0.9; total time=   0.3s\n",
      "[CV] END learning_rate=0.01, max_depth=5, min_samples_split=0.4, n_estimators=100, subsample=1.0; total time=   0.2s\n",
      "[CV] END learning_rate=0.01, max_depth=5, min_samples_split=0.4, n_estimators=1000, subsample=0.9; total time=   2.5s\n",
      "[CV] END learning_rate=0.01, max_depth=5, min_samples_split=0.4, n_estimators=1000, subsample=1.0; total time=   2.2s\n",
      "[CV] END learning_rate=0.01, max_depth=5, min_samples_split=0.4, n_estimators=1500, subsample=0.9; total time=   3.2s\n",
      "[CV] END learning_rate=0.01, max_depth=5, min_samples_split=0.4, n_estimators=1500, subsample=1.0; total time=   3.8s\n",
      "[CV] END learning_rate=0.01, max_depth=5, min_samples_split=0.5, n_estimators=1000, subsample=1.0; total time=   2.1s\n",
      "[CV] END learning_rate=0.01, max_depth=5, min_samples_split=0.5, n_estimators=1500, subsample=0.9; total time=   3.0s\n",
      "[CV] END learning_rate=0.01, max_depth=5, min_samples_split=0.5, n_estimators=1500, subsample=1.0; total time=   3.1s\n",
      "[CV] END learning_rate=0.01, max_depth=8, min_samples_split=0.1, n_estimators=1000, subsample=0.9; total time=   4.3s\n",
      "[CV] END learning_rate=0.01, max_depth=8, min_samples_split=0.1, n_estimators=1000, subsample=1.0; total time=   4.1s\n",
      "[CV] END learning_rate=0.01, max_depth=8, min_samples_split=0.1, n_estimators=1500, subsample=0.9; total time=   6.5s\n",
      "[CV] END learning_rate=0.01, max_depth=8, min_samples_split=0.2, n_estimators=100, subsample=0.5; total time=   0.2s\n",
      "[CV] END learning_rate=0.01, max_depth=8, min_samples_split=0.2, n_estimators=100, subsample=0.5; total time=   0.2s\n",
      "[CV] END learning_rate=0.01, max_depth=8, min_samples_split=0.2, n_estimators=100, subsample=0.5; total time=   0.2s\n",
      "[CV] END learning_rate=0.01, max_depth=8, min_samples_split=0.2, n_estimators=100, subsample=0.5; total time=   0.2s\n",
      "[CV] END learning_rate=0.01, max_depth=8, min_samples_split=0.2, n_estimators=100, subsample=0.9; total time=   0.3s\n",
      "[CV] END learning_rate=0.01, max_depth=8, min_samples_split=0.2, n_estimators=100, subsample=0.9; total time=   0.3s\n",
      "[CV] END learning_rate=0.01, max_depth=8, min_samples_split=0.2, n_estimators=100, subsample=1.0; total time=   0.3s\n",
      "[CV] END learning_rate=0.01, max_depth=8, min_samples_split=0.2, n_estimators=1000, subsample=0.5; total time=   2.0s\n",
      "[CV] END learning_rate=0.01, max_depth=8, min_samples_split=0.2, n_estimators=1000, subsample=0.9; total time=   3.7s\n",
      "[CV] END learning_rate=0.01, max_depth=8, min_samples_split=0.2, n_estimators=1500, subsample=0.5; total time=   3.3s\n",
      "[CV] END learning_rate=0.01, max_depth=8, min_samples_split=0.2, n_estimators=1500, subsample=0.9; total time=   5.1s\n",
      "[CV] END learning_rate=0.01, max_depth=8, min_samples_split=0.30000000000000004, n_estimators=100, subsample=0.5; total time=   0.2s\n",
      "[CV] END learning_rate=0.01, max_depth=8, min_samples_split=0.30000000000000004, n_estimators=100, subsample=0.5; total time=   0.2s\n",
      "[CV] END learning_rate=0.01, max_depth=8, min_samples_split=0.30000000000000004, n_estimators=100, subsample=0.9; total time=   0.3s\n",
      "[CV] END learning_rate=0.01, max_depth=8, min_samples_split=0.30000000000000004, n_estimators=100, subsample=1.0; total time=   0.3s\n",
      "[CV] END learning_rate=0.01, max_depth=8, min_samples_split=0.30000000000000004, n_estimators=1000, subsample=0.5; total time=   1.8s\n",
      "[CV] END learning_rate=0.01, max_depth=8, min_samples_split=0.30000000000000004, n_estimators=1000, subsample=0.9; total time=   2.8s\n",
      "[CV] END learning_rate=0.01, max_depth=8, min_samples_split=0.30000000000000004, n_estimators=1500, subsample=0.5; total time=   2.5s\n",
      "[CV] END learning_rate=0.01, max_depth=8, min_samples_split=0.30000000000000004, n_estimators=1500, subsample=0.9; total time=   4.8s\n",
      "[CV] END learning_rate=0.01, max_depth=8, min_samples_split=0.4, n_estimators=100, subsample=0.5; total time=   0.1s\n",
      "[CV] END learning_rate=0.01, max_depth=8, min_samples_split=0.4, n_estimators=100, subsample=0.5; total time=   0.1s\n",
      "[CV] END learning_rate=0.01, max_depth=8, min_samples_split=0.4, n_estimators=100, subsample=0.9; total time=   0.2s\n",
      "[CV] END learning_rate=0.01, max_depth=8, min_samples_split=0.4, n_estimators=100, subsample=1.0; total time=   0.2s\n",
      "[CV] END learning_rate=0.01, max_depth=8, min_samples_split=0.4, n_estimators=1000, subsample=0.5; total time=   1.4s\n",
      "[CV] END learning_rate=0.01, max_depth=8, min_samples_split=0.4, n_estimators=1000, subsample=0.9; total time=   2.4s\n",
      "[CV] END learning_rate=0.01, max_depth=8, min_samples_split=0.4, n_estimators=1500, subsample=0.5; total time=   2.1s\n",
      "[CV] END learning_rate=0.01, max_depth=8, min_samples_split=0.4, n_estimators=1500, subsample=0.9; total time=   4.2s\n",
      "[CV] END learning_rate=0.01, max_depth=8, min_samples_split=0.5, n_estimators=100, subsample=0.5; total time=   0.1s\n",
      "[CV] END learning_rate=0.01, max_depth=8, min_samples_split=0.5, n_estimators=100, subsample=0.5; total time=   0.1s\n",
      "[CV] END learning_rate=0.01, max_depth=8, min_samples_split=0.5, n_estimators=100, subsample=0.9; total time=   0.2s\n",
      "[CV] END learning_rate=0.01, max_depth=8, min_samples_split=0.5, n_estimators=100, subsample=1.0; total time=   0.2s\n",
      "[CV] END learning_rate=0.01, max_depth=8, min_samples_split=0.5, n_estimators=1000, subsample=0.5; total time=   0.9s\n",
      "[CV] END learning_rate=0.01, max_depth=8, min_samples_split=0.5, n_estimators=1000, subsample=0.9; total time=   2.0s\n",
      "[CV] END learning_rate=0.01, max_depth=8, min_samples_split=0.5, n_estimators=1500, subsample=0.5; total time=   1.3s\n",
      "[CV] END learning_rate=0.01, max_depth=8, min_samples_split=0.5, n_estimators=1500, subsample=0.5; total time=   1.9s\n",
      "[CV] END learning_rate=0.01, max_depth=8, min_samples_split=0.5, n_estimators=1500, subsample=1.0; total time=   3.8s\n",
      "[CV] END learning_rate=0.1, max_depth=3, min_samples_split=0.1, n_estimators=1000, subsample=0.9; total time=   2.1s\n",
      "[CV] END learning_rate=0.1, max_depth=3, min_samples_split=0.1, n_estimators=1000, subsample=1.0; total time=   2.0s\n",
      "[CV] END learning_rate=0.1, max_depth=3, min_samples_split=0.1, n_estimators=1500, subsample=0.9; total time=   3.5s\n",
      "[CV] END learning_rate=0.1, max_depth=3, min_samples_split=0.1, n_estimators=1500, subsample=1.0; total time=   3.2s\n",
      "[CV] END learning_rate=0.1, max_depth=3, min_samples_split=0.2, n_estimators=1000, subsample=0.9; total time=   2.0s\n",
      "[CV] END learning_rate=0.1, max_depth=3, min_samples_split=0.2, n_estimators=1500, subsample=0.5; total time=   2.4s\n",
      "[CV] END learning_rate=0.1, max_depth=3, min_samples_split=0.2, n_estimators=1500, subsample=0.9; total time=   3.5s\n",
      "[CV] END learning_rate=0.1, max_depth=3, min_samples_split=0.30000000000000004, n_estimators=100, subsample=0.9; total time=   0.2s\n",
      "[CV] END learning_rate=0.1, max_depth=3, min_samples_split=0.30000000000000004, n_estimators=100, subsample=1.0; total time=   0.2s\n",
      "[CV] END learning_rate=0.1, max_depth=3, min_samples_split=0.30000000000000004, n_estimators=1000, subsample=0.5; total time=   1.6s\n",
      "[CV] END learning_rate=0.1, max_depth=3, min_samples_split=0.30000000000000004, n_estimators=1000, subsample=1.0; total time=   1.8s\n",
      "[CV] END learning_rate=0.1, max_depth=3, min_samples_split=0.30000000000000004, n_estimators=1500, subsample=0.5; total time=   2.3s\n",
      "[CV] END learning_rate=0.1, max_depth=3, min_samples_split=0.30000000000000004, n_estimators=1500, subsample=0.9; total time=   3.2s\n",
      "[CV] END learning_rate=0.1, max_depth=3, min_samples_split=0.4, n_estimators=1000, subsample=0.5; total time=   1.6s\n",
      "[CV] END learning_rate=0.1, max_depth=3, min_samples_split=0.4, n_estimators=1000, subsample=0.9; total time=   1.9s\n",
      "[CV] END learning_rate=0.1, max_depth=3, min_samples_split=0.4, n_estimators=1500, subsample=0.5; total time=   2.0s\n",
      "[CV] END learning_rate=0.1, max_depth=3, min_samples_split=0.4, n_estimators=1500, subsample=1.0; total time=   2.7s\n",
      "[CV] END learning_rate=0.1, max_depth=3, min_samples_split=0.5, n_estimators=100, subsample=1.0; total time=   0.2s\n",
      "[CV] END learning_rate=0.1, max_depth=3, min_samples_split=0.5, n_estimators=1000, subsample=0.5; total time=   1.1s\n",
      "[CV] END learning_rate=0.1, max_depth=3, min_samples_split=0.5, n_estimators=1000, subsample=0.9; total time=   2.2s\n",
      "[CV] END learning_rate=0.1, max_depth=3, min_samples_split=0.5, n_estimators=1500, subsample=0.5; total time=   1.5s\n",
      "[CV] END learning_rate=0.1, max_depth=3, min_samples_split=0.5, n_estimators=1500, subsample=0.9; total time=   2.9s\n",
      "[CV] END learning_rate=0.1, max_depth=5, min_samples_split=0.1, n_estimators=100, subsample=0.9; total time=   0.3s\n",
      "[CV] END learning_rate=0.1, max_depth=5, min_samples_split=0.1, n_estimators=100, subsample=1.0; total time=   0.4s\n",
      "[CV] END learning_rate=0.1, max_depth=5, min_samples_split=0.1, n_estimators=1000, subsample=0.5; total time=   2.3s\n",
      "[CV] END learning_rate=0.1, max_depth=5, min_samples_split=0.1, n_estimators=1000, subsample=1.0; total time=   3.4s\n",
      "[CV] END learning_rate=0.1, max_depth=5, min_samples_split=0.1, n_estimators=1500, subsample=0.9; total time=   3.7s\n",
      "[CV] END learning_rate=0.1, max_depth=5, min_samples_split=0.1, n_estimators=1500, subsample=1.0; total time=   3.7s\n",
      "[CV] END learning_rate=0.1, max_depth=5, min_samples_split=0.2, n_estimators=1000, subsample=0.9; total time=   3.1s\n",
      "[CV] END learning_rate=0.1, max_depth=5, min_samples_split=0.2, n_estimators=1000, subsample=1.0; total time=   2.5s\n",
      "[CV] END learning_rate=0.1, max_depth=5, min_samples_split=0.2, n_estimators=1500, subsample=0.9; total time=   4.1s\n",
      "[CV] END learning_rate=0.1, max_depth=5, min_samples_split=0.30000000000000004, n_estimators=100, subsample=0.5; total time=   0.2s\n",
      "[CV] END learning_rate=0.1, max_depth=5, min_samples_split=0.30000000000000004, n_estimators=100, subsample=0.5; total time=   0.2s\n",
      "[CV] END learning_rate=0.1, max_depth=5, min_samples_split=0.30000000000000004, n_estimators=100, subsample=0.5; total time=   0.2s\n",
      "[CV] END learning_rate=0.1, max_depth=5, min_samples_split=0.30000000000000004, n_estimators=100, subsample=0.5; total time=   0.2s\n",
      "[CV] END learning_rate=0.1, max_depth=5, min_samples_split=0.30000000000000004, n_estimators=100, subsample=0.5; total time=   0.2s\n",
      "[CV] END learning_rate=0.1, max_depth=5, min_samples_split=0.30000000000000004, n_estimators=100, subsample=0.9; total time=   0.3s\n",
      "[CV] END learning_rate=0.1, max_depth=5, min_samples_split=0.30000000000000004, n_estimators=100, subsample=0.9; total time=   0.3s\n",
      "[CV] END learning_rate=0.1, max_depth=5, min_samples_split=0.30000000000000004, n_estimators=100, subsample=1.0; total time=   0.3s\n",
      "[CV] END learning_rate=0.1, max_depth=5, min_samples_split=0.30000000000000004, n_estimators=1000, subsample=0.5; total time=   1.8s\n",
      "[CV] END learning_rate=0.1, max_depth=5, min_samples_split=0.30000000000000004, n_estimators=1000, subsample=0.9; total time=   2.4s\n",
      "[CV] END learning_rate=0.1, max_depth=5, min_samples_split=0.30000000000000004, n_estimators=1500, subsample=0.5; total time=   2.5s\n",
      "[CV] END learning_rate=0.1, max_depth=5, min_samples_split=0.30000000000000004, n_estimators=1500, subsample=0.9; total time=   4.3s\n",
      "[CV] END learning_rate=0.1, max_depth=5, min_samples_split=0.4, n_estimators=100, subsample=0.5; total time=   0.2s\n",
      "[CV] END learning_rate=0.1, max_depth=5, min_samples_split=0.4, n_estimators=100, subsample=0.9; total time=   0.3s\n",
      "[CV] END learning_rate=0.1, max_depth=5, min_samples_split=0.4, n_estimators=100, subsample=1.0; total time=   0.2s\n"
     ]
    },
    {
     "name": "stdout",
     "output_type": "stream",
     "text": [
      "[CV] END learning_rate=0.01, max_depth=3, min_samples_split=0.1, n_estimators=100, subsample=0.9; total time=   0.2s\n",
      "[CV] END learning_rate=0.01, max_depth=3, min_samples_split=0.1, n_estimators=100, subsample=1.0; total time=   0.2s\n",
      "[CV] END learning_rate=0.01, max_depth=3, min_samples_split=0.1, n_estimators=1000, subsample=0.9; total time=   2.6s\n",
      "[CV] END learning_rate=0.01, max_depth=3, min_samples_split=0.1, n_estimators=1500, subsample=0.5; total time=   3.1s\n",
      "[CV] END learning_rate=0.01, max_depth=3, min_samples_split=0.1, n_estimators=1500, subsample=0.9; total time=   3.2s\n",
      "[CV] END learning_rate=0.01, max_depth=3, min_samples_split=0.2, n_estimators=100, subsample=0.5; total time=   0.2s\n",
      "[CV] END learning_rate=0.01, max_depth=3, min_samples_split=0.2, n_estimators=100, subsample=0.9; total time=   0.2s\n",
      "[CV] END learning_rate=0.01, max_depth=3, min_samples_split=0.2, n_estimators=100, subsample=0.9; total time=   0.2s\n",
      "[CV] END learning_rate=0.01, max_depth=3, min_samples_split=0.2, n_estimators=100, subsample=1.0; total time=   0.2s\n",
      "[CV] END learning_rate=0.01, max_depth=3, min_samples_split=0.2, n_estimators=100, subsample=1.0; total time=   0.2s\n",
      "[CV] END learning_rate=0.01, max_depth=3, min_samples_split=0.2, n_estimators=100, subsample=1.0; total time=   0.2s\n",
      "[CV] END learning_rate=0.01, max_depth=3, min_samples_split=0.2, n_estimators=1000, subsample=0.5; total time=   2.0s\n",
      "[CV] END learning_rate=0.01, max_depth=3, min_samples_split=0.2, n_estimators=1000, subsample=0.9; total time=   2.4s\n",
      "[CV] END learning_rate=0.01, max_depth=3, min_samples_split=0.2, n_estimators=1500, subsample=0.5; total time=   2.6s\n",
      "[CV] END learning_rate=0.01, max_depth=3, min_samples_split=0.2, n_estimators=1500, subsample=1.0; total time=   3.0s\n",
      "[CV] END learning_rate=0.01, max_depth=3, min_samples_split=0.30000000000000004, n_estimators=100, subsample=1.0; total time=   0.2s\n",
      "[CV] END learning_rate=0.01, max_depth=3, min_samples_split=0.30000000000000004, n_estimators=1000, subsample=0.5; total time=   1.8s\n",
      "[CV] END learning_rate=0.01, max_depth=3, min_samples_split=0.30000000000000004, n_estimators=1000, subsample=1.0; total time=   2.3s\n",
      "[CV] END learning_rate=0.01, max_depth=3, min_samples_split=0.30000000000000004, n_estimators=1500, subsample=0.9; total time=   3.2s\n",
      "[CV] END learning_rate=0.01, max_depth=3, min_samples_split=0.30000000000000004, n_estimators=1500, subsample=1.0; total time=   2.9s\n",
      "[CV] END learning_rate=0.01, max_depth=3, min_samples_split=0.4, n_estimators=1000, subsample=0.9; total time=   2.1s\n",
      "[CV] END learning_rate=0.01, max_depth=3, min_samples_split=0.4, n_estimators=1000, subsample=1.0; total time=   2.1s\n",
      "[CV] END learning_rate=0.01, max_depth=3, min_samples_split=0.4, n_estimators=1500, subsample=0.9; total time=   3.1s\n",
      "[CV] END learning_rate=0.01, max_depth=3, min_samples_split=0.5, n_estimators=100, subsample=0.5; total time=   0.1s\n",
      "[CV] END learning_rate=0.01, max_depth=3, min_samples_split=0.5, n_estimators=100, subsample=0.5; total time=   0.1s\n",
      "[CV] END learning_rate=0.01, max_depth=3, min_samples_split=0.5, n_estimators=100, subsample=0.5; total time=   0.1s\n",
      "[CV] END learning_rate=0.01, max_depth=3, min_samples_split=0.5, n_estimators=100, subsample=0.5; total time=   0.1s\n",
      "[CV] END learning_rate=0.01, max_depth=3, min_samples_split=0.5, n_estimators=100, subsample=0.5; total time=   0.1s\n",
      "[CV] END learning_rate=0.01, max_depth=3, min_samples_split=0.5, n_estimators=100, subsample=0.9; total time=   0.2s\n",
      "[CV] END learning_rate=0.01, max_depth=3, min_samples_split=0.5, n_estimators=100, subsample=0.9; total time=   0.2s\n",
      "[CV] END learning_rate=0.01, max_depth=3, min_samples_split=0.5, n_estimators=100, subsample=1.0; total time=   0.2s\n",
      "[CV] END learning_rate=0.01, max_depth=3, min_samples_split=0.5, n_estimators=1000, subsample=0.5; total time=   0.9s\n",
      "[CV] END learning_rate=0.01, max_depth=3, min_samples_split=0.5, n_estimators=1000, subsample=0.9; total time=   1.8s\n",
      "[CV] END learning_rate=0.01, max_depth=3, min_samples_split=0.5, n_estimators=1500, subsample=0.5; total time=   1.6s\n",
      "[CV] END learning_rate=0.01, max_depth=3, min_samples_split=0.5, n_estimators=1500, subsample=0.9; total time=   3.2s\n",
      "[CV] END learning_rate=0.01, max_depth=5, min_samples_split=0.1, n_estimators=100, subsample=0.5; total time=   0.2s\n",
      "[CV] END learning_rate=0.01, max_depth=5, min_samples_split=0.1, n_estimators=100, subsample=0.9; total time=   0.3s\n",
      "[CV] END learning_rate=0.01, max_depth=5, min_samples_split=0.1, n_estimators=100, subsample=1.0; total time=   0.3s\n",
      "[CV] END learning_rate=0.01, max_depth=5, min_samples_split=0.1, n_estimators=1000, subsample=0.9; total time=   3.0s\n",
      "[CV] END learning_rate=0.01, max_depth=5, min_samples_split=0.1, n_estimators=1000, subsample=1.0; total time=   3.6s\n",
      "[CV] END learning_rate=0.01, max_depth=5, min_samples_split=0.1, n_estimators=1500, subsample=0.9; total time=   5.3s\n",
      "[CV] END learning_rate=0.01, max_depth=5, min_samples_split=0.1, n_estimators=1500, subsample=1.0; total time=   4.8s\n",
      "[CV] END learning_rate=0.01, max_depth=5, min_samples_split=0.2, n_estimators=1000, subsample=1.0; total time=   3.0s\n",
      "[CV] END learning_rate=0.01, max_depth=5, min_samples_split=0.2, n_estimators=1500, subsample=0.9; total time=   4.0s\n",
      "[CV] END learning_rate=0.01, max_depth=5, min_samples_split=0.2, n_estimators=1500, subsample=1.0; total time=   4.3s\n",
      "[CV] END learning_rate=0.01, max_depth=5, min_samples_split=0.30000000000000004, n_estimators=1000, subsample=0.9; total time=   2.7s\n",
      "[CV] END learning_rate=0.01, max_depth=5, min_samples_split=0.30000000000000004, n_estimators=1000, subsample=1.0; total time=   2.3s\n",
      "[CV] END learning_rate=0.01, max_depth=5, min_samples_split=0.30000000000000004, n_estimators=1500, subsample=0.9; total time=   3.9s\n",
      "[CV] END learning_rate=0.01, max_depth=5, min_samples_split=0.4, n_estimators=100, subsample=0.5; total time=   0.1s\n",
      "[CV] END learning_rate=0.01, max_depth=5, min_samples_split=0.4, n_estimators=100, subsample=0.5; total time=   0.2s\n",
      "[CV] END learning_rate=0.01, max_depth=5, min_samples_split=0.4, n_estimators=100, subsample=0.5; total time=   0.1s\n",
      "[CV] END learning_rate=0.01, max_depth=5, min_samples_split=0.4, n_estimators=100, subsample=0.9; total time=   0.3s\n",
      "[CV] END learning_rate=0.01, max_depth=5, min_samples_split=0.4, n_estimators=100, subsample=1.0; total time=   0.2s\n",
      "[CV] END learning_rate=0.01, max_depth=5, min_samples_split=0.4, n_estimators=1000, subsample=0.5; total time=   1.7s\n",
      "[CV] END learning_rate=0.01, max_depth=5, min_samples_split=0.4, n_estimators=1000, subsample=1.0; total time=   2.1s\n",
      "[CV] END learning_rate=0.01, max_depth=5, min_samples_split=0.4, n_estimators=1500, subsample=0.5; total time=   2.1s\n",
      "[CV] END learning_rate=0.01, max_depth=5, min_samples_split=0.4, n_estimators=1500, subsample=1.0; total time=   3.4s\n",
      "[CV] END learning_rate=0.01, max_depth=5, min_samples_split=0.5, n_estimators=100, subsample=0.9; total time=   0.2s\n",
      "[CV] END learning_rate=0.01, max_depth=5, min_samples_split=0.5, n_estimators=100, subsample=1.0; total time=   0.2s\n",
      "[CV] END learning_rate=0.01, max_depth=5, min_samples_split=0.5, n_estimators=1000, subsample=0.9; total time=   2.3s\n",
      "[CV] END learning_rate=0.01, max_depth=5, min_samples_split=0.5, n_estimators=1000, subsample=1.0; total time=   2.0s\n",
      "[CV] END learning_rate=0.01, max_depth=5, min_samples_split=0.5, n_estimators=1500, subsample=0.9; total time=   2.9s\n",
      "[CV] END learning_rate=0.01, max_depth=5, min_samples_split=0.5, n_estimators=1500, subsample=1.0; total time=   3.3s\n",
      "[CV] END learning_rate=0.01, max_depth=8, min_samples_split=0.1, n_estimators=1000, subsample=0.9; total time=   4.3s\n",
      "[CV] END learning_rate=0.01, max_depth=8, min_samples_split=0.1, n_estimators=1500, subsample=0.5; total time=   4.1s\n",
      "[CV] END learning_rate=0.01, max_depth=8, min_samples_split=0.1, n_estimators=1500, subsample=0.9; total time=   6.5s\n",
      "[CV] END learning_rate=0.01, max_depth=8, min_samples_split=0.2, n_estimators=100, subsample=0.5; total time=   0.2s\n",
      "[CV] END learning_rate=0.01, max_depth=8, min_samples_split=0.2, n_estimators=100, subsample=0.9; total time=   0.3s\n",
      "[CV] END learning_rate=0.01, max_depth=8, min_samples_split=0.2, n_estimators=100, subsample=0.9; total time=   0.3s\n",
      "[CV] END learning_rate=0.01, max_depth=8, min_samples_split=0.2, n_estimators=100, subsample=1.0; total time=   0.3s\n",
      "[CV] END learning_rate=0.01, max_depth=8, min_samples_split=0.2, n_estimators=100, subsample=1.0; total time=   0.3s\n",
      "[CV] END learning_rate=0.01, max_depth=8, min_samples_split=0.2, n_estimators=1000, subsample=0.9; total time=   3.4s\n",
      "[CV] END learning_rate=0.01, max_depth=8, min_samples_split=0.2, n_estimators=1000, subsample=1.0; total time=   3.5s\n",
      "[CV] END learning_rate=0.01, max_depth=8, min_samples_split=0.2, n_estimators=1500, subsample=0.9; total time=   5.0s\n",
      "[CV] END learning_rate=0.01, max_depth=8, min_samples_split=0.2, n_estimators=1500, subsample=1.0; total time=   5.4s\n",
      "[CV] END learning_rate=0.01, max_depth=8, min_samples_split=0.30000000000000004, n_estimators=1000, subsample=1.0; total time=   2.9s\n",
      "[CV] END learning_rate=0.01, max_depth=8, min_samples_split=0.30000000000000004, n_estimators=1500, subsample=0.5; total time=   2.6s\n",
      "[CV] END learning_rate=0.01, max_depth=8, min_samples_split=0.30000000000000004, n_estimators=1500, subsample=1.0; total time=   5.0s\n",
      "[CV] END learning_rate=0.01, max_depth=8, min_samples_split=0.4, n_estimators=1000, subsample=0.9; total time=   2.4s\n",
      "[CV] END learning_rate=0.01, max_depth=8, min_samples_split=0.4, n_estimators=1000, subsample=1.0; total time=   2.5s\n",
      "[CV] END learning_rate=0.01, max_depth=8, min_samples_split=0.4, n_estimators=1500, subsample=0.9; total time=   4.3s\n",
      "[CV] END learning_rate=0.01, max_depth=8, min_samples_split=0.4, n_estimators=1500, subsample=1.0; total time=   3.7s\n",
      "[CV] END learning_rate=0.01, max_depth=8, min_samples_split=0.5, n_estimators=1000, subsample=1.0; total time=   2.1s\n",
      "[CV] END learning_rate=0.01, max_depth=8, min_samples_split=0.5, n_estimators=1500, subsample=1.0; total time=   3.7s\n",
      "[CV] END learning_rate=0.1, max_depth=3, min_samples_split=0.1, n_estimators=100, subsample=0.5; total time=   0.2s\n",
      "[CV] END learning_rate=0.1, max_depth=3, min_samples_split=0.1, n_estimators=100, subsample=0.9; total time=   0.2s\n",
      "[CV] END learning_rate=0.1, max_depth=3, min_samples_split=0.1, n_estimators=100, subsample=1.0; total time=   0.2s\n",
      "[CV] END learning_rate=0.1, max_depth=3, min_samples_split=0.1, n_estimators=1000, subsample=0.5; total time=   1.7s\n",
      "[CV] END learning_rate=0.1, max_depth=3, min_samples_split=0.1, n_estimators=1000, subsample=1.0; total time=   2.0s\n",
      "[CV] END learning_rate=0.1, max_depth=3, min_samples_split=0.1, n_estimators=1500, subsample=0.5; total time=   2.7s\n",
      "[CV] END learning_rate=0.1, max_depth=3, min_samples_split=0.1, n_estimators=1500, subsample=1.0; total time=   3.4s\n",
      "[CV] END learning_rate=0.1, max_depth=3, min_samples_split=0.2, n_estimators=100, subsample=0.9; total time=   0.2s\n",
      "[CV] END learning_rate=0.1, max_depth=3, min_samples_split=0.2, n_estimators=100, subsample=1.0; total time=   0.2s\n",
      "[CV] END learning_rate=0.1, max_depth=3, min_samples_split=0.2, n_estimators=1000, subsample=0.5; total time=   1.7s\n",
      "[CV] END learning_rate=0.1, max_depth=3, min_samples_split=0.2, n_estimators=1000, subsample=1.0; total time=   1.9s\n",
      "[CV] END learning_rate=0.1, max_depth=3, min_samples_split=0.2, n_estimators=1500, subsample=0.5; total time=   2.4s\n",
      "[CV] END learning_rate=0.1, max_depth=3, min_samples_split=0.2, n_estimators=1500, subsample=1.0; total time=   3.3s\n",
      "[CV] END learning_rate=0.1, max_depth=3, min_samples_split=0.30000000000000004, n_estimators=100, subsample=1.0; total time=   0.2s\n",
      "[CV] END learning_rate=0.1, max_depth=3, min_samples_split=0.30000000000000004, n_estimators=1000, subsample=0.5; total time=   1.6s\n",
      "[CV] END learning_rate=0.1, max_depth=3, min_samples_split=0.30000000000000004, n_estimators=1000, subsample=1.0; total time=   1.8s\n",
      "[CV] END learning_rate=0.1, max_depth=3, min_samples_split=0.30000000000000004, n_estimators=1500, subsample=0.5; total time=   2.3s\n",
      "[CV] END learning_rate=0.1, max_depth=3, min_samples_split=0.30000000000000004, n_estimators=1500, subsample=1.0; total time=   3.1s\n",
      "[CV] END learning_rate=0.1, max_depth=3, min_samples_split=0.4, n_estimators=100, subsample=1.0; total time=   0.2s\n",
      "[CV] END learning_rate=0.1, max_depth=3, min_samples_split=0.4, n_estimators=1000, subsample=0.9; total time=   2.2s\n",
      "[CV] END learning_rate=0.1, max_depth=3, min_samples_split=0.4, n_estimators=1000, subsample=1.0; total time=   1.8s\n",
      "[CV] END learning_rate=0.1, max_depth=3, min_samples_split=0.4, n_estimators=1500, subsample=0.9; total time=   2.8s\n",
      "[CV] END learning_rate=0.1, max_depth=3, min_samples_split=0.4, n_estimators=1500, subsample=1.0; total time=   3.1s\n",
      "[CV] END learning_rate=0.1, max_depth=3, min_samples_split=0.5, n_estimators=1000, subsample=1.0; total time=   2.0s\n",
      "[CV] END learning_rate=0.1, max_depth=3, min_samples_split=0.5, n_estimators=1500, subsample=0.5; total time=   1.9s\n",
      "[CV] END learning_rate=0.1, max_depth=3, min_samples_split=0.5, n_estimators=1500, subsample=1.0; total time=   2.6s\n",
      "[CV] END learning_rate=0.1, max_depth=5, min_samples_split=0.1, n_estimators=100, subsample=1.0; total time=   0.3s\n",
      "[CV] END learning_rate=0.1, max_depth=5, min_samples_split=0.1, n_estimators=1000, subsample=0.9; total time=   3.3s\n",
      "[CV] END learning_rate=0.1, max_depth=5, min_samples_split=0.1, n_estimators=1000, subsample=1.0; total time=   3.3s\n",
      "[CV] END learning_rate=0.1, max_depth=5, min_samples_split=0.1, n_estimators=1500, subsample=0.9; total time=   3.5s\n",
      "[CV] END learning_rate=0.1, max_depth=5, min_samples_split=0.1, n_estimators=1500, subsample=1.0; total time=   3.4s\n",
      "[CV] END learning_rate=0.1, max_depth=5, min_samples_split=0.2, n_estimators=1000, subsample=0.9; total time=   3.0s\n",
      "[CV] END learning_rate=0.1, max_depth=5, min_samples_split=0.2, n_estimators=1500, subsample=0.5; total time=   2.8s\n",
      "[CV] END learning_rate=0.1, max_depth=5, min_samples_split=0.2, n_estimators=1500, subsample=0.9; total time=   4.2s\n",
      "[CV] END learning_rate=0.1, max_depth=5, min_samples_split=0.30000000000000004, n_estimators=100, subsample=0.9; total time=   0.3s\n",
      "[CV] END learning_rate=0.1, max_depth=5, min_samples_split=0.30000000000000004, n_estimators=100, subsample=0.9; total time=   0.3s\n",
      "[CV] END learning_rate=0.1, max_depth=5, min_samples_split=0.30000000000000004, n_estimators=100, subsample=0.9; total time=   0.3s\n",
      "[CV] END learning_rate=0.1, max_depth=5, min_samples_split=0.30000000000000004, n_estimators=100, subsample=1.0; total time=   0.3s\n",
      "[CV] END learning_rate=0.1, max_depth=5, min_samples_split=0.30000000000000004, n_estimators=1000, subsample=0.5; total time=   1.7s\n",
      "[CV] END learning_rate=0.1, max_depth=5, min_samples_split=0.30000000000000004, n_estimators=1000, subsample=1.0; total time=   2.4s\n",
      "[CV] END learning_rate=0.1, max_depth=5, min_samples_split=0.30000000000000004, n_estimators=1500, subsample=0.5; total time=   2.5s\n",
      "[CV] END learning_rate=0.1, max_depth=5, min_samples_split=0.30000000000000004, n_estimators=1500, subsample=1.0; total time=   4.4s\n",
      "[CV] END learning_rate=0.1, max_depth=5, min_samples_split=0.4, n_estimators=100, subsample=0.9; total time=   0.2s\n",
      "[CV] END learning_rate=0.1, max_depth=5, min_samples_split=0.4, n_estimators=1000, subsample=0.5; total time=   1.4s\n",
      "[CV] END learning_rate=0.1, max_depth=5, min_samples_split=0.4, n_estimators=1000, subsample=0.9; total time=   2.2s\n",
      "[CV] END learning_rate=0.1, max_depth=5, min_samples_split=0.4, n_estimators=1500, subsample=0.5; total time=   2.1s\n",
      "[CV] END learning_rate=0.1, max_depth=5, min_samples_split=0.4, n_estimators=1500, subsample=0.9; total time=   3.9s\n",
      "[CV] END learning_rate=0.1, max_depth=5, min_samples_split=0.5, n_estimators=100, subsample=0.5; total time=   0.1s\n",
      "[CV] END learning_rate=0.1, max_depth=5, min_samples_split=0.5, n_estimators=100, subsample=1.0; total time=   0.2s\n",
      "[CV] END learning_rate=0.1, max_depth=5, min_samples_split=0.5, n_estimators=1000, subsample=0.5; total time=   0.9s\n",
      "[CV] END learning_rate=0.1, max_depth=5, min_samples_split=0.5, n_estimators=1000, subsample=0.9; total time=   2.0s\n"
     ]
    },
    {
     "name": "stdout",
     "output_type": "stream",
     "text": [
      "[CV] END learning_rate=0.01, max_depth=3, min_samples_split=0.1, n_estimators=100, subsample=0.5; total time=   0.2s\n",
      "[CV] END learning_rate=0.01, max_depth=3, min_samples_split=0.1, n_estimators=100, subsample=1.0; total time=   0.2s\n",
      "[CV] END learning_rate=0.01, max_depth=3, min_samples_split=0.1, n_estimators=1000, subsample=0.9; total time=   2.6s\n",
      "[CV] END learning_rate=0.01, max_depth=3, min_samples_split=0.1, n_estimators=1000, subsample=1.0; total time=   2.5s\n",
      "[CV] END learning_rate=0.01, max_depth=3, min_samples_split=0.1, n_estimators=1500, subsample=0.9; total time=   3.2s\n",
      "[CV] END learning_rate=0.01, max_depth=3, min_samples_split=0.1, n_estimators=1500, subsample=1.0; total time=   3.3s\n",
      "[CV] END learning_rate=0.01, max_depth=3, min_samples_split=0.2, n_estimators=1000, subsample=0.9; total time=   2.4s\n",
      "[CV] END learning_rate=0.01, max_depth=3, min_samples_split=0.2, n_estimators=1500, subsample=0.5; total time=   2.7s\n",
      "[CV] END learning_rate=0.01, max_depth=3, min_samples_split=0.2, n_estimators=1500, subsample=0.9; total time=   3.1s\n",
      "[CV] END learning_rate=0.01, max_depth=3, min_samples_split=0.30000000000000004, n_estimators=100, subsample=0.9; total time=   0.2s\n",
      "[CV] END learning_rate=0.01, max_depth=3, min_samples_split=0.30000000000000004, n_estimators=100, subsample=0.9; total time=   0.2s\n",
      "[CV] END learning_rate=0.01, max_depth=3, min_samples_split=0.30000000000000004, n_estimators=100, subsample=1.0; total time=   0.2s\n",
      "[CV] END learning_rate=0.01, max_depth=3, min_samples_split=0.30000000000000004, n_estimators=1000, subsample=0.5; total time=   1.7s\n",
      "[CV] END learning_rate=0.01, max_depth=3, min_samples_split=0.30000000000000004, n_estimators=1000, subsample=0.9; total time=   2.3s\n",
      "[CV] END learning_rate=0.01, max_depth=3, min_samples_split=0.30000000000000004, n_estimators=1500, subsample=0.5; total time=   2.5s\n",
      "[CV] END learning_rate=0.01, max_depth=3, min_samples_split=0.30000000000000004, n_estimators=1500, subsample=1.0; total time=   2.8s\n",
      "[CV] END learning_rate=0.01, max_depth=3, min_samples_split=0.4, n_estimators=100, subsample=1.0; total time=   0.2s\n",
      "[CV] END learning_rate=0.01, max_depth=3, min_samples_split=0.4, n_estimators=1000, subsample=0.5; total time=   1.4s\n",
      "[CV] END learning_rate=0.01, max_depth=3, min_samples_split=0.4, n_estimators=1000, subsample=0.9; total time=   2.2s\n",
      "[CV] END learning_rate=0.01, max_depth=3, min_samples_split=0.4, n_estimators=1500, subsample=0.9; total time=   3.3s\n",
      "[CV] END learning_rate=0.01, max_depth=3, min_samples_split=0.4, n_estimators=1500, subsample=1.0; total time=   2.6s\n",
      "[CV] END learning_rate=0.01, max_depth=3, min_samples_split=0.5, n_estimators=1000, subsample=0.9; total time=   1.8s\n",
      "[CV] END learning_rate=0.01, max_depth=3, min_samples_split=0.5, n_estimators=1000, subsample=1.0; total time=   1.9s\n",
      "[CV] END learning_rate=0.01, max_depth=3, min_samples_split=0.5, n_estimators=1500, subsample=1.0; total time=   3.0s\n",
      "[CV] END learning_rate=0.01, max_depth=5, min_samples_split=0.1, n_estimators=100, subsample=0.5; total time=   0.3s\n",
      "[CV] END learning_rate=0.01, max_depth=5, min_samples_split=0.1, n_estimators=100, subsample=0.9; total time=   0.3s\n",
      "[CV] END learning_rate=0.01, max_depth=5, min_samples_split=0.1, n_estimators=100, subsample=1.0; total time=   0.3s\n",
      "[CV] END learning_rate=0.01, max_depth=5, min_samples_split=0.1, n_estimators=1000, subsample=0.5; total time=   2.2s\n",
      "[CV] END learning_rate=0.01, max_depth=5, min_samples_split=0.1, n_estimators=1000, subsample=1.0; total time=   3.2s\n",
      "[CV] END learning_rate=0.01, max_depth=5, min_samples_split=0.1, n_estimators=1500, subsample=0.5; total time=   4.2s\n",
      "[CV] END learning_rate=0.01, max_depth=5, min_samples_split=0.1, n_estimators=1500, subsample=1.0; total time=   4.5s\n",
      "[CV] END learning_rate=0.01, max_depth=5, min_samples_split=0.2, n_estimators=100, subsample=1.0; total time=   0.3s\n",
      "[CV] END learning_rate=0.01, max_depth=5, min_samples_split=0.2, n_estimators=1000, subsample=0.5; total time=   2.0s\n",
      "[CV] END learning_rate=0.01, max_depth=5, min_samples_split=0.2, n_estimators=1000, subsample=1.0; total time=   3.1s\n",
      "[CV] END learning_rate=0.01, max_depth=5, min_samples_split=0.2, n_estimators=1500, subsample=0.5; total time=   2.9s\n",
      "[CV] END learning_rate=0.01, max_depth=5, min_samples_split=0.2, n_estimators=1500, subsample=1.0; total time=   4.1s\n",
      "[CV] END learning_rate=0.01, max_depth=5, min_samples_split=0.30000000000000004, n_estimators=100, subsample=0.9; total time=   0.3s\n",
      "[CV] END learning_rate=0.01, max_depth=5, min_samples_split=0.30000000000000004, n_estimators=100, subsample=1.0; total time=   0.3s\n",
      "[CV] END learning_rate=0.01, max_depth=5, min_samples_split=0.30000000000000004, n_estimators=1000, subsample=0.5; total time=   1.9s\n",
      "[CV] END learning_rate=0.01, max_depth=5, min_samples_split=0.30000000000000004, n_estimators=1000, subsample=1.0; total time=   2.6s\n",
      "[CV] END learning_rate=0.01, max_depth=5, min_samples_split=0.30000000000000004, n_estimators=1500, subsample=0.9; total time=   3.6s\n",
      "[CV] END learning_rate=0.01, max_depth=5, min_samples_split=0.30000000000000004, n_estimators=1500, subsample=1.0; total time=   4.1s\n",
      "[CV] END learning_rate=0.01, max_depth=5, min_samples_split=0.4, n_estimators=1000, subsample=0.9; total time=   2.3s\n",
      "[CV] END learning_rate=0.01, max_depth=5, min_samples_split=0.4, n_estimators=1000, subsample=1.0; total time=   2.2s\n",
      "[CV] END learning_rate=0.01, max_depth=5, min_samples_split=0.4, n_estimators=1500, subsample=0.9; total time=   3.4s\n",
      "[CV] END learning_rate=0.01, max_depth=5, min_samples_split=0.5, n_estimators=100, subsample=0.5; total time=   0.1s\n",
      "[CV] END learning_rate=0.01, max_depth=5, min_samples_split=0.5, n_estimators=100, subsample=0.5; total time=   0.1s\n",
      "[CV] END learning_rate=0.01, max_depth=5, min_samples_split=0.5, n_estimators=100, subsample=0.5; total time=   0.1s\n",
      "[CV] END learning_rate=0.01, max_depth=5, min_samples_split=0.5, n_estimators=100, subsample=0.5; total time=   0.1s\n",
      "[CV] END learning_rate=0.01, max_depth=5, min_samples_split=0.5, n_estimators=100, subsample=0.9; total time=   0.2s\n",
      "[CV] END learning_rate=0.01, max_depth=5, min_samples_split=0.5, n_estimators=100, subsample=1.0; total time=   0.2s\n",
      "[CV] END learning_rate=0.01, max_depth=5, min_samples_split=0.5, n_estimators=1000, subsample=0.5; total time=   1.4s\n",
      "[CV] END learning_rate=0.01, max_depth=5, min_samples_split=0.5, n_estimators=1000, subsample=1.0; total time=   2.0s\n",
      "[CV] END learning_rate=0.01, max_depth=5, min_samples_split=0.5, n_estimators=1500, subsample=0.5; total time=   1.4s\n",
      "[CV] END learning_rate=0.01, max_depth=5, min_samples_split=0.5, n_estimators=1500, subsample=1.0; total time=   2.9s\n",
      "[CV] END learning_rate=0.01, max_depth=8, min_samples_split=0.1, n_estimators=100, subsample=0.9; total time=   0.4s\n",
      "[CV] END learning_rate=0.01, max_depth=8, min_samples_split=0.1, n_estimators=100, subsample=1.0; total time=   0.5s\n",
      "[CV] END learning_rate=0.01, max_depth=8, min_samples_split=0.1, n_estimators=1000, subsample=0.5; total time=   3.2s\n",
      "[CV] END learning_rate=0.01, max_depth=8, min_samples_split=0.1, n_estimators=1000, subsample=0.9; total time=   4.0s\n",
      "[CV] END learning_rate=0.01, max_depth=8, min_samples_split=0.1, n_estimators=1500, subsample=0.5; total time=   4.1s\n",
      "[CV] END learning_rate=0.01, max_depth=8, min_samples_split=0.1, n_estimators=1500, subsample=0.9; total time=   6.2s\n",
      "[CV] END learning_rate=0.01, max_depth=8, min_samples_split=0.2, n_estimators=100, subsample=0.9; total time=   0.3s\n",
      "[CV] END learning_rate=0.01, max_depth=8, min_samples_split=0.2, n_estimators=100, subsample=1.0; total time=   0.3s\n",
      "[CV] END learning_rate=0.01, max_depth=8, min_samples_split=0.2, n_estimators=1000, subsample=0.5; total time=   2.0s\n",
      "[CV] END learning_rate=0.01, max_depth=8, min_samples_split=0.2, n_estimators=1000, subsample=0.9; total time=   3.8s\n",
      "[CV] END learning_rate=0.01, max_depth=8, min_samples_split=0.2, n_estimators=1000, subsample=1.0; total time=   3.5s\n",
      "[CV] END learning_rate=0.01, max_depth=8, min_samples_split=0.2, n_estimators=1500, subsample=1.0; total time=   5.4s\n",
      "[CV] END learning_rate=0.01, max_depth=8, min_samples_split=0.30000000000000004, n_estimators=100, subsample=0.9; total time=   0.3s\n",
      "[CV] END learning_rate=0.01, max_depth=8, min_samples_split=0.30000000000000004, n_estimators=1000, subsample=0.5; total time=   1.8s\n",
      "[CV] END learning_rate=0.01, max_depth=8, min_samples_split=0.30000000000000004, n_estimators=1000, subsample=0.9; total time=   2.9s\n",
      "[CV] END learning_rate=0.01, max_depth=8, min_samples_split=0.30000000000000004, n_estimators=1500, subsample=0.5; total time=   2.5s\n",
      "[CV] END learning_rate=0.01, max_depth=8, min_samples_split=0.30000000000000004, n_estimators=1500, subsample=0.9; total time=   4.8s\n",
      "[CV] END learning_rate=0.01, max_depth=8, min_samples_split=0.4, n_estimators=100, subsample=0.5; total time=   0.1s\n",
      "[CV] END learning_rate=0.01, max_depth=8, min_samples_split=0.4, n_estimators=100, subsample=0.9; total time=   0.2s\n",
      "[CV] END learning_rate=0.01, max_depth=8, min_samples_split=0.4, n_estimators=100, subsample=1.0; total time=   0.2s\n",
      "[CV] END learning_rate=0.01, max_depth=8, min_samples_split=0.4, n_estimators=1000, subsample=0.5; total time=   1.4s\n",
      "[CV] END learning_rate=0.01, max_depth=8, min_samples_split=0.4, n_estimators=1000, subsample=0.9; total time=   2.3s\n",
      "[CV] END learning_rate=0.01, max_depth=8, min_samples_split=0.4, n_estimators=1000, subsample=1.0; total time=   2.6s\n",
      "[CV] END learning_rate=0.01, max_depth=8, min_samples_split=0.4, n_estimators=1500, subsample=1.0; total time=   4.1s\n",
      "[CV] END learning_rate=0.01, max_depth=8, min_samples_split=0.5, n_estimators=100, subsample=0.9; total time=   0.2s\n",
      "[CV] END learning_rate=0.01, max_depth=8, min_samples_split=0.5, n_estimators=100, subsample=1.0; total time=   0.2s\n",
      "[CV] END learning_rate=0.01, max_depth=8, min_samples_split=0.5, n_estimators=1000, subsample=0.5; total time=   0.9s\n",
      "[CV] END learning_rate=0.01, max_depth=8, min_samples_split=0.5, n_estimators=1000, subsample=0.9; total time=   2.1s\n",
      "[CV] END learning_rate=0.01, max_depth=8, min_samples_split=0.5, n_estimators=1500, subsample=0.5; total time=   1.3s\n",
      "[CV] END learning_rate=0.01, max_depth=8, min_samples_split=0.5, n_estimators=1500, subsample=0.9; total time=   3.5s\n",
      "[CV] END learning_rate=0.01, max_depth=8, min_samples_split=0.5, n_estimators=1500, subsample=1.0; total time=   3.4s\n",
      "[CV] END learning_rate=0.1, max_depth=3, min_samples_split=0.1, n_estimators=1000, subsample=1.0; total time=   2.0s\n",
      "[CV] END learning_rate=0.1, max_depth=3, min_samples_split=0.1, n_estimators=1500, subsample=0.5; total time=   2.7s\n",
      "[CV] END learning_rate=0.1, max_depth=3, min_samples_split=0.1, n_estimators=1500, subsample=1.0; total time=   3.4s\n",
      "[CV] END learning_rate=0.1, max_depth=3, min_samples_split=0.2, n_estimators=100, subsample=1.0; total time=   0.2s\n",
      "[CV] END learning_rate=0.1, max_depth=3, min_samples_split=0.2, n_estimators=1000, subsample=0.5; total time=   1.6s\n",
      "[CV] END learning_rate=0.1, max_depth=3, min_samples_split=0.2, n_estimators=1000, subsample=0.9; total time=   1.9s\n",
      "[CV] END learning_rate=0.1, max_depth=3, min_samples_split=0.2, n_estimators=1500, subsample=0.5; total time=   2.4s\n",
      "[CV] END learning_rate=0.1, max_depth=3, min_samples_split=0.2, n_estimators=1500, subsample=1.0; total time=   3.4s\n",
      "[CV] END learning_rate=0.1, max_depth=3, min_samples_split=0.30000000000000004, n_estimators=100, subsample=1.0; total time=   0.2s\n",
      "[CV] END learning_rate=0.1, max_depth=3, min_samples_split=0.30000000000000004, n_estimators=1000, subsample=0.5; total time=   1.6s\n",
      "[CV] END learning_rate=0.1, max_depth=3, min_samples_split=0.30000000000000004, n_estimators=1000, subsample=1.0; total time=   1.8s\n",
      "[CV] END learning_rate=0.1, max_depth=3, min_samples_split=0.30000000000000004, n_estimators=1500, subsample=0.5; total time=   2.3s\n",
      "[CV] END learning_rate=0.1, max_depth=3, min_samples_split=0.30000000000000004, n_estimators=1500, subsample=1.0; total time=   3.0s\n",
      "[CV] END learning_rate=0.1, max_depth=3, min_samples_split=0.4, n_estimators=100, subsample=1.0; total time=   0.2s\n",
      "[CV] END learning_rate=0.1, max_depth=3, min_samples_split=0.4, n_estimators=1000, subsample=0.5; total time=   1.6s\n",
      "[CV] END learning_rate=0.1, max_depth=3, min_samples_split=0.4, n_estimators=1000, subsample=1.0; total time=   1.8s\n",
      "[CV] END learning_rate=0.1, max_depth=3, min_samples_split=0.4, n_estimators=1500, subsample=0.5; total time=   2.0s\n",
      "[CV] END learning_rate=0.1, max_depth=3, min_samples_split=0.4, n_estimators=1500, subsample=0.9; total time=   2.9s\n",
      "[CV] END learning_rate=0.1, max_depth=3, min_samples_split=0.5, n_estimators=100, subsample=1.0; total time=   0.2s\n",
      "[CV] END learning_rate=0.1, max_depth=3, min_samples_split=0.5, n_estimators=1000, subsample=0.5; total time=   1.5s\n",
      "[CV] END learning_rate=0.1, max_depth=3, min_samples_split=0.5, n_estimators=1000, subsample=1.0; total time=   2.1s\n",
      "[CV] END learning_rate=0.1, max_depth=3, min_samples_split=0.5, n_estimators=1500, subsample=0.9; total time=   2.7s\n",
      "[CV] END learning_rate=0.1, max_depth=3, min_samples_split=0.5, n_estimators=1500, subsample=1.0; total time=   2.6s\n",
      "[CV] END learning_rate=0.1, max_depth=5, min_samples_split=0.1, n_estimators=1000, subsample=0.9; total time=   3.3s\n",
      "[CV] END learning_rate=0.1, max_depth=5, min_samples_split=0.1, n_estimators=1000, subsample=1.0; total time=   3.0s\n",
      "[CV] END learning_rate=0.1, max_depth=5, min_samples_split=0.1, n_estimators=1500, subsample=0.9; total time=   3.6s\n",
      "[CV] END learning_rate=0.1, max_depth=5, min_samples_split=0.2, n_estimators=100, subsample=0.5; total time=   0.2s\n",
      "[CV] END learning_rate=0.1, max_depth=5, min_samples_split=0.2, n_estimators=100, subsample=0.5; total time=   0.2s\n",
      "[CV] END learning_rate=0.1, max_depth=5, min_samples_split=0.2, n_estimators=100, subsample=0.5; total time=   0.2s\n",
      "[CV] END learning_rate=0.1, max_depth=5, min_samples_split=0.2, n_estimators=100, subsample=0.5; total time=   0.2s\n",
      "[CV] END learning_rate=0.1, max_depth=5, min_samples_split=0.2, n_estimators=100, subsample=0.5; total time=   0.2s\n",
      "[CV] END learning_rate=0.1, max_depth=5, min_samples_split=0.2, n_estimators=100, subsample=0.9; total time=   0.3s\n",
      "[CV] END learning_rate=0.1, max_depth=5, min_samples_split=0.2, n_estimators=100, subsample=0.9; total time=   0.3s\n",
      "[CV] END learning_rate=0.1, max_depth=5, min_samples_split=0.2, n_estimators=100, subsample=1.0; total time=   0.3s\n",
      "[CV] END learning_rate=0.1, max_depth=5, min_samples_split=0.2, n_estimators=1000, subsample=0.5; total time=   2.3s\n",
      "[CV] END learning_rate=0.1, max_depth=5, min_samples_split=0.2, n_estimators=1000, subsample=0.9; total time=   2.7s\n",
      "[CV] END learning_rate=0.1, max_depth=5, min_samples_split=0.2, n_estimators=1500, subsample=0.5; total time=   2.8s\n",
      "[CV] END learning_rate=0.1, max_depth=5, min_samples_split=0.2, n_estimators=1500, subsample=1.0; total time=   4.2s\n",
      "[CV] END learning_rate=0.1, max_depth=5, min_samples_split=0.30000000000000004, n_estimators=100, subsample=1.0; total time=   0.3s\n",
      "[CV] END learning_rate=0.1, max_depth=5, min_samples_split=0.30000000000000004, n_estimators=1000, subsample=0.9; total time=   2.5s\n",
      "[CV] END learning_rate=0.1, max_depth=5, min_samples_split=0.30000000000000004, n_estimators=1000, subsample=1.0; total time=   2.4s\n",
      "[CV] END learning_rate=0.1, max_depth=5, min_samples_split=0.30000000000000004, n_estimators=1500, subsample=0.9; total time=   4.1s\n",
      "[CV] END learning_rate=0.1, max_depth=5, min_samples_split=0.30000000000000004, n_estimators=1500, subsample=1.0; total time=   4.0s\n",
      "[CV] END learning_rate=0.1, max_depth=5, min_samples_split=0.4, n_estimators=1000, subsample=1.0; total time=   2.2s\n",
      "[CV] END learning_rate=0.1, max_depth=5, min_samples_split=0.4, n_estimators=1500, subsample=0.9; total time=   3.7s\n",
      "[CV] END learning_rate=0.1, max_depth=5, min_samples_split=0.4, n_estimators=1500, subsample=1.0; total time=   3.7s\n",
      "[CV] END learning_rate=0.1, max_depth=5, min_samples_split=0.5, n_estimators=1000, subsample=1.0; total time=   1.9s\n",
      "[CV] END learning_rate=0.1, max_depth=5, min_samples_split=0.5, n_estimators=1500, subsample=0.5; total time=   1.4s\n"
     ]
    },
    {
     "name": "stdout",
     "output_type": "stream",
     "text": [
      "[CV] END learning_rate=0.01, max_depth=3, min_samples_split=0.1, n_estimators=100, subsample=0.5; total time=   0.2s\n",
      "[CV] END learning_rate=0.01, max_depth=3, min_samples_split=0.1, n_estimators=100, subsample=1.0; total time=   0.2s\n",
      "[CV] END learning_rate=0.01, max_depth=3, min_samples_split=0.1, n_estimators=1000, subsample=0.5; total time=   2.1s\n",
      "[CV] END learning_rate=0.01, max_depth=3, min_samples_split=0.1, n_estimators=1000, subsample=1.0; total time=   2.6s\n",
      "[CV] END learning_rate=0.01, max_depth=3, min_samples_split=0.1, n_estimators=1500, subsample=0.5; total time=   2.6s\n",
      "[CV] END learning_rate=0.01, max_depth=3, min_samples_split=0.1, n_estimators=1500, subsample=1.0; total time=   3.1s\n",
      "[CV] END learning_rate=0.01, max_depth=3, min_samples_split=0.2, n_estimators=1000, subsample=0.5; total time=   2.0s\n",
      "[CV] END learning_rate=0.01, max_depth=3, min_samples_split=0.2, n_estimators=1000, subsample=1.0; total time=   2.3s\n",
      "[CV] END learning_rate=0.01, max_depth=3, min_samples_split=0.2, n_estimators=1500, subsample=0.9; total time=   3.2s\n",
      "[CV] END learning_rate=0.01, max_depth=3, min_samples_split=0.2, n_estimators=1500, subsample=1.0; total time=   3.0s\n",
      "[CV] END learning_rate=0.01, max_depth=3, min_samples_split=0.30000000000000004, n_estimators=1000, subsample=0.9; total time=   2.4s\n",
      "[CV] END learning_rate=0.01, max_depth=3, min_samples_split=0.30000000000000004, n_estimators=1000, subsample=1.0; total time=   2.2s\n",
      "[CV] END learning_rate=0.01, max_depth=3, min_samples_split=0.30000000000000004, n_estimators=1500, subsample=0.9; total time=   3.0s\n",
      "[CV] END learning_rate=0.01, max_depth=3, min_samples_split=0.4, n_estimators=100, subsample=0.5; total time=   0.1s\n",
      "[CV] END learning_rate=0.01, max_depth=3, min_samples_split=0.4, n_estimators=100, subsample=0.5; total time=   0.1s\n",
      "[CV] END learning_rate=0.01, max_depth=3, min_samples_split=0.4, n_estimators=100, subsample=0.5; total time=   0.1s\n",
      "[CV] END learning_rate=0.01, max_depth=3, min_samples_split=0.4, n_estimators=100, subsample=0.5; total time=   0.1s\n",
      "[CV] END learning_rate=0.01, max_depth=3, min_samples_split=0.4, n_estimators=100, subsample=0.5; total time=   0.1s\n",
      "[CV] END learning_rate=0.01, max_depth=3, min_samples_split=0.4, n_estimators=100, subsample=0.9; total time=   0.2s\n",
      "[CV] END learning_rate=0.01, max_depth=3, min_samples_split=0.4, n_estimators=100, subsample=0.9; total time=   0.2s\n",
      "[CV] END learning_rate=0.01, max_depth=3, min_samples_split=0.4, n_estimators=100, subsample=0.9; total time=   0.2s\n",
      "[CV] END learning_rate=0.01, max_depth=3, min_samples_split=0.4, n_estimators=100, subsample=1.0; total time=   0.2s\n",
      "[CV] END learning_rate=0.01, max_depth=3, min_samples_split=0.4, n_estimators=1000, subsample=0.9; total time=   2.0s\n",
      "[CV] END learning_rate=0.01, max_depth=3, min_samples_split=0.4, n_estimators=1000, subsample=1.0; total time=   2.1s\n",
      "[CV] END learning_rate=0.01, max_depth=3, min_samples_split=0.4, n_estimators=1500, subsample=0.9; total time=   3.2s\n",
      "[CV] END learning_rate=0.01, max_depth=3, min_samples_split=0.4, n_estimators=1500, subsample=1.0; total time=   2.6s\n",
      "[CV] END learning_rate=0.01, max_depth=3, min_samples_split=0.5, n_estimators=1000, subsample=1.0; total time=   1.7s\n",
      "[CV] END learning_rate=0.01, max_depth=3, min_samples_split=0.5, n_estimators=1500, subsample=0.5; total time=   2.1s\n",
      "[CV] END learning_rate=0.01, max_depth=3, min_samples_split=0.5, n_estimators=1500, subsample=1.0; total time=   2.9s\n",
      "[CV] END learning_rate=0.01, max_depth=5, min_samples_split=0.1, n_estimators=100, subsample=1.0; total time=   0.3s\n",
      "[CV] END learning_rate=0.01, max_depth=5, min_samples_split=0.1, n_estimators=1000, subsample=0.5; total time=   2.2s\n",
      "[CV] END learning_rate=0.01, max_depth=5, min_samples_split=0.1, n_estimators=1000, subsample=0.9; total time=   3.3s\n",
      "[CV] END learning_rate=0.01, max_depth=5, min_samples_split=0.1, n_estimators=1500, subsample=0.5; total time=   4.3s\n",
      "[CV] END learning_rate=0.01, max_depth=5, min_samples_split=0.1, n_estimators=1500, subsample=1.0; total time=   4.5s\n",
      "[CV] END learning_rate=0.01, max_depth=5, min_samples_split=0.2, n_estimators=1000, subsample=0.5; total time=   2.0s\n",
      "[CV] END learning_rate=0.01, max_depth=5, min_samples_split=0.2, n_estimators=1000, subsample=0.9; total time=   3.1s\n",
      "[CV] END learning_rate=0.01, max_depth=5, min_samples_split=0.2, n_estimators=1500, subsample=0.5; total time=   2.9s\n",
      "[CV] END learning_rate=0.01, max_depth=5, min_samples_split=0.2, n_estimators=1500, subsample=1.0; total time=   4.1s\n",
      "[CV] END learning_rate=0.01, max_depth=5, min_samples_split=0.30000000000000004, n_estimators=100, subsample=0.9; total time=   0.3s\n",
      "[CV] END learning_rate=0.01, max_depth=5, min_samples_split=0.30000000000000004, n_estimators=1000, subsample=0.5; total time=   2.0s\n",
      "[CV] END learning_rate=0.01, max_depth=5, min_samples_split=0.30000000000000004, n_estimators=1000, subsample=1.0; total time=   2.6s\n",
      "[CV] END learning_rate=0.01, max_depth=5, min_samples_split=0.30000000000000004, n_estimators=1500, subsample=0.5; total time=   2.4s\n",
      "[CV] END learning_rate=0.01, max_depth=5, min_samples_split=0.30000000000000004, n_estimators=1500, subsample=0.9; total time=   3.8s\n",
      "[CV] END learning_rate=0.01, max_depth=5, min_samples_split=0.4, n_estimators=100, subsample=0.9; total time=   0.3s\n",
      "[CV] END learning_rate=0.01, max_depth=5, min_samples_split=0.4, n_estimators=100, subsample=1.0; total time=   0.2s\n",
      "[CV] END learning_rate=0.01, max_depth=5, min_samples_split=0.4, n_estimators=1000, subsample=0.5; total time=   1.7s\n",
      "[CV] END learning_rate=0.01, max_depth=5, min_samples_split=0.4, n_estimators=1000, subsample=0.9; total time=   2.2s\n",
      "[CV] END learning_rate=0.01, max_depth=5, min_samples_split=0.4, n_estimators=1500, subsample=0.5; total time=   2.1s\n",
      "[CV] END learning_rate=0.01, max_depth=5, min_samples_split=0.4, n_estimators=1500, subsample=1.0; total time=   3.5s\n",
      "[CV] END learning_rate=0.01, max_depth=5, min_samples_split=0.5, n_estimators=100, subsample=1.0; total time=   0.2s\n",
      "[CV] END learning_rate=0.01, max_depth=5, min_samples_split=0.5, n_estimators=1000, subsample=0.5; total time=   1.1s\n",
      "[CV] END learning_rate=0.01, max_depth=5, min_samples_split=0.5, n_estimators=1000, subsample=0.9; total time=   2.1s\n",
      "[CV] END learning_rate=0.01, max_depth=5, min_samples_split=0.5, n_estimators=1500, subsample=0.5; total time=   1.4s\n",
      "[CV] END learning_rate=0.01, max_depth=5, min_samples_split=0.5, n_estimators=1500, subsample=0.9; total time=   2.8s\n",
      "[CV] END learning_rate=0.01, max_depth=8, min_samples_split=0.1, n_estimators=100, subsample=0.5; total time=   0.3s\n",
      "[CV] END learning_rate=0.01, max_depth=8, min_samples_split=0.1, n_estimators=100, subsample=0.5; total time=   0.3s\n",
      "[CV] END learning_rate=0.01, max_depth=8, min_samples_split=0.1, n_estimators=100, subsample=0.9; total time=   0.4s\n",
      "[CV] END learning_rate=0.01, max_depth=8, min_samples_split=0.1, n_estimators=1000, subsample=0.5; total time=   3.2s\n",
      "[CV] END learning_rate=0.01, max_depth=8, min_samples_split=0.1, n_estimators=1000, subsample=0.9; total time=   4.1s\n",
      "[CV] END learning_rate=0.01, max_depth=8, min_samples_split=0.1, n_estimators=1500, subsample=0.5; total time=   4.2s\n",
      "[CV] END learning_rate=0.01, max_depth=8, min_samples_split=0.1, n_estimators=1500, subsample=1.0; total time=   6.6s\n",
      "[CV] END learning_rate=0.01, max_depth=8, min_samples_split=0.2, n_estimators=100, subsample=1.0; total time=   0.3s\n",
      "[CV] END learning_rate=0.01, max_depth=8, min_samples_split=0.2, n_estimators=1000, subsample=0.5; total time=   2.1s\n",
      "[CV] END learning_rate=0.01, max_depth=8, min_samples_split=0.2, n_estimators=1000, subsample=1.0; total time=   3.9s\n",
      "[CV] END learning_rate=0.01, max_depth=8, min_samples_split=0.2, n_estimators=1500, subsample=0.5; total time=   3.4s\n",
      "[CV] END learning_rate=0.01, max_depth=8, min_samples_split=0.2, n_estimators=1500, subsample=1.0; total time=   5.4s\n",
      "[CV] END learning_rate=0.01, max_depth=8, min_samples_split=0.30000000000000004, n_estimators=100, subsample=1.0; total time=   0.3s\n",
      "[CV] END learning_rate=0.01, max_depth=8, min_samples_split=0.30000000000000004, n_estimators=1000, subsample=0.9; total time=   3.0s\n",
      "[CV] END learning_rate=0.01, max_depth=8, min_samples_split=0.30000000000000004, n_estimators=1000, subsample=1.0; total time=   2.8s\n",
      "[CV] END learning_rate=0.01, max_depth=8, min_samples_split=0.30000000000000004, n_estimators=1500, subsample=0.9; total time=   4.7s\n",
      "[CV] END learning_rate=0.01, max_depth=8, min_samples_split=0.30000000000000004, n_estimators=1500, subsample=1.0; total time=   4.5s\n",
      "[CV] END learning_rate=0.01, max_depth=8, min_samples_split=0.4, n_estimators=1000, subsample=1.0; total time=   2.5s\n",
      "[CV] END learning_rate=0.01, max_depth=8, min_samples_split=0.4, n_estimators=1500, subsample=0.9; total time=   4.3s\n",
      "[CV] END learning_rate=0.01, max_depth=8, min_samples_split=0.4, n_estimators=1500, subsample=1.0; total time=   3.8s\n",
      "[CV] END learning_rate=0.01, max_depth=8, min_samples_split=0.5, n_estimators=1000, subsample=1.0; total time=   2.2s\n",
      "[CV] END learning_rate=0.01, max_depth=8, min_samples_split=0.5, n_estimators=1500, subsample=0.9; total time=   3.7s\n",
      "[CV] END learning_rate=0.1, max_depth=3, min_samples_split=0.1, n_estimators=100, subsample=0.5; total time=   0.2s\n",
      "[CV] END learning_rate=0.1, max_depth=3, min_samples_split=0.1, n_estimators=100, subsample=0.9; total time=   0.3s\n",
      "[CV] END learning_rate=0.1, max_depth=3, min_samples_split=0.1, n_estimators=100, subsample=1.0; total time=   0.2s\n",
      "[CV] END learning_rate=0.1, max_depth=3, min_samples_split=0.1, n_estimators=1000, subsample=0.5; total time=   1.7s\n",
      "[CV] END learning_rate=0.1, max_depth=3, min_samples_split=0.1, n_estimators=1000, subsample=0.9; total time=   2.1s\n",
      "[CV] END learning_rate=0.1, max_depth=3, min_samples_split=0.1, n_estimators=1500, subsample=0.5; total time=   2.6s\n",
      "[CV] END learning_rate=0.1, max_depth=3, min_samples_split=0.1, n_estimators=1500, subsample=1.0; total time=   3.5s\n",
      "[CV] END learning_rate=0.1, max_depth=3, min_samples_split=0.2, n_estimators=100, subsample=0.5; total time=   0.2s\n",
      "[CV] END learning_rate=0.1, max_depth=3, min_samples_split=0.2, n_estimators=100, subsample=0.9; total time=   0.2s\n",
      "[CV] END learning_rate=0.1, max_depth=3, min_samples_split=0.2, n_estimators=100, subsample=1.0; total time=   0.2s\n",
      "[CV] END learning_rate=0.1, max_depth=3, min_samples_split=0.2, n_estimators=1000, subsample=0.9; total time=   2.0s\n",
      "[CV] END learning_rate=0.1, max_depth=3, min_samples_split=0.2, n_estimators=1000, subsample=1.0; total time=   1.9s\n",
      "[CV] END learning_rate=0.1, max_depth=3, min_samples_split=0.2, n_estimators=1500, subsample=0.9; total time=   3.2s\n",
      "[CV] END learning_rate=0.1, max_depth=3, min_samples_split=0.2, n_estimators=1500, subsample=1.0; total time=   3.3s\n",
      "[CV] END learning_rate=0.1, max_depth=3, min_samples_split=0.30000000000000004, n_estimators=1000, subsample=0.9; total time=   1.9s\n",
      "[CV] END learning_rate=0.1, max_depth=3, min_samples_split=0.30000000000000004, n_estimators=1500, subsample=0.5; total time=   2.3s\n",
      "[CV] END learning_rate=0.1, max_depth=3, min_samples_split=0.30000000000000004, n_estimators=1500, subsample=0.9; total time=   3.1s\n",
      "[CV] END learning_rate=0.1, max_depth=3, min_samples_split=0.4, n_estimators=100, subsample=0.9; total time=   0.2s\n",
      "[CV] END learning_rate=0.1, max_depth=3, min_samples_split=0.4, n_estimators=100, subsample=0.9; total time=   0.2s\n",
      "[CV] END learning_rate=0.1, max_depth=3, min_samples_split=0.4, n_estimators=100, subsample=1.0; total time=   0.2s\n",
      "[CV] END learning_rate=0.1, max_depth=3, min_samples_split=0.4, n_estimators=1000, subsample=0.5; total time=   1.6s\n",
      "[CV] END learning_rate=0.1, max_depth=3, min_samples_split=0.4, n_estimators=1000, subsample=0.9; total time=   1.9s\n",
      "[CV] END learning_rate=0.1, max_depth=3, min_samples_split=0.4, n_estimators=1500, subsample=0.9; total time=   2.8s\n",
      "[CV] END learning_rate=0.1, max_depth=3, min_samples_split=0.4, n_estimators=1500, subsample=1.0; total time=   2.9s\n",
      "[CV] END learning_rate=0.1, max_depth=3, min_samples_split=0.5, n_estimators=1000, subsample=0.9; total time=   2.2s\n",
      "[CV] END learning_rate=0.1, max_depth=3, min_samples_split=0.5, n_estimators=1000, subsample=1.0; total time=   1.9s\n",
      "[CV] END learning_rate=0.1, max_depth=3, min_samples_split=0.5, n_estimators=1500, subsample=1.0; total time=   2.6s\n",
      "[CV] END learning_rate=0.1, max_depth=5, min_samples_split=0.1, n_estimators=100, subsample=0.5; total time=   0.2s\n",
      "[CV] END learning_rate=0.1, max_depth=5, min_samples_split=0.1, n_estimators=100, subsample=0.9; total time=   0.3s\n",
      "[CV] END learning_rate=0.1, max_depth=5, min_samples_split=0.1, n_estimators=100, subsample=1.0; total time=   0.4s\n",
      "[CV] END learning_rate=0.1, max_depth=5, min_samples_split=0.1, n_estimators=1000, subsample=0.5; total time=   2.3s\n",
      "[CV] END learning_rate=0.1, max_depth=5, min_samples_split=0.1, n_estimators=1000, subsample=1.0; total time=   3.4s\n",
      "[CV] END learning_rate=0.1, max_depth=5, min_samples_split=0.1, n_estimators=1500, subsample=0.5; total time=   3.2s\n",
      "[CV] END learning_rate=0.1, max_depth=5, min_samples_split=0.1, n_estimators=1500, subsample=1.0; total time=   3.6s\n",
      "[CV] END learning_rate=0.1, max_depth=5, min_samples_split=0.2, n_estimators=100, subsample=1.0; total time=   0.3s\n",
      "[CV] END learning_rate=0.1, max_depth=5, min_samples_split=0.2, n_estimators=1000, subsample=0.9; total time=   3.1s\n",
      "[CV] END learning_rate=0.1, max_depth=5, min_samples_split=0.2, n_estimators=1000, subsample=1.0; total time=   2.6s\n",
      "[CV] END learning_rate=0.1, max_depth=5, min_samples_split=0.2, n_estimators=1500, subsample=0.9; total time=   4.1s\n",
      "[CV] END learning_rate=0.1, max_depth=5, min_samples_split=0.2, n_estimators=1500, subsample=1.0; total time=   4.3s\n",
      "[CV] END learning_rate=0.1, max_depth=5, min_samples_split=0.30000000000000004, n_estimators=1000, subsample=1.0; total time=   2.3s\n",
      "[CV] END learning_rate=0.1, max_depth=5, min_samples_split=0.30000000000000004, n_estimators=1500, subsample=0.9; total time=   4.0s\n",
      "[CV] END learning_rate=0.1, max_depth=5, min_samples_split=0.30000000000000004, n_estimators=1500, subsample=1.0; total time=   4.1s\n",
      "[CV] END learning_rate=0.1, max_depth=5, min_samples_split=0.4, n_estimators=1000, subsample=0.9; total time=   2.2s\n",
      "[CV] END learning_rate=0.1, max_depth=5, min_samples_split=0.4, n_estimators=1000, subsample=1.0; total time=   2.3s\n",
      "[CV] END learning_rate=0.1, max_depth=5, min_samples_split=0.4, n_estimators=1500, subsample=0.9; total time=   3.9s\n",
      "[CV] END learning_rate=0.1, max_depth=5, min_samples_split=0.5, n_estimators=100, subsample=0.5; total time=   0.1s\n",
      "[CV] END learning_rate=0.1, max_depth=5, min_samples_split=0.5, n_estimators=100, subsample=0.9; total time=   0.2s\n",
      "[CV] END learning_rate=0.1, max_depth=5, min_samples_split=0.5, n_estimators=100, subsample=1.0; total time=   0.2s\n",
      "[CV] END learning_rate=0.1, max_depth=5, min_samples_split=0.5, n_estimators=1000, subsample=0.5; total time=   1.2s\n",
      "[CV] END learning_rate=0.1, max_depth=5, min_samples_split=0.5, n_estimators=1000, subsample=1.0; total time=   2.0s\n",
      "[CV] END learning_rate=0.1, max_depth=5, min_samples_split=0.5, n_estimators=1500, subsample=0.5; total time=   1.8s\n",
      "[CV] END learning_rate=0.1, max_depth=5, min_samples_split=0.5, n_estimators=1500, subsample=1.0; total time=   3.2s\n",
      "[CV] END learning_rate=0.1, max_depth=8, min_samples_split=0.1, n_estimators=100, subsample=1.0; total time=   0.5s\n",
      "[CV] END learning_rate=0.1, max_depth=8, min_samples_split=0.1, n_estimators=1000, subsample=0.5; total time=   2.9s\n",
      "[CV] END learning_rate=0.1, max_depth=8, min_samples_split=0.1, n_estimators=1000, subsample=1.0; total time=   2.8s\n",
      "[CV] END learning_rate=0.1, max_depth=8, min_samples_split=0.1, n_estimators=1500, subsample=0.9; total time=   3.6s\n",
      "[CV] END learning_rate=0.1, max_depth=8, min_samples_split=0.1, n_estimators=1500, subsample=0.9; total time=   3.6s\n",
      "[CV] END learning_rate=0.1, max_depth=8, min_samples_split=0.2, n_estimators=100, subsample=1.0; total time=   0.3s\n",
      "[CV] END learning_rate=0.1, max_depth=8, min_samples_split=0.2, n_estimators=1000, subsample=0.9; total time=   3.2s\n",
      "[CV] END learning_rate=0.1, max_depth=8, min_samples_split=0.2, n_estimators=1000, subsample=1.0; total time=   3.5s\n"
     ]
    }
   ],
   "source": [
    "xgb = GradientBoostingClassifier(random_state=1234)\n",
    "\n",
    "xgb_gscv = GridSearchCV(xgb, xgb_params,cv = 5,\n",
    "                    n_jobs = -1,\n",
    "                    verbose = 2).fit(x_train, y_train)\n",
    "\n",
    "\n"
   ]
  },
  {
   "cell_type": "code",
   "execution_count": 147,
   "id": "d271b650",
   "metadata": {
    "ExecuteTime": {
     "end_time": "2021-12-31T17:33:38.760842Z",
     "start_time": "2021-12-31T17:33:38.757941Z"
    }
   },
   "outputs": [
    {
     "name": "stdout",
     "output_type": "stream",
     "text": [
      "{'learning_rate': 0.01, 'max_depth': 5, 'min_samples_split': 0.1, 'n_estimators': 1000, 'subsample': 1.0}\n",
      "0.882713581234173\n"
     ]
    }
   ],
   "source": [
    "print(xgb_gscv.best_params_)\n",
    "print(xgb_gscv.best_score_)"
   ]
  },
  {
   "cell_type": "code",
   "execution_count": 148,
   "id": "639bd994",
   "metadata": {
    "ExecuteTime": {
     "end_time": "2021-12-31T17:34:03.274926Z",
     "start_time": "2021-12-31T17:33:45.207636Z"
    }
   },
   "outputs": [
    {
     "name": "stdout",
     "output_type": "stream",
     "text": [
      "[0.87096774 0.91935484 0.93548387 0.79032258 0.8852459  0.85245902\n",
      " 0.95081967 0.91803279 0.8852459  0.85245902] 0.886039132734003 0.04518865191240244\n"
     ]
    }
   ],
   "source": [
    "xgb_best = GradientBoostingClassifier(**xgb_gscv.best_params_,random_state=1234)\n",
    "\n",
    "\n",
    "xgb_best.fit(x_train,y_train)\n",
    "\n",
    "results_1 = cross_val_score(xgb_best, x_train, y_train, cv = 10)\n",
    "print(results_1,results_1.mean(),results_1.std())"
   ]
  },
  {
   "cell_type": "code",
   "execution_count": 149,
   "id": "61e13930",
   "metadata": {
    "ExecuteTime": {
     "end_time": "2021-12-31T17:34:07.023701Z",
     "start_time": "2021-12-31T17:34:06.780803Z"
    }
   },
   "outputs": [
    {
     "data": {
      "text/plain": [
       "<AxesSubplot:xlabel='importance', ylabel='features'>"
      ]
     },
     "execution_count": 149,
     "metadata": {},
     "output_type": "execute_result"
    },
    {
     "data": {
      "image/png": "[encoded data removed]",
      "text/plain": [
       "<Figure size 432x288 with 1 Axes>"
      ]
     },
     "metadata": {
      "needs_background": "light"
     },
     "output_type": "display_data"
    }
   ],
   "source": [
    "feature_importance_df = pd.DataFrame()\n",
    "feature_importance_df['features']=x_train.columns\n",
    "feature_importance_df['importance']=xgb_best.feature_importances_\n",
    "feature_importance_df.sort_values('importance',ascending=False,inplace=True)\n",
    "sns.barplot(x='importance',y='features',data = feature_importance_df)"
   ]
  },
  {
   "cell_type": "markdown",
   "id": "426f4f69",
   "metadata": {},
   "source": [
    "## lightgbm tuning"
   ]
  },
  {
   "cell_type": "code",
   "execution_count": 150,
   "id": "883772cd",
   "metadata": {
    "ExecuteTime": {
     "end_time": "2021-12-31T17:34:40.661905Z",
     "start_time": "2021-12-31T17:34:10.465700Z"
    }
   },
   "outputs": [
    {
     "name": "stdout",
     "output_type": "stream",
     "text": [
      "Fitting 10 folds for each of 36 candidates, totalling 360 fits\n"
     ]
    }
   ],
   "source": [
    "lgbm = LGBMClassifier(random_state = 1234)\n",
    "                      \n",
    "\n",
    "lgbm_params = {\"learning_rate\": [0.01, 0.03, 0.05, 0.1,], \"n_estimators\": [500, 1000, 1500],\n",
    "              \"max_depth\":[3,5,8]}\n",
    "\n",
    "lgbm_gs_cv = GridSearchCV(lgbm, \n",
    "                     lgbm_params, \n",
    "                     cv = 10, \n",
    "                     n_jobs = -1, \n",
    "                     verbose = 2).fit(x_train, y_train)"
   ]
  },
  {
   "cell_type": "code",
   "execution_count": 151,
   "id": "60e95350",
   "metadata": {
    "ExecuteTime": {
     "end_time": "2021-12-31T17:34:44.133067Z",
     "start_time": "2021-12-31T17:34:44.130005Z"
    }
   },
   "outputs": [
    {
     "name": "stdout",
     "output_type": "stream",
     "text": [
      "{'learning_rate': 0.01, 'max_depth': 3, 'n_estimators': 500}\n",
      "0.8876255949233209\n"
     ]
    }
   ],
   "source": [
    "print(lgbm_gs_cv.best_params_)\n",
    "print(lgbm_gs_cv.best_score_)"
   ]
  },
  {
   "cell_type": "code",
   "execution_count": 152,
   "id": "c201df97",
   "metadata": {
    "ExecuteTime": {
     "end_time": "2021-12-31T17:34:54.148680Z",
     "start_time": "2021-12-31T17:34:47.430016Z"
    }
   },
   "outputs": [
    {
     "name": "stdout",
     "output_type": "stream",
     "text": [
      "[0.85483871 0.9516129  0.91935484 0.74193548 0.90163934 0.85245902\n",
      " 0.90163934 0.90163934 0.8852459  0.81967213] 0.8730037017451083 0.05631419996131762\n"
     ]
    }
   ],
   "source": [
    "lgbm_best = GradientBoostingClassifier(**lgbm_gs_cv.best_params_).fit(x_train,y_train)\n",
    "\n",
    "results_2 = cross_val_score(lgbm_best, x_train, y_train, cv = 10)\n",
    "print(results_2,results_2.mean(),results_2.std())"
   ]
  },
  {
   "cell_type": "code",
   "execution_count": 153,
   "id": "1791b92a",
   "metadata": {
    "ExecuteTime": {
     "end_time": "2021-12-31T17:34:57.669775Z",
     "start_time": "2021-12-31T17:34:57.462573Z"
    }
   },
   "outputs": [
    {
     "data": {
      "text/plain": [
       "<AxesSubplot:xlabel='importance', ylabel='features'>"
      ]
     },
     "execution_count": 153,
     "metadata": {},
     "output_type": "execute_result"
    },
    {
     "data": {
      "image/png": "[encoded data removed]",
      "text/plain": [
       "<Figure size 432x288 with 1 Axes>"
      ]
     },
     "metadata": {
      "needs_background": "light"
     },
     "output_type": "display_data"
    }
   ],
   "source": [
    "feature_importance_df = pd.DataFrame()\n",
    "feature_importance_df['features']=x_train.columns\n",
    "feature_importance_df['importance']=lgbm_best.feature_importances_\n",
    "feature_importance_df.sort_values('importance',ascending=False,inplace=True)\n",
    "sns.barplot(x='importance',y='features',data = feature_importance_df)"
   ]
  },
  {
   "cell_type": "code",
   "execution_count": 154,
   "id": "353fec19",
   "metadata": {
    "ExecuteTime": {
     "end_time": "2021-12-31T17:35:01.111567Z",
     "start_time": "2021-12-31T17:35:00.972645Z"
    }
   },
   "outputs": [
    {
     "data": {
      "text/plain": [
       "<AxesSubplot:>"
      ]
     },
     "execution_count": 154,
     "metadata": {},
     "output_type": "execute_result"
    },
    {
     "data": {
      "image/png": "[encoded data removed]",
      "text/plain": [
       "<Figure size 864x576 with 1 Axes>"
      ]
     },
     "metadata": {
      "needs_background": "light"
     },
     "output_type": "display_data"
    }
   ],
   "source": [
    "tuned_results = pd.DataFrame(np.array([results,results_1,results_2]).transpose(),\n",
    "                             columns=['random_forest',\"GradientBoosting\",\"lightGBM\"])\n",
    "plt.figure(figsize=[12,8])\n",
    "sns.boxplot(data=tuned_results)\n",
    "                             "
   ]
  },
  {
   "cell_type": "markdown",
   "id": "8f97b601",
   "metadata": {},
   "source": [
    "will use random forest for the prediction."
   ]
  },
  {
   "cell_type": "markdown",
   "id": "fe8e4dd0",
   "metadata": {},
   "source": [
    "### model improvement after tuning"
   ]
  },
  {
   "cell_type": "code",
   "execution_count": 155,
   "id": "a0dbb748",
   "metadata": {
    "ExecuteTime": {
     "end_time": "2021-12-31T17:35:07.025212Z",
     "start_time": "2021-12-31T17:35:07.013029Z"
    }
   },
   "outputs": [
    {
     "data": {
      "text/html": [
       "<div>\n",
       "<style scoped>\n",
       "    .dataframe tbody tr th:only-of-type {\n",
       "        vertical-align: middle;\n",
       "    }\n",
       "\n",
       "    .dataframe tbody tr th {\n",
       "        vertical-align: top;\n",
       "    }\n",
       "\n",
       "    .dataframe thead th {\n",
       "        text-align: right;\n",
       "    }\n",
       "</style>\n",
       "<table border=\"1\" class=\"dataframe\">\n",
       "  <thead>\n",
       "    <tr style=\"text-align: right;\">\n",
       "      <th></th>\n",
       "      <th>RF</th>\n",
       "      <th>XGB</th>\n",
       "      <th>LightGBM</th>\n",
       "      <th>status</th>\n",
       "    </tr>\n",
       "  </thead>\n",
       "  <tbody>\n",
       "    <tr>\n",
       "      <th>0</th>\n",
       "      <td>0.922078</td>\n",
       "      <td>0.896104</td>\n",
       "      <td>0.883117</td>\n",
       "      <td>before_tuning</td>\n",
       "    </tr>\n",
       "    <tr>\n",
       "      <th>1</th>\n",
       "      <td>0.883117</td>\n",
       "      <td>0.844156</td>\n",
       "      <td>0.896104</td>\n",
       "      <td>before_tuning</td>\n",
       "    </tr>\n",
       "    <tr>\n",
       "      <th>2</th>\n",
       "      <td>0.831169</td>\n",
       "      <td>0.857143</td>\n",
       "      <td>0.831169</td>\n",
       "      <td>before_tuning</td>\n",
       "    </tr>\n",
       "    <tr>\n",
       "      <th>3</th>\n",
       "      <td>0.857143</td>\n",
       "      <td>0.844156</td>\n",
       "      <td>0.883117</td>\n",
       "      <td>before_tuning</td>\n",
       "    </tr>\n",
       "    <tr>\n",
       "      <th>4</th>\n",
       "      <td>0.844156</td>\n",
       "      <td>0.831169</td>\n",
       "      <td>0.831169</td>\n",
       "      <td>before_tuning</td>\n",
       "    </tr>\n",
       "    <tr>\n",
       "      <th>5</th>\n",
       "      <td>0.922078</td>\n",
       "      <td>0.883117</td>\n",
       "      <td>0.896104</td>\n",
       "      <td>before_tuning</td>\n",
       "    </tr>\n",
       "    <tr>\n",
       "      <th>6</th>\n",
       "      <td>0.883117</td>\n",
       "      <td>0.883117</td>\n",
       "      <td>0.896104</td>\n",
       "      <td>before_tuning</td>\n",
       "    </tr>\n",
       "    <tr>\n",
       "      <th>7</th>\n",
       "      <td>0.935065</td>\n",
       "      <td>0.909091</td>\n",
       "      <td>0.922078</td>\n",
       "      <td>before_tuning</td>\n",
       "    </tr>\n",
       "    <tr>\n",
       "      <th>8</th>\n",
       "      <td>0.894737</td>\n",
       "      <td>0.921053</td>\n",
       "      <td>0.934211</td>\n",
       "      <td>before_tuning</td>\n",
       "    </tr>\n",
       "    <tr>\n",
       "      <th>9</th>\n",
       "      <td>0.907895</td>\n",
       "      <td>0.921053</td>\n",
       "      <td>0.907895</td>\n",
       "      <td>before_tuning</td>\n",
       "    </tr>\n",
       "  </tbody>\n",
       "</table>\n",
       "</div>"
      ],
      "text/plain": [
       "         RF       XGB  LightGBM         status\n",
       "0  0.922078  0.896104  0.883117  before_tuning\n",
       "1  0.883117  0.844156  0.896104  before_tuning\n",
       "2  0.831169  0.857143  0.831169  before_tuning\n",
       "3  0.857143  0.844156  0.883117  before_tuning\n",
       "4  0.844156  0.831169  0.831169  before_tuning\n",
       "5  0.922078  0.883117  0.896104  before_tuning\n",
       "6  0.883117  0.883117  0.896104  before_tuning\n",
       "7  0.935065  0.909091  0.922078  before_tuning\n",
       "8  0.894737  0.921053  0.934211  before_tuning\n",
       "9  0.907895  0.921053  0.907895  before_tuning"
      ]
     },
     "execution_count": 155,
     "metadata": {},
     "output_type": "execute_result"
    }
   ],
   "source": [
    "results_before_tuning = results_df_i.copy()[['RF','XGB','LightGBM']]\n",
    "results_before_tuning['status'] = 'before_tuning'\n",
    "results_before_tuning"
   ]
  },
  {
   "cell_type": "code",
   "execution_count": 156,
   "id": "2d0889dd",
   "metadata": {
    "ExecuteTime": {
     "end_time": "2021-12-31T17:35:11.353057Z",
     "start_time": "2021-12-31T17:35:11.343202Z"
    }
   },
   "outputs": [
    {
     "data": {
      "text/html": [
       "<div>\n",
       "<style scoped>\n",
       "    .dataframe tbody tr th:only-of-type {\n",
       "        vertical-align: middle;\n",
       "    }\n",
       "\n",
       "    .dataframe tbody tr th {\n",
       "        vertical-align: top;\n",
       "    }\n",
       "\n",
       "    .dataframe thead th {\n",
       "        text-align: right;\n",
       "    }\n",
       "</style>\n",
       "<table border=\"1\" class=\"dataframe\">\n",
       "  <thead>\n",
       "    <tr style=\"text-align: right;\">\n",
       "      <th></th>\n",
       "      <th>random_forest</th>\n",
       "      <th>GradientBoosting</th>\n",
       "      <th>lightGBM</th>\n",
       "      <th>status</th>\n",
       "    </tr>\n",
       "  </thead>\n",
       "  <tbody>\n",
       "    <tr>\n",
       "      <th>0</th>\n",
       "      <td>0.887097</td>\n",
       "      <td>0.870968</td>\n",
       "      <td>0.854839</td>\n",
       "      <td>after_tuning</td>\n",
       "    </tr>\n",
       "    <tr>\n",
       "      <th>1</th>\n",
       "      <td>0.935484</td>\n",
       "      <td>0.919355</td>\n",
       "      <td>0.951613</td>\n",
       "      <td>after_tuning</td>\n",
       "    </tr>\n",
       "    <tr>\n",
       "      <th>2</th>\n",
       "      <td>0.951613</td>\n",
       "      <td>0.935484</td>\n",
       "      <td>0.919355</td>\n",
       "      <td>after_tuning</td>\n",
       "    </tr>\n",
       "    <tr>\n",
       "      <th>3</th>\n",
       "      <td>0.741935</td>\n",
       "      <td>0.790323</td>\n",
       "      <td>0.741935</td>\n",
       "      <td>after_tuning</td>\n",
       "    </tr>\n",
       "    <tr>\n",
       "      <th>4</th>\n",
       "      <td>0.868852</td>\n",
       "      <td>0.885246</td>\n",
       "      <td>0.901639</td>\n",
       "      <td>after_tuning</td>\n",
       "    </tr>\n",
       "    <tr>\n",
       "      <th>5</th>\n",
       "      <td>0.885246</td>\n",
       "      <td>0.852459</td>\n",
       "      <td>0.852459</td>\n",
       "      <td>after_tuning</td>\n",
       "    </tr>\n",
       "    <tr>\n",
       "      <th>6</th>\n",
       "      <td>0.934426</td>\n",
       "      <td>0.950820</td>\n",
       "      <td>0.901639</td>\n",
       "      <td>after_tuning</td>\n",
       "    </tr>\n",
       "    <tr>\n",
       "      <th>7</th>\n",
       "      <td>0.934426</td>\n",
       "      <td>0.918033</td>\n",
       "      <td>0.901639</td>\n",
       "      <td>after_tuning</td>\n",
       "    </tr>\n",
       "    <tr>\n",
       "      <th>8</th>\n",
       "      <td>0.868852</td>\n",
       "      <td>0.885246</td>\n",
       "      <td>0.885246</td>\n",
       "      <td>after_tuning</td>\n",
       "    </tr>\n",
       "    <tr>\n",
       "      <th>9</th>\n",
       "      <td>0.836066</td>\n",
       "      <td>0.852459</td>\n",
       "      <td>0.819672</td>\n",
       "      <td>after_tuning</td>\n",
       "    </tr>\n",
       "  </tbody>\n",
       "</table>\n",
       "</div>"
      ],
      "text/plain": [
       "   random_forest  GradientBoosting  lightGBM        status\n",
       "0       0.887097          0.870968  0.854839  after_tuning\n",
       "1       0.935484          0.919355  0.951613  after_tuning\n",
       "2       0.951613          0.935484  0.919355  after_tuning\n",
       "3       0.741935          0.790323  0.741935  after_tuning\n",
       "4       0.868852          0.885246  0.901639  after_tuning\n",
       "5       0.885246          0.852459  0.852459  after_tuning\n",
       "6       0.934426          0.950820  0.901639  after_tuning\n",
       "7       0.934426          0.918033  0.901639  after_tuning\n",
       "8       0.868852          0.885246  0.885246  after_tuning\n",
       "9       0.836066          0.852459  0.819672  after_tuning"
      ]
     },
     "execution_count": 156,
     "metadata": {},
     "output_type": "execute_result"
    }
   ],
   "source": [
    "comparison_df = tuned_results.copy()\n",
    "comparison_df['status']='after_tuning'\n",
    "comparison_df"
   ]
  },
  {
   "cell_type": "code",
   "execution_count": 157,
   "id": "cacf049a",
   "metadata": {
    "ExecuteTime": {
     "end_time": "2021-12-31T17:35:14.800381Z",
     "start_time": "2021-12-31T17:35:14.788406Z"
    }
   },
   "outputs": [
    {
     "data": {
      "text/html": [
       "<div>\n",
       "<style scoped>\n",
       "    .dataframe tbody tr th:only-of-type {\n",
       "        vertical-align: middle;\n",
       "    }\n",
       "\n",
       "    .dataframe tbody tr th {\n",
       "        vertical-align: top;\n",
       "    }\n",
       "\n",
       "    .dataframe thead th {\n",
       "        text-align: right;\n",
       "    }\n",
       "</style>\n",
       "<table border=\"1\" class=\"dataframe\">\n",
       "  <thead>\n",
       "    <tr style=\"text-align: right;\">\n",
       "      <th></th>\n",
       "      <th>random_forest</th>\n",
       "      <th>GradientBoosting</th>\n",
       "      <th>lightGBM</th>\n",
       "      <th>status</th>\n",
       "    </tr>\n",
       "  </thead>\n",
       "  <tbody>\n",
       "    <tr>\n",
       "      <th>0</th>\n",
       "      <td>0.887097</td>\n",
       "      <td>0.870968</td>\n",
       "      <td>0.854839</td>\n",
       "      <td>after_tuning</td>\n",
       "    </tr>\n",
       "    <tr>\n",
       "      <th>1</th>\n",
       "      <td>0.935484</td>\n",
       "      <td>0.919355</td>\n",
       "      <td>0.951613</td>\n",
       "      <td>after_tuning</td>\n",
       "    </tr>\n",
       "    <tr>\n",
       "      <th>2</th>\n",
       "      <td>0.951613</td>\n",
       "      <td>0.935484</td>\n",
       "      <td>0.919355</td>\n",
       "      <td>after_tuning</td>\n",
       "    </tr>\n",
       "    <tr>\n",
       "      <th>3</th>\n",
       "      <td>0.741935</td>\n",
       "      <td>0.790323</td>\n",
       "      <td>0.741935</td>\n",
       "      <td>after_tuning</td>\n",
       "    </tr>\n",
       "    <tr>\n",
       "      <th>4</th>\n",
       "      <td>0.868852</td>\n",
       "      <td>0.885246</td>\n",
       "      <td>0.901639</td>\n",
       "      <td>after_tuning</td>\n",
       "    </tr>\n",
       "    <tr>\n",
       "      <th>5</th>\n",
       "      <td>0.885246</td>\n",
       "      <td>0.852459</td>\n",
       "      <td>0.852459</td>\n",
       "      <td>after_tuning</td>\n",
       "    </tr>\n",
       "    <tr>\n",
       "      <th>6</th>\n",
       "      <td>0.934426</td>\n",
       "      <td>0.950820</td>\n",
       "      <td>0.901639</td>\n",
       "      <td>after_tuning</td>\n",
       "    </tr>\n",
       "    <tr>\n",
       "      <th>7</th>\n",
       "      <td>0.934426</td>\n",
       "      <td>0.918033</td>\n",
       "      <td>0.901639</td>\n",
       "      <td>after_tuning</td>\n",
       "    </tr>\n",
       "    <tr>\n",
       "      <th>8</th>\n",
       "      <td>0.868852</td>\n",
       "      <td>0.885246</td>\n",
       "      <td>0.885246</td>\n",
       "      <td>after_tuning</td>\n",
       "    </tr>\n",
       "    <tr>\n",
       "      <th>9</th>\n",
       "      <td>0.836066</td>\n",
       "      <td>0.852459</td>\n",
       "      <td>0.819672</td>\n",
       "      <td>after_tuning</td>\n",
       "    </tr>\n",
       "    <tr>\n",
       "      <th>0</th>\n",
       "      <td>0.922078</td>\n",
       "      <td>0.896104</td>\n",
       "      <td>0.883117</td>\n",
       "      <td>before_tuning</td>\n",
       "    </tr>\n",
       "    <tr>\n",
       "      <th>1</th>\n",
       "      <td>0.883117</td>\n",
       "      <td>0.844156</td>\n",
       "      <td>0.896104</td>\n",
       "      <td>before_tuning</td>\n",
       "    </tr>\n",
       "    <tr>\n",
       "      <th>2</th>\n",
       "      <td>0.831169</td>\n",
       "      <td>0.857143</td>\n",
       "      <td>0.831169</td>\n",
       "      <td>before_tuning</td>\n",
       "    </tr>\n",
       "    <tr>\n",
       "      <th>3</th>\n",
       "      <td>0.857143</td>\n",
       "      <td>0.844156</td>\n",
       "      <td>0.883117</td>\n",
       "      <td>before_tuning</td>\n",
       "    </tr>\n",
       "    <tr>\n",
       "      <th>4</th>\n",
       "      <td>0.844156</td>\n",
       "      <td>0.831169</td>\n",
       "      <td>0.831169</td>\n",
       "      <td>before_tuning</td>\n",
       "    </tr>\n",
       "    <tr>\n",
       "      <th>5</th>\n",
       "      <td>0.922078</td>\n",
       "      <td>0.883117</td>\n",
       "      <td>0.896104</td>\n",
       "      <td>before_tuning</td>\n",
       "    </tr>\n",
       "    <tr>\n",
       "      <th>6</th>\n",
       "      <td>0.883117</td>\n",
       "      <td>0.883117</td>\n",
       "      <td>0.896104</td>\n",
       "      <td>before_tuning</td>\n",
       "    </tr>\n",
       "    <tr>\n",
       "      <th>7</th>\n",
       "      <td>0.935065</td>\n",
       "      <td>0.909091</td>\n",
       "      <td>0.922078</td>\n",
       "      <td>before_tuning</td>\n",
       "    </tr>\n",
       "    <tr>\n",
       "      <th>8</th>\n",
       "      <td>0.894737</td>\n",
       "      <td>0.921053</td>\n",
       "      <td>0.934211</td>\n",
       "      <td>before_tuning</td>\n",
       "    </tr>\n",
       "    <tr>\n",
       "      <th>9</th>\n",
       "      <td>0.907895</td>\n",
       "      <td>0.921053</td>\n",
       "      <td>0.907895</td>\n",
       "      <td>before_tuning</td>\n",
       "    </tr>\n",
       "  </tbody>\n",
       "</table>\n",
       "</div>"
      ],
      "text/plain": [
       "   random_forest  GradientBoosting  lightGBM         status\n",
       "0       0.887097          0.870968  0.854839   after_tuning\n",
       "1       0.935484          0.919355  0.951613   after_tuning\n",
       "2       0.951613          0.935484  0.919355   after_tuning\n",
       "3       0.741935          0.790323  0.741935   after_tuning\n",
       "4       0.868852          0.885246  0.901639   after_tuning\n",
       "5       0.885246          0.852459  0.852459   after_tuning\n",
       "6       0.934426          0.950820  0.901639   after_tuning\n",
       "7       0.934426          0.918033  0.901639   after_tuning\n",
       "8       0.868852          0.885246  0.885246   after_tuning\n",
       "9       0.836066          0.852459  0.819672   after_tuning\n",
       "0       0.922078          0.896104  0.883117  before_tuning\n",
       "1       0.883117          0.844156  0.896104  before_tuning\n",
       "2       0.831169          0.857143  0.831169  before_tuning\n",
       "3       0.857143          0.844156  0.883117  before_tuning\n",
       "4       0.844156          0.831169  0.831169  before_tuning\n",
       "5       0.922078          0.883117  0.896104  before_tuning\n",
       "6       0.883117          0.883117  0.896104  before_tuning\n",
       "7       0.935065          0.909091  0.922078  before_tuning\n",
       "8       0.894737          0.921053  0.934211  before_tuning\n",
       "9       0.907895          0.921053  0.907895  before_tuning"
      ]
     },
     "execution_count": 157,
     "metadata": {},
     "output_type": "execute_result"
    }
   ],
   "source": [
    "results_before_tuning.columns = comparison_df.columns\n",
    "comparison_df_i = pd.concat([comparison_df,results_before_tuning])\n",
    "# results_before_tuning\n",
    "comparison_df_i"
   ]
  },
  {
   "cell_type": "code",
   "execution_count": 158,
   "id": "4310197f",
   "metadata": {
    "ExecuteTime": {
     "end_time": "2021-12-31T17:35:18.523456Z",
     "start_time": "2021-12-31T17:35:18.259049Z"
    }
   },
   "outputs": [
    {
     "data": {
      "text/plain": [
       "<AxesSubplot:xlabel='variable', ylabel='value'>"
      ]
     },
     "execution_count": 158,
     "metadata": {},
     "output_type": "execute_result"
    },
    {
     "data": {
      "image/png": "[encoded data removed]",
      "text/plain": [
       "<Figure size 864x576 with 1 Axes>"
      ]
     },
     "metadata": {
      "needs_background": "light"
     },
     "output_type": "display_data"
    }
   ],
   "source": [
    "plt.figure(figsize=[12,8])\n",
    "sns.boxplot(data=comparison_df_i.melt(id_vars='status'),x='variable',y='value',hue='status')"
   ]
  },
  {
   "cell_type": "markdown",
   "id": "503c7ec1",
   "metadata": {},
   "source": [
    "# validation"
   ]
  },
  {
   "cell_type": "code",
   "execution_count": 159,
   "id": "2445fe7c",
   "metadata": {
    "ExecuteTime": {
     "end_time": "2021-12-31T17:35:25.627162Z",
     "start_time": "2021-12-31T17:35:25.423084Z"
    },
    "scrolled": false
   },
   "outputs": [
    {
     "name": "stdout",
     "output_type": "stream",
     "text": [
      "rf_tuned \n",
      "               precision    recall  f1-score   support\n",
      "\n",
      "           0       0.92      0.94      0.93        99\n",
      "           1       0.89      0.85      0.87        55\n",
      "\n",
      "    accuracy                           0.91       154\n",
      "   macro avg       0.90      0.90      0.90       154\n",
      "weighted avg       0.91      0.91      0.91       154\n",
      "\n",
      "xgb_best \n",
      "               precision    recall  f1-score   support\n",
      "\n",
      "           0       0.93      0.93      0.93        99\n",
      "           1       0.87      0.87      0.87        55\n",
      "\n",
      "    accuracy                           0.91       154\n",
      "   macro avg       0.90      0.90      0.90       154\n",
      "weighted avg       0.91      0.91      0.91       154\n",
      "\n",
      "lgbm_best \n",
      "               precision    recall  f1-score   support\n",
      "\n",
      "           0       0.93      0.95      0.94        99\n",
      "           1       0.91      0.87      0.89        55\n",
      "\n",
      "    accuracy                           0.92       154\n",
      "   macro avg       0.92      0.91      0.91       154\n",
      "weighted avg       0.92      0.92      0.92       154\n",
      "\n"
     ]
    }
   ],
   "source": [
    "print(\"rf_tuned \\n\",classification_report(y_test,rf_tuned.predict(x_test)))\n",
    "print(\"xgb_best \\n\",classification_report(y_test,xgb_best.predict(x_test)))\n",
    "print(\"lgbm_best \\n\",classification_report(y_test,lgbm_best.predict(x_test)))"
   ]
  },
  {
   "cell_type": "markdown",
   "id": "77495827",
   "metadata": {},
   "source": [
    "# results for scaled data"
   ]
  },
  {
   "cell_type": "code",
   "execution_count": 160,
   "id": "67c3d7e6",
   "metadata": {
    "ExecuteTime": {
     "end_time": "2021-12-31T17:35:29.003539Z",
     "start_time": "2021-12-31T17:35:28.986745Z"
    }
   },
   "outputs": [
    {
     "data": {
      "text/html": [
       "<div>\n",
       "<style scoped>\n",
       "    .dataframe tbody tr th:only-of-type {\n",
       "        vertical-align: middle;\n",
       "    }\n",
       "\n",
       "    .dataframe tbody tr th {\n",
       "        vertical-align: top;\n",
       "    }\n",
       "\n",
       "    .dataframe thead th {\n",
       "        text-align: right;\n",
       "    }\n",
       "</style>\n",
       "<table border=\"1\" class=\"dataframe\">\n",
       "  <thead>\n",
       "    <tr style=\"text-align: right;\">\n",
       "      <th></th>\n",
       "      <th>Pregnancies</th>\n",
       "      <th>Glucose</th>\n",
       "      <th>BloodPressure</th>\n",
       "      <th>SkinThickness</th>\n",
       "      <th>Insulin</th>\n",
       "      <th>BMI</th>\n",
       "      <th>DiabetesPedigreeFunction</th>\n",
       "      <th>Age</th>\n",
       "      <th>Insulin_class_High</th>\n",
       "      <th>Insulin_class_Low</th>\n",
       "      <th>Insulin_class_Normal</th>\n",
       "    </tr>\n",
       "  </thead>\n",
       "  <tbody>\n",
       "    <tr>\n",
       "      <th>0</th>\n",
       "      <td>6</td>\n",
       "      <td>148.0</td>\n",
       "      <td>72.0</td>\n",
       "      <td>35.0</td>\n",
       "      <td>169.5</td>\n",
       "      <td>33.6</td>\n",
       "      <td>0.627</td>\n",
       "      <td>50</td>\n",
       "      <td>1</td>\n",
       "      <td>0</td>\n",
       "      <td>0</td>\n",
       "    </tr>\n",
       "    <tr>\n",
       "      <th>1</th>\n",
       "      <td>1</td>\n",
       "      <td>85.0</td>\n",
       "      <td>66.0</td>\n",
       "      <td>29.0</td>\n",
       "      <td>102.5</td>\n",
       "      <td>26.6</td>\n",
       "      <td>0.351</td>\n",
       "      <td>31</td>\n",
       "      <td>0</td>\n",
       "      <td>0</td>\n",
       "      <td>1</td>\n",
       "    </tr>\n",
       "    <tr>\n",
       "      <th>2</th>\n",
       "      <td>8</td>\n",
       "      <td>183.0</td>\n",
       "      <td>64.0</td>\n",
       "      <td>32.0</td>\n",
       "      <td>169.5</td>\n",
       "      <td>23.3</td>\n",
       "      <td>0.672</td>\n",
       "      <td>32</td>\n",
       "      <td>1</td>\n",
       "      <td>0</td>\n",
       "      <td>0</td>\n",
       "    </tr>\n",
       "    <tr>\n",
       "      <th>3</th>\n",
       "      <td>1</td>\n",
       "      <td>89.0</td>\n",
       "      <td>66.0</td>\n",
       "      <td>23.0</td>\n",
       "      <td>94.0</td>\n",
       "      <td>28.1</td>\n",
       "      <td>0.167</td>\n",
       "      <td>21</td>\n",
       "      <td>0</td>\n",
       "      <td>0</td>\n",
       "      <td>1</td>\n",
       "    </tr>\n",
       "    <tr>\n",
       "      <th>4</th>\n",
       "      <td>0</td>\n",
       "      <td>137.0</td>\n",
       "      <td>40.0</td>\n",
       "      <td>35.0</td>\n",
       "      <td>168.0</td>\n",
       "      <td>43.1</td>\n",
       "      <td>2.288</td>\n",
       "      <td>33</td>\n",
       "      <td>1</td>\n",
       "      <td>0</td>\n",
       "      <td>0</td>\n",
       "    </tr>\n",
       "  </tbody>\n",
       "</table>\n",
       "</div>"
      ],
      "text/plain": [
       "   Pregnancies  Glucose  BloodPressure  SkinThickness  Insulin   BMI  \\\n",
       "0            6    148.0           72.0           35.0    169.5  33.6   \n",
       "1            1     85.0           66.0           29.0    102.5  26.6   \n",
       "2            8    183.0           64.0           32.0    169.5  23.3   \n",
       "3            1     89.0           66.0           23.0     94.0  28.1   \n",
       "4            0    137.0           40.0           35.0    168.0  43.1   \n",
       "\n",
       "   DiabetesPedigreeFunction  Age  Insulin_class_High  Insulin_class_Low  \\\n",
       "0                     0.627   50                   1                  0   \n",
       "1                     0.351   31                   0                  0   \n",
       "2                     0.672   32                   1                  0   \n",
       "3                     0.167   21                   0                  0   \n",
       "4                     2.288   33                   1                  0   \n",
       "\n",
       "   Insulin_class_Normal  \n",
       "0                     0  \n",
       "1                     1  \n",
       "2                     0  \n",
       "3                     1  \n",
       "4                     0  "
      ]
     },
     "execution_count": 160,
     "metadata": {},
     "output_type": "execute_result"
    }
   ],
   "source": [
    "x.head()"
   ]
  },
  {
   "cell_type": "code",
   "execution_count": 161,
   "id": "2d9bd117",
   "metadata": {
    "ExecuteTime": {
     "end_time": "2021-12-31T17:35:32.292381Z",
     "start_time": "2021-12-31T17:35:32.288057Z"
    }
   },
   "outputs": [
    {
     "data": {
      "text/plain": [
       "Index(['Pregnancies', 'Glucose', 'BloodPressure', 'SkinThickness', 'Insulin',\n",
       "       'BMI', 'DiabetesPedigreeFunction', 'Age', 'Insulin_class_High',\n",
       "       'Insulin_class_Low', 'Insulin_class_Normal'],\n",
       "      dtype='object')"
      ]
     },
     "execution_count": 161,
     "metadata": {},
     "output_type": "execute_result"
    }
   ],
   "source": [
    "x.columns"
   ]
  },
  {
   "cell_type": "code",
   "execution_count": 162,
   "id": "7e40d6f0",
   "metadata": {
    "ExecuteTime": {
     "end_time": "2021-12-31T17:35:35.551309Z",
     "start_time": "2021-12-31T17:35:35.548464Z"
    }
   },
   "outputs": [],
   "source": [
    "col_list1 = ['Pregnancies', 'Glucose', 'BloodPressure', 'SkinThickness', 'Insulin',\n",
    "       'BMI', 'DiabetesPedigreeFunction', 'Age',]"
   ]
  },
  {
   "cell_type": "code",
   "execution_count": 163,
   "id": "d4f003c6",
   "metadata": {
    "ExecuteTime": {
     "end_time": "2021-12-31T17:35:38.918014Z",
     "start_time": "2021-12-31T17:35:38.915215Z"
    }
   },
   "outputs": [],
   "source": [
    "from sklearn.preprocessing import RobustScaler"
   ]
  },
  {
   "cell_type": "code",
   "execution_count": 164,
   "id": "96efa3b0",
   "metadata": {
    "ExecuteTime": {
     "end_time": "2021-12-31T17:35:42.207079Z",
     "start_time": "2021-12-31T17:35:42.203810Z"
    }
   },
   "outputs": [],
   "source": [
    "scaler = RobustScaler()"
   ]
  },
  {
   "cell_type": "code",
   "execution_count": 165,
   "id": "e702f536",
   "metadata": {
    "ExecuteTime": {
     "end_time": "2021-12-31T17:35:45.393184Z",
     "start_time": "2021-12-31T17:35:45.390172Z"
    }
   },
   "outputs": [],
   "source": [
    "x2 = x.copy()"
   ]
  },
  {
   "cell_type": "code",
   "execution_count": 166,
   "id": "3bef1fcc",
   "metadata": {
    "ExecuteTime": {
     "end_time": "2021-12-31T17:35:48.720864Z",
     "start_time": "2021-12-31T17:35:48.709524Z"
    }
   },
   "outputs": [],
   "source": [
    "x2[col_list1] = scaler.fit_transform(x[col_list1])"
   ]
  },
  {
   "cell_type": "code",
   "execution_count": 167,
   "id": "36249160",
   "metadata": {
    "ExecuteTime": {
     "end_time": "2021-12-31T17:35:52.005310Z",
     "start_time": "2021-12-31T17:35:51.985436Z"
    }
   },
   "outputs": [
    {
     "data": {
      "text/html": [
       "<div>\n",
       "<style scoped>\n",
       "    .dataframe tbody tr th:only-of-type {\n",
       "        vertical-align: middle;\n",
       "    }\n",
       "\n",
       "    .dataframe tbody tr th {\n",
       "        vertical-align: top;\n",
       "    }\n",
       "\n",
       "    .dataframe thead th {\n",
       "        text-align: right;\n",
       "    }\n",
       "</style>\n",
       "<table border=\"1\" class=\"dataframe\">\n",
       "  <thead>\n",
       "    <tr style=\"text-align: right;\">\n",
       "      <th></th>\n",
       "      <th>Pregnancies</th>\n",
       "      <th>Glucose</th>\n",
       "      <th>BloodPressure</th>\n",
       "      <th>SkinThickness</th>\n",
       "      <th>Insulin</th>\n",
       "      <th>BMI</th>\n",
       "      <th>DiabetesPedigreeFunction</th>\n",
       "      <th>Age</th>\n",
       "      <th>Insulin_class_High</th>\n",
       "      <th>Insulin_class_Low</th>\n",
       "      <th>Insulin_class_Normal</th>\n",
       "    </tr>\n",
       "  </thead>\n",
       "  <tbody>\n",
       "    <tr>\n",
       "      <th>0</th>\n",
       "      <td>0.6</td>\n",
       "      <td>0.765432</td>\n",
       "      <td>0.000</td>\n",
       "      <td>1.000000</td>\n",
       "      <td>1.000000</td>\n",
       "      <td>0.170330</td>\n",
       "      <td>0.665359</td>\n",
       "      <td>1.235294</td>\n",
       "      <td>1</td>\n",
       "      <td>0</td>\n",
       "      <td>0</td>\n",
       "    </tr>\n",
       "    <tr>\n",
       "      <th>1</th>\n",
       "      <td>-0.4</td>\n",
       "      <td>-0.790123</td>\n",
       "      <td>-0.375</td>\n",
       "      <td>0.142857</td>\n",
       "      <td>0.000000</td>\n",
       "      <td>-0.598901</td>\n",
       "      <td>-0.056209</td>\n",
       "      <td>0.117647</td>\n",
       "      <td>0</td>\n",
       "      <td>0</td>\n",
       "      <td>1</td>\n",
       "    </tr>\n",
       "    <tr>\n",
       "      <th>2</th>\n",
       "      <td>1.0</td>\n",
       "      <td>1.629630</td>\n",
       "      <td>-0.500</td>\n",
       "      <td>0.571429</td>\n",
       "      <td>1.000000</td>\n",
       "      <td>-0.961538</td>\n",
       "      <td>0.783007</td>\n",
       "      <td>0.176471</td>\n",
       "      <td>1</td>\n",
       "      <td>0</td>\n",
       "      <td>0</td>\n",
       "    </tr>\n",
       "    <tr>\n",
       "      <th>3</th>\n",
       "      <td>-0.4</td>\n",
       "      <td>-0.691358</td>\n",
       "      <td>-0.375</td>\n",
       "      <td>-0.714286</td>\n",
       "      <td>-0.126866</td>\n",
       "      <td>-0.434066</td>\n",
       "      <td>-0.537255</td>\n",
       "      <td>-0.470588</td>\n",
       "      <td>0</td>\n",
       "      <td>0</td>\n",
       "      <td>1</td>\n",
       "    </tr>\n",
       "    <tr>\n",
       "      <th>4</th>\n",
       "      <td>-0.6</td>\n",
       "      <td>0.493827</td>\n",
       "      <td>-2.000</td>\n",
       "      <td>1.000000</td>\n",
       "      <td>0.977612</td>\n",
       "      <td>1.214286</td>\n",
       "      <td>5.007843</td>\n",
       "      <td>0.235294</td>\n",
       "      <td>1</td>\n",
       "      <td>0</td>\n",
       "      <td>0</td>\n",
       "    </tr>\n",
       "    <tr>\n",
       "      <th>...</th>\n",
       "      <td>...</td>\n",
       "      <td>...</td>\n",
       "      <td>...</td>\n",
       "      <td>...</td>\n",
       "      <td>...</td>\n",
       "      <td>...</td>\n",
       "      <td>...</td>\n",
       "      <td>...</td>\n",
       "      <td>...</td>\n",
       "      <td>...</td>\n",
       "      <td>...</td>\n",
       "    </tr>\n",
       "    <tr>\n",
       "      <th>763</th>\n",
       "      <td>1.4</td>\n",
       "      <td>-0.395062</td>\n",
       "      <td>0.250</td>\n",
       "      <td>2.857143</td>\n",
       "      <td>1.156716</td>\n",
       "      <td>0.093407</td>\n",
       "      <td>-0.526797</td>\n",
       "      <td>2.000000</td>\n",
       "      <td>1</td>\n",
       "      <td>0</td>\n",
       "      <td>0</td>\n",
       "    </tr>\n",
       "    <tr>\n",
       "      <th>764</th>\n",
       "      <td>-0.2</td>\n",
       "      <td>0.123457</td>\n",
       "      <td>-0.125</td>\n",
       "      <td>-0.142857</td>\n",
       "      <td>0.000000</td>\n",
       "      <td>0.521978</td>\n",
       "      <td>-0.084967</td>\n",
       "      <td>-0.117647</td>\n",
       "      <td>0</td>\n",
       "      <td>0</td>\n",
       "      <td>1</td>\n",
       "    </tr>\n",
       "    <tr>\n",
       "      <th>765</th>\n",
       "      <td>0.4</td>\n",
       "      <td>0.098765</td>\n",
       "      <td>0.000</td>\n",
       "      <td>-0.714286</td>\n",
       "      <td>0.141791</td>\n",
       "      <td>-0.642857</td>\n",
       "      <td>-0.333333</td>\n",
       "      <td>0.058824</td>\n",
       "      <td>0</td>\n",
       "      <td>0</td>\n",
       "      <td>1</td>\n",
       "    </tr>\n",
       "    <tr>\n",
       "      <th>766</th>\n",
       "      <td>-0.4</td>\n",
       "      <td>0.222222</td>\n",
       "      <td>-0.750</td>\n",
       "      <td>0.571429</td>\n",
       "      <td>1.000000</td>\n",
       "      <td>-0.214286</td>\n",
       "      <td>-0.061438</td>\n",
       "      <td>1.058824</td>\n",
       "      <td>1</td>\n",
       "      <td>0</td>\n",
       "      <td>0</td>\n",
       "    </tr>\n",
       "    <tr>\n",
       "      <th>767</th>\n",
       "      <td>-0.4</td>\n",
       "      <td>-0.592593</td>\n",
       "      <td>-0.125</td>\n",
       "      <td>0.428571</td>\n",
       "      <td>0.000000</td>\n",
       "      <td>-0.181319</td>\n",
       "      <td>-0.150327</td>\n",
       "      <td>-0.352941</td>\n",
       "      <td>0</td>\n",
       "      <td>0</td>\n",
       "      <td>1</td>\n",
       "    </tr>\n",
       "  </tbody>\n",
       "</table>\n",
       "<p>768 rows × 11 columns</p>\n",
       "</div>"
      ],
      "text/plain": [
       "     Pregnancies   Glucose  BloodPressure  SkinThickness   Insulin       BMI  \\\n",
       "0            0.6  0.765432          0.000       1.000000  1.000000  0.170330   \n",
       "1           -0.4 -0.790123         -0.375       0.142857  0.000000 -0.598901   \n",
       "2            1.0  1.629630         -0.500       0.571429  1.000000 -0.961538   \n",
       "3           -0.4 -0.691358         -0.375      -0.714286 -0.126866 -0.434066   \n",
       "4           -0.6  0.493827         -2.000       1.000000  0.977612  1.214286   \n",
       "..           ...       ...            ...            ...       ...       ...   \n",
       "763          1.4 -0.395062          0.250       2.857143  1.156716  0.093407   \n",
       "764         -0.2  0.123457         -0.125      -0.142857  0.000000  0.521978   \n",
       "765          0.4  0.098765          0.000      -0.714286  0.141791 -0.642857   \n",
       "766         -0.4  0.222222         -0.750       0.571429  1.000000 -0.214286   \n",
       "767         -0.4 -0.592593         -0.125       0.428571  0.000000 -0.181319   \n",
       "\n",
       "     DiabetesPedigreeFunction       Age  Insulin_class_High  \\\n",
       "0                    0.665359  1.235294                   1   \n",
       "1                   -0.056209  0.117647                   0   \n",
       "2                    0.783007  0.176471                   1   \n",
       "3                   -0.537255 -0.470588                   0   \n",
       "4                    5.007843  0.235294                   1   \n",
       "..                        ...       ...                 ...   \n",
       "763                 -0.526797  2.000000                   1   \n",
       "764                 -0.084967 -0.117647                   0   \n",
       "765                 -0.333333  0.058824                   0   \n",
       "766                 -0.061438  1.058824                   1   \n",
       "767                 -0.150327 -0.352941                   0   \n",
       "\n",
       "     Insulin_class_Low  Insulin_class_Normal  \n",
       "0                    0                     0  \n",
       "1                    0                     1  \n",
       "2                    0                     0  \n",
       "3                    0                     1  \n",
       "4                    0                     0  \n",
       "..                 ...                   ...  \n",
       "763                  0                     0  \n",
       "764                  0                     1  \n",
       "765                  0                     1  \n",
       "766                  0                     0  \n",
       "767                  0                     1  \n",
       "\n",
       "[768 rows x 11 columns]"
      ]
     },
     "execution_count": 167,
     "metadata": {},
     "output_type": "execute_result"
    }
   ],
   "source": [
    "x2."
   ]
  },
  {
   "cell_type": "markdown",
   "id": "f60317d2",
   "metadata": {},
   "source": [
    "## models"
   ]
  },
  {
   "cell_type": "code",
   "execution_count": 58,
   "id": "2db3e2c8",
   "metadata": {
    "ExecuteTime": {
     "end_time": "2021-12-30T18:47:30.008899Z",
     "start_time": "2021-12-30T18:47:29.998340Z"
    }
   },
   "outputs": [
    {
     "data": {
      "text/plain": [
       "[('LR',\n",
       "  LogisticRegression(max_iter=1000, random_state=1234, solver='liblinear')),\n",
       " ('KNN', KNeighborsClassifier()),\n",
       " ('CART', DecisionTreeClassifier(random_state=1234)),\n",
       " ('RF', RandomForestClassifier(random_state=1234)),\n",
       " ('SVM', SVC(gamma='auto', random_state=1234)),\n",
       " ('XGB', GradientBoostingClassifier(random_state=1234)),\n",
       " ('LightGBM', LGBMClassifier(random_state=1234))]"
      ]
     },
     "execution_count": 58,
     "metadata": {},
     "output_type": "execute_result"
    }
   ],
   "source": [
    "models_sc = []\n",
    "random_state = 1234\n",
    "models_sc.append(('LR', LogisticRegression(random_state = random_state,solver='liblinear',max_iter=1000)))\n",
    "models_sc.append(('KNN', KNeighborsClassifier()))\n",
    "models_sc.append(('CART', DecisionTreeClassifier(random_state = random_state)))\n",
    "models_sc.append(('RF', RandomForestClassifier(random_state = random_state)))\n",
    "models_sc.append(('SVM', SVC(gamma='auto', random_state = random_state)))\n",
    "models_sc.append(('XGB', GradientBoostingClassifier(random_state = random_state)))\n",
    "models_sc.append((\"LightGBM\", LGBMClassifier(random_state = random_state)))\n",
    "\n",
    "models_sc"
   ]
  },
  {
   "cell_type": "code",
   "execution_count": 73,
   "id": "3cfbe6b3",
   "metadata": {
    "ExecuteTime": {
     "end_time": "2021-12-30T19:05:08.868611Z",
     "start_time": "2021-12-30T19:05:04.266537Z"
    }
   },
   "outputs": [
    {
     "name": "stdout",
     "output_type": "stream",
     "text": [
      "name : LR\n",
      "model : LogisticRegression(max_iter=1000, random_state=1234, solver='liblinear')\n",
      "[0.87012987 0.85714286 0.80519481 0.85714286 0.87012987 0.8961039\n",
      " 0.81818182 0.87012987 0.78947368 0.84210526] \n",
      "\n",
      "LR: 0.847573 (0.031828)\n",
      "name : KNN\n",
      "model : KNeighborsClassifier()\n",
      "[0.87012987 0.85714286 0.83116883 0.88311688 0.83116883 0.87012987\n",
      " 0.81818182 0.88311688 0.82894737 0.85526316] \n",
      "\n",
      "KNN: 0.852837 (0.022731)\n",
      "name : CART\n",
      "model : DecisionTreeClassifier(random_state=1234)\n",
      "[0.85714286 0.84415584 0.84415584 0.83116883 0.81818182 0.77922078\n",
      " 0.84415584 0.85714286 0.81578947 0.90789474] \n",
      "\n",
      "CART: 0.839901 (0.031754)\n",
      "name : RF\n",
      "model : RandomForestClassifier(random_state=1234)\n",
      "[0.92207792 0.90909091 0.83116883 0.85714286 0.83116883 0.92207792\n",
      " 0.88311688 0.92207792 0.88157895 0.90789474] \n",
      "\n",
      "RF: 0.886740 (0.034330)\n",
      "name : SVM\n",
      "model : SVC(gamma='auto', random_state=1234)\n",
      "[0.90909091 0.83116883 0.79220779 0.85714286 0.85714286 0.87012987\n",
      " 0.83116883 0.87012987 0.81578947 0.82894737] \n",
      "\n",
      "SVM: 0.846292 (0.031511)\n",
      "name : XGB\n",
      "model : GradientBoostingClassifier(random_state=1234)\n",
      "[0.8961039  0.84415584 0.85714286 0.84415584 0.83116883 0.88311688\n",
      " 0.88311688 0.90909091 0.92105263 0.92105263] \n",
      "\n",
      "XGB: 0.879016 (0.031563)\n",
      "name : LightGBM\n",
      "model : LGBMClassifier(random_state=1234)\n",
      "[0.8961039  0.8961039  0.81818182 0.88311688 0.81818182 0.88311688\n",
      " 0.92207792 0.8961039  0.90789474 0.92105263] \n",
      "\n",
      "LightGBM: 0.884193 (0.035353)\n"
     ]
    }
   ],
   "source": [
    "results_sc = []       # scaled results\n",
    "names_sc   = []       \n",
    "\n",
    "for name, model in models_sc:\n",
    "    print(\"name :\",name)\n",
    "    print(\"model :\",model)\n",
    "    \n",
    "#     kfold = KFold(n_splits = 10)\n",
    "        \n",
    "    cv_results = cross_val_score(model, x2, y, cv = 10, scoring= \"accuracy\")\n",
    "    print(cv_results,\"\\n\")\n",
    "    results_sc.append(cv_results)\n",
    "    names_sc.append(name)\n",
    "    msg = \"%s: %f (%f)\" % (name, cv_results.mean(), cv_results.std())\n",
    "    print(msg)"
   ]
  },
  {
   "cell_type": "code",
   "execution_count": 74,
   "id": "1e14abb1",
   "metadata": {
    "ExecuteTime": {
     "end_time": "2021-12-30T19:05:12.061715Z",
     "start_time": "2021-12-30T19:05:11.843609Z"
    }
   },
   "outputs": [
    {
     "data": {
      "text/plain": [
       "<AxesSubplot:>"
      ]
     },
     "execution_count": 74,
     "metadata": {},
     "output_type": "execute_result"
    },
    {
     "data": {
      "image/png": "[encoded data removed]",
      "text/plain": [
       "<Figure size 864x576 with 1 Axes>"
      ]
     },
     "metadata": {
      "needs_background": "light"
     },
     "output_type": "display_data"
    }
   ],
   "source": [
    "results_df_sc = pd.DataFrame(np.array(results_sc).transpose(),columns=names_sc)\n",
    "plt.figure(figsize=[12,8])\n",
    "sns.boxplot(data=results_df_sc)"
   ]
  },
  {
   "cell_type": "markdown",
   "id": "8a82022e",
   "metadata": {
    "ExecuteTime": {
     "end_time": "2021-12-30T18:50:45.489350Z",
     "start_time": "2021-12-30T18:50:45.070479Z"
    }
   },
   "source": [
    "### original vs scaled data results comparison"
   ]
  },
  {
   "cell_type": "code",
   "execution_count": 114,
   "id": "dbe994de",
   "metadata": {
    "ExecuteTime": {
     "end_time": "2021-12-30T19:40:50.027935Z",
     "start_time": "2021-12-30T19:40:49.187456Z"
    }
   },
   "outputs": [
    {
     "data": {
      "text/plain": [
       "<Figure size 864x576 with 0 Axes>"
      ]
     },
     "metadata": {},
     "output_type": "display_data"
    },
    {
     "data": {
      "image/png": "[encoded data removed]",
      "text/plain": [
       "<Figure size 1440x576 with 2 Axes>"
      ]
     },
     "metadata": {
      "needs_background": "light"
     },
     "output_type": "display_data"
    }
   ],
   "source": [
    "plt.figure(figsize=[12,8])\n",
    "fig, (ax1, ax2) = plt.subplots(1,2, figsize=(20,8))\n",
    "sns.boxplot(data=results_df_i, ax=ax1)\n",
    "sns.boxplot(data=results_df_sc,ax=ax2)\n",
    "ax1.set_title('Before Scaling',fontdict={'fontsize':15})\n",
    "ax1.set_ylim(0.6,0.95)\n",
    "ax2.set_title('After Scaling',fontdict={'fontsize':15})\n",
    "ax2.set_ylim(0.6,0.95)\n",
    "plt.show()\n",
    "\n"
   ]
  },
  {
   "cell_type": "markdown",
   "id": "b04cfa9c",
   "metadata": {},
   "source": [
    "### scaling effect side by side"
   ]
  },
  {
   "cell_type": "code",
   "execution_count": 115,
   "id": "25f3f4fe",
   "metadata": {
    "ExecuteTime": {
     "end_time": "2021-12-30T19:44:46.574442Z",
     "start_time": "2021-12-30T19:44:46.559022Z"
    }
   },
   "outputs": [
    {
     "data": {
      "text/html": [
       "<div>\n",
       "<style scoped>\n",
       "    .dataframe tbody tr th:only-of-type {\n",
       "        vertical-align: middle;\n",
       "    }\n",
       "\n",
       "    .dataframe tbody tr th {\n",
       "        vertical-align: top;\n",
       "    }\n",
       "\n",
       "    .dataframe thead th {\n",
       "        text-align: right;\n",
       "    }\n",
       "</style>\n",
       "<table border=\"1\" class=\"dataframe\">\n",
       "  <thead>\n",
       "    <tr style=\"text-align: right;\">\n",
       "      <th></th>\n",
       "      <th>LR</th>\n",
       "      <th>KNN</th>\n",
       "      <th>CART</th>\n",
       "      <th>RF</th>\n",
       "      <th>SVM</th>\n",
       "      <th>XGB</th>\n",
       "      <th>LightGBM</th>\n",
       "      <th>status</th>\n",
       "    </tr>\n",
       "  </thead>\n",
       "  <tbody>\n",
       "    <tr>\n",
       "      <th>0</th>\n",
       "      <td>0.896104</td>\n",
       "      <td>0.857143</td>\n",
       "      <td>0.857143</td>\n",
       "      <td>0.922078</td>\n",
       "      <td>0.649351</td>\n",
       "      <td>0.896104</td>\n",
       "      <td>0.883117</td>\n",
       "      <td>before_scaling</td>\n",
       "    </tr>\n",
       "    <tr>\n",
       "      <th>1</th>\n",
       "      <td>0.844156</td>\n",
       "      <td>0.883117</td>\n",
       "      <td>0.844156</td>\n",
       "      <td>0.883117</td>\n",
       "      <td>0.649351</td>\n",
       "      <td>0.844156</td>\n",
       "      <td>0.896104</td>\n",
       "      <td>before_scaling</td>\n",
       "    </tr>\n",
       "    <tr>\n",
       "      <th>2</th>\n",
       "      <td>0.831169</td>\n",
       "      <td>0.844156</td>\n",
       "      <td>0.844156</td>\n",
       "      <td>0.831169</td>\n",
       "      <td>0.649351</td>\n",
       "      <td>0.857143</td>\n",
       "      <td>0.831169</td>\n",
       "      <td>before_scaling</td>\n",
       "    </tr>\n",
       "    <tr>\n",
       "      <th>3</th>\n",
       "      <td>0.896104</td>\n",
       "      <td>0.831169</td>\n",
       "      <td>0.831169</td>\n",
       "      <td>0.857143</td>\n",
       "      <td>0.649351</td>\n",
       "      <td>0.844156</td>\n",
       "      <td>0.883117</td>\n",
       "      <td>before_scaling</td>\n",
       "    </tr>\n",
       "    <tr>\n",
       "      <th>4</th>\n",
       "      <td>0.870130</td>\n",
       "      <td>0.831169</td>\n",
       "      <td>0.818182</td>\n",
       "      <td>0.844156</td>\n",
       "      <td>0.649351</td>\n",
       "      <td>0.831169</td>\n",
       "      <td>0.831169</td>\n",
       "      <td>before_scaling</td>\n",
       "    </tr>\n",
       "    <tr>\n",
       "      <th>5</th>\n",
       "      <td>0.909091</td>\n",
       "      <td>0.883117</td>\n",
       "      <td>0.779221</td>\n",
       "      <td>0.922078</td>\n",
       "      <td>0.649351</td>\n",
       "      <td>0.883117</td>\n",
       "      <td>0.896104</td>\n",
       "      <td>before_scaling</td>\n",
       "    </tr>\n",
       "    <tr>\n",
       "      <th>6</th>\n",
       "      <td>0.831169</td>\n",
       "      <td>0.818182</td>\n",
       "      <td>0.857143</td>\n",
       "      <td>0.883117</td>\n",
       "      <td>0.649351</td>\n",
       "      <td>0.883117</td>\n",
       "      <td>0.896104</td>\n",
       "      <td>before_scaling</td>\n",
       "    </tr>\n",
       "    <tr>\n",
       "      <th>7</th>\n",
       "      <td>0.883117</td>\n",
       "      <td>0.883117</td>\n",
       "      <td>0.857143</td>\n",
       "      <td>0.935065</td>\n",
       "      <td>0.649351</td>\n",
       "      <td>0.909091</td>\n",
       "      <td>0.922078</td>\n",
       "      <td>before_scaling</td>\n",
       "    </tr>\n",
       "    <tr>\n",
       "      <th>8</th>\n",
       "      <td>0.776316</td>\n",
       "      <td>0.855263</td>\n",
       "      <td>0.828947</td>\n",
       "      <td>0.894737</td>\n",
       "      <td>0.657895</td>\n",
       "      <td>0.921053</td>\n",
       "      <td>0.934211</td>\n",
       "      <td>before_scaling</td>\n",
       "    </tr>\n",
       "    <tr>\n",
       "      <th>9</th>\n",
       "      <td>0.802632</td>\n",
       "      <td>0.828947</td>\n",
       "      <td>0.907895</td>\n",
       "      <td>0.907895</td>\n",
       "      <td>0.657895</td>\n",
       "      <td>0.921053</td>\n",
       "      <td>0.907895</td>\n",
       "      <td>before_scaling</td>\n",
       "    </tr>\n",
       "    <tr>\n",
       "      <th>0</th>\n",
       "      <td>0.870130</td>\n",
       "      <td>0.870130</td>\n",
       "      <td>0.857143</td>\n",
       "      <td>0.922078</td>\n",
       "      <td>0.909091</td>\n",
       "      <td>0.896104</td>\n",
       "      <td>0.896104</td>\n",
       "      <td>after_scaling</td>\n",
       "    </tr>\n",
       "    <tr>\n",
       "      <th>1</th>\n",
       "      <td>0.857143</td>\n",
       "      <td>0.857143</td>\n",
       "      <td>0.844156</td>\n",
       "      <td>0.909091</td>\n",
       "      <td>0.831169</td>\n",
       "      <td>0.844156</td>\n",
       "      <td>0.896104</td>\n",
       "      <td>after_scaling</td>\n",
       "    </tr>\n",
       "    <tr>\n",
       "      <th>2</th>\n",
       "      <td>0.805195</td>\n",
       "      <td>0.831169</td>\n",
       "      <td>0.844156</td>\n",
       "      <td>0.831169</td>\n",
       "      <td>0.792208</td>\n",
       "      <td>0.857143</td>\n",
       "      <td>0.818182</td>\n",
       "      <td>after_scaling</td>\n",
       "    </tr>\n",
       "    <tr>\n",
       "      <th>3</th>\n",
       "      <td>0.857143</td>\n",
       "      <td>0.883117</td>\n",
       "      <td>0.831169</td>\n",
       "      <td>0.857143</td>\n",
       "      <td>0.857143</td>\n",
       "      <td>0.844156</td>\n",
       "      <td>0.883117</td>\n",
       "      <td>after_scaling</td>\n",
       "    </tr>\n",
       "    <tr>\n",
       "      <th>4</th>\n",
       "      <td>0.870130</td>\n",
       "      <td>0.831169</td>\n",
       "      <td>0.818182</td>\n",
       "      <td>0.831169</td>\n",
       "      <td>0.857143</td>\n",
       "      <td>0.831169</td>\n",
       "      <td>0.818182</td>\n",
       "      <td>after_scaling</td>\n",
       "    </tr>\n",
       "    <tr>\n",
       "      <th>5</th>\n",
       "      <td>0.896104</td>\n",
       "      <td>0.870130</td>\n",
       "      <td>0.779221</td>\n",
       "      <td>0.922078</td>\n",
       "      <td>0.870130</td>\n",
       "      <td>0.883117</td>\n",
       "      <td>0.883117</td>\n",
       "      <td>after_scaling</td>\n",
       "    </tr>\n",
       "    <tr>\n",
       "      <th>6</th>\n",
       "      <td>0.818182</td>\n",
       "      <td>0.818182</td>\n",
       "      <td>0.844156</td>\n",
       "      <td>0.883117</td>\n",
       "      <td>0.831169</td>\n",
       "      <td>0.883117</td>\n",
       "      <td>0.922078</td>\n",
       "      <td>after_scaling</td>\n",
       "    </tr>\n",
       "    <tr>\n",
       "      <th>7</th>\n",
       "      <td>0.870130</td>\n",
       "      <td>0.883117</td>\n",
       "      <td>0.857143</td>\n",
       "      <td>0.922078</td>\n",
       "      <td>0.870130</td>\n",
       "      <td>0.909091</td>\n",
       "      <td>0.896104</td>\n",
       "      <td>after_scaling</td>\n",
       "    </tr>\n",
       "    <tr>\n",
       "      <th>8</th>\n",
       "      <td>0.789474</td>\n",
       "      <td>0.828947</td>\n",
       "      <td>0.815789</td>\n",
       "      <td>0.881579</td>\n",
       "      <td>0.815789</td>\n",
       "      <td>0.921053</td>\n",
       "      <td>0.907895</td>\n",
       "      <td>after_scaling</td>\n",
       "    </tr>\n",
       "    <tr>\n",
       "      <th>9</th>\n",
       "      <td>0.842105</td>\n",
       "      <td>0.855263</td>\n",
       "      <td>0.907895</td>\n",
       "      <td>0.907895</td>\n",
       "      <td>0.828947</td>\n",
       "      <td>0.921053</td>\n",
       "      <td>0.921053</td>\n",
       "      <td>after_scaling</td>\n",
       "    </tr>\n",
       "  </tbody>\n",
       "</table>\n",
       "</div>"
      ],
      "text/plain": [
       "         LR       KNN      CART        RF       SVM       XGB  LightGBM  \\\n",
       "0  0.896104  0.857143  0.857143  0.922078  0.649351  0.896104  0.883117   \n",
       "1  0.844156  0.883117  0.844156  0.883117  0.649351  0.844156  0.896104   \n",
       "2  0.831169  0.844156  0.844156  0.831169  0.649351  0.857143  0.831169   \n",
       "3  0.896104  0.831169  0.831169  0.857143  0.649351  0.844156  0.883117   \n",
       "4  0.870130  0.831169  0.818182  0.844156  0.649351  0.831169  0.831169   \n",
       "5  0.909091  0.883117  0.779221  0.922078  0.649351  0.883117  0.896104   \n",
       "6  0.831169  0.818182  0.857143  0.883117  0.649351  0.883117  0.896104   \n",
       "7  0.883117  0.883117  0.857143  0.935065  0.649351  0.909091  0.922078   \n",
       "8  0.776316  0.855263  0.828947  0.894737  0.657895  0.921053  0.934211   \n",
       "9  0.802632  0.828947  0.907895  0.907895  0.657895  0.921053  0.907895   \n",
       "0  0.870130  0.870130  0.857143  0.922078  0.909091  0.896104  0.896104   \n",
       "1  0.857143  0.857143  0.844156  0.909091  0.831169  0.844156  0.896104   \n",
       "2  0.805195  0.831169  0.844156  0.831169  0.792208  0.857143  0.818182   \n",
       "3  0.857143  0.883117  0.831169  0.857143  0.857143  0.844156  0.883117   \n",
       "4  0.870130  0.831169  0.818182  0.831169  0.857143  0.831169  0.818182   \n",
       "5  0.896104  0.870130  0.779221  0.922078  0.870130  0.883117  0.883117   \n",
       "6  0.818182  0.818182  0.844156  0.883117  0.831169  0.883117  0.922078   \n",
       "7  0.870130  0.883117  0.857143  0.922078  0.870130  0.909091  0.896104   \n",
       "8  0.789474  0.828947  0.815789  0.881579  0.815789  0.921053  0.907895   \n",
       "9  0.842105  0.855263  0.907895  0.907895  0.828947  0.921053  0.921053   \n",
       "\n",
       "           status  \n",
       "0  before_scaling  \n",
       "1  before_scaling  \n",
       "2  before_scaling  \n",
       "3  before_scaling  \n",
       "4  before_scaling  \n",
       "5  before_scaling  \n",
       "6  before_scaling  \n",
       "7  before_scaling  \n",
       "8  before_scaling  \n",
       "9  before_scaling  \n",
       "0   after_scaling  \n",
       "1   after_scaling  \n",
       "2   after_scaling  \n",
       "3   after_scaling  \n",
       "4   after_scaling  \n",
       "5   after_scaling  \n",
       "6   after_scaling  \n",
       "7   after_scaling  \n",
       "8   after_scaling  \n",
       "9   after_scaling  "
      ]
     },
     "execution_count": 115,
     "metadata": {},
     "output_type": "execute_result"
    }
   ],
   "source": [
    "r_b = results_df_i.copy()\n",
    "r_b['status'] = 'before_scaling'\n",
    "r_a = results_df_sc.copy()\n",
    "r_a['status'] = 'after_scaling'\n",
    "scaling_comparison_results = pd.concat([r_b,r_a])\n",
    "scaling_comparison_results"
   ]
  },
  {
   "cell_type": "code",
   "execution_count": 116,
   "id": "08ca4df2",
   "metadata": {
    "ExecuteTime": {
     "end_time": "2021-12-30T19:45:27.214204Z",
     "start_time": "2021-12-30T19:45:26.823507Z"
    }
   },
   "outputs": [
    {
     "data": {
      "text/plain": [
       "<AxesSubplot:xlabel='variable', ylabel='value'>"
      ]
     },
     "execution_count": 116,
     "metadata": {},
     "output_type": "execute_result"
    },
    {
     "data": {
      "image/png": "[encoded data removed]",
      "text/plain": [
       "<Figure size 864x576 with 1 Axes>"
      ]
     },
     "metadata": {
      "needs_background": "light"
     },
     "output_type": "display_data"
    }
   ],
   "source": [
    "plt.figure(figsize=[12,8])\n",
    "sns.boxplot(data=scaling_comparison_results.melt(id_vars='status'),x='variable',y='value',hue='status')"
   ]
  },
  {
   "cell_type": "markdown",
   "id": "00b398fe",
   "metadata": {},
   "source": [
    "the only improvement after scaling is for SVM. "
   ]
  }
 ],
 "metadata": {
  "kernelspec": {
   "display_name": "Python 3 (ipykernel)",
   "language": "python",
   "name": "python3"
  },
  "language_info": {
   "codemirror_mode": {
    "name": "ipython",
    "version": 3
   },
   "file_extension": ".py",
   "mimetype": "text/x-python",
   "name": "python",
   "nbconvert_exporter": "python",
   "pygments_lexer": "ipython3",
   "version": "3.8.12"
  },
  "toc": {
   "base_numbering": 1,
   "nav_menu": {},
   "number_sections": false,
   "sideBar": true,
   "skip_h1_title": false,
   "title_cell": "Table of Contents",
   "title_sidebar": "Contents",
   "toc_cell": false,
   "toc_position": {
    "height": "calc(100% - 180px)",
    "left": "10px",
    "top": "150px",
    "width": "303.263px"
   },
   "toc_section_display": true,
   "toc_window_display": true
  },
  "varInspector": {
   "cols": {
    "lenName": 16,
    "lenType": 16,
    "lenVar": 40
   },
   "kernels_config": {
    "python": {
     "delete_cmd_postfix": "",
     "delete_cmd_prefix": "del ",
     "library": "var_list.py",
     "varRefreshCmd": "print(var_dic_list())"
    },
    "r": {
     "delete_cmd_postfix": ") ",
     "delete_cmd_prefix": "rm(",
     "library": "var_list.r",
     "varRefreshCmd": "cat(var_dic_list()) "
    }
   },
   "types_to_exclude": [
    "module",
    "function",
    "builtin_function_or_method",
    "instance",
    "_Feature"
   ],
   "window_display": false
  }
 },
 "nbformat": 4,
 "nbformat_minor": 5
}
